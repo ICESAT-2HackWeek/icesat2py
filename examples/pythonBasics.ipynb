{
  "nbformat": 4,
  "nbformat_minor": 0,
  "metadata": {
    "colab": {
      "name": "pythonBasics.ipynb",
      "provenance": [],
      "toc_visible": true
    },
    "kernelspec": {
      "name": "python3",
      "display_name": "Python 3"
    }
  },
  "cells": [
    {
      "cell_type": "markdown",
      "metadata": {
        "id": "nEkUcKNNoroO"
      },
      "source": [
        "# Python Basics"
      ]
    },
    {
      "cell_type": "markdown",
      "metadata": {
        "id": "rA4lXQDXpvSf"
      },
      "source": [
        "## Objects"
      ]
    },
    {
      "cell_type": "markdown",
      "metadata": {
        "id": "fbOG1mj1p15a"
      },
      "source": [
        "Everything in Python is an \"object\". Objects can be variables, functions, data structures, etc. What they all have in common is that they each have a uniquie identifier such they they can be referenced in memory. "
      ]
    },
    {
      "cell_type": "code",
      "metadata": {
        "id": "IxWZKccBrfp7"
      },
      "source": [
        "import numpy as np\n",
        "import random\n",
        "import time"
      ],
      "execution_count": 1,
      "outputs": []
    },
    {
      "cell_type": "code",
      "metadata": {
        "colab": {
          "base_uri": "https://localhost:8080/"
        },
        "id": "sEEfWrsjorJm",
        "outputId": "dd7df193-a128-418d-dbec-98a95e31dc8e"
      },
      "source": [
        "# Let's look at a numpy array as an example\n",
        "a = np.array([[3,1,4,1,5,9], [2,7,1,8,2,8]])\n",
        "print(a)"
      ],
      "execution_count": 2,
      "outputs": [
        {
          "output_type": "stream",
          "text": [
            "[[3 1 4 1 5 9]\n",
            " [2 7 1 8 2 8]]\n"
          ],
          "name": "stdout"
        }
      ]
    },
    {
      "cell_type": "markdown",
      "metadata": {
        "id": "9HxV635Er1mP"
      },
      "source": [
        "Objects have \"attributes\" \\\\\n",
        "we can access these attributes using a period after the variable name"
      ]
    },
    {
      "cell_type": "code",
      "metadata": {
        "colab": {
          "base_uri": "https://localhost:8080/"
        },
        "id": "l_t3-Zk0roxJ",
        "outputId": "e12d01ea-64d3-4119-d83f-59ee631b6fc1"
      },
      "source": [
        "# arrays have a shape and size\n",
        "print(a.shape, a.size)"
      ],
      "execution_count": 3,
      "outputs": [
        {
          "output_type": "stream",
          "text": [
            "(2, 6) 12\n"
          ],
          "name": "stdout"
        }
      ]
    },
    {
      "cell_type": "markdown",
      "metadata": {
        "id": "FV07cEhktZ39"
      },
      "source": [
        "Objects also have \"methods\". These are actions that the object knows how to do. \\\\\n",
        "We also call methods using a period after the variable name. We can tell the difference between an attribute and a method because methods are always followed by parentheses () which may or may not contain additional arguemnets."
      ]
    },
    {
      "cell_type": "code",
      "metadata": {
        "colab": {
          "base_uri": "https://localhost:8080/"
        },
        "id": "Btw1Rv3rsECD",
        "outputId": "7a8b5d3c-3228-4cc9-d28c-e1b8d2021edc"
      },
      "source": [
        "# arrays can be sorted\n",
        "a.sort()\n",
        "print(a)"
      ],
      "execution_count": 4,
      "outputs": [
        {
          "output_type": "stream",
          "text": [
            "[[1 1 3 4 5 9]\n",
            " [1 2 2 7 8 8]]\n"
          ],
          "name": "stdout"
        }
      ]
    },
    {
      "cell_type": "code",
      "metadata": {
        "colab": {
          "base_uri": "https://localhost:8080/"
        },
        "id": "60PBSsczs2rK",
        "outputId": "0c1ad924-dde0-4d68-f57e-82040ed565ac"
      },
      "source": [
        "a.sort(axis=0)\n",
        "print(a)"
      ],
      "execution_count": 5,
      "outputs": [
        {
          "output_type": "stream",
          "text": [
            "[[1 1 2 4 5 8]\n",
            " [1 2 3 7 8 9]]\n"
          ],
          "name": "stdout"
        }
      ]
    },
    {
      "cell_type": "markdown",
      "metadata": {
        "id": "5x0XRGRh12NI"
      },
      "source": [
        "## Lists vs. Dictionaries"
      ]
    },
    {
      "cell_type": "markdown",
      "metadata": {
        "id": "1nfcadZj2P0d"
      },
      "source": [
        "Let's say I want to store the phone numbers of all my friends. We need to couple a name to a phone number. There are multiple ways to do this."
      ]
    },
    {
      "cell_type": "code",
      "metadata": {
        "colab": {
          "base_uri": "https://localhost:8080/"
        },
        "id": "mzeM8reL2nmN",
        "outputId": "956d94e9-6821-4887-d74f-ee708182bf5f"
      },
      "source": [
        "my_friends = ['Elmo', 'Oscar', 'Big Bird', 'Cookie Monster', 'Ernie', 'Bert', 'Grover']\n",
        "# We can use a list of tuples, or a dictionary for instance\n",
        "phone_list = []\n",
        "phone_dict = {}\n",
        "for friend in my_friends:\n",
        "  phone_num = random.randint(100,999)\n",
        "  phone_list.append((friend, phone_num))\n",
        "  phone_dict[friend] = phone_num\n",
        "\n",
        "print(phone_list)\n",
        "print(phone_dict)"
      ],
      "execution_count": 6,
      "outputs": [
        {
          "output_type": "stream",
          "text": [
            "[('Elmo', 325), ('Oscar', 760), ('Big Bird', 299), ('Cookie Monster', 399), ('Ernie', 563), ('Bert', 448), ('Grover', 687)]\n",
            "{'Elmo': 325, 'Oscar': 760, 'Big Bird': 299, 'Cookie Monster': 399, 'Ernie': 563, 'Bert': 448, 'Grover': 687}\n"
          ],
          "name": "stdout"
        }
      ]
    },
    {
      "cell_type": "code",
      "metadata": {
        "colab": {
          "base_uri": "https://localhost:8080/"
        },
        "id": "Ag5yZ3Or5ebt",
        "outputId": "4ea471ee-18d2-4a1d-8781-ec43b0c6e659"
      },
      "source": [
        "# dictionaries are objects with attributes \"keys\" and \"values\"\n",
        "\n",
        "# keys are used for indexing\n",
        "print(phone_dict.keys())\n",
        "\n",
        "# values are what is stored under the key index\n",
        "print(phone_dict.values())\n",
        "\n",
        "'''\n",
        "note: we're calling the keys and values as methods so python returns their\n",
        "string representation rather than a memory address to where the key and value\n",
        "objects are kept in memory\n",
        "'''"
      ],
      "execution_count": 78,
      "outputs": [
        {
          "output_type": "stream",
          "text": [
            "dict_keys(['Elmo', 'Oscar', 'Big Bird', 'Cookie Monster', 'Ernie', 'Bert', 'Grover'])\n",
            "dict_values([804, 190, 721, 751, 524, 639, 903])\n"
          ],
          "name": "stdout"
        }
      ]
    },
    {
      "cell_type": "code",
      "metadata": {
        "colab": {
          "base_uri": "https://localhost:8080/"
        },
        "id": "4qM7ZK474UKN",
        "outputId": "9abacf3a-ebe6-495f-81f2-453a672395b8"
      },
      "source": [
        "# suppose we want to find Elmo's phone number\n",
        "\n",
        "# list version\n",
        "for i in phone_list:\n",
        "  if i[0] == 'Elmo':\n",
        "    print(\"Elmo's phone number:\", i[1])\n",
        "\n",
        "\n",
        "# dictioary version\n",
        "print(\"Elmo's phone number:\", phone_dict['Elmo'])"
      ],
      "execution_count": 73,
      "outputs": [
        {
          "output_type": "stream",
          "text": [
            "Elmo's phone number: 804\n",
            "Elmo's phone number: 804\n"
          ],
          "name": "stdout"
        }
      ]
    },
    {
      "cell_type": "markdown",
      "metadata": {
        "id": "sayuZwDp16Ey"
      },
      "source": [
        "Dictionaries are much faster than lists!"
      ]
    },
    {
      "cell_type": "code",
      "metadata": {
        "id": "tTPYUzgIt_iM"
      },
      "source": [
        "n = 10000000\n",
        "\n",
        "rand_dict = {}\n",
        "rand_list = [None] * n # initialize an empty list\n",
        "\n",
        "for i in range(n):\n",
        "  num = random.randint(0,n)\n",
        "  rand_dict[num] = True\n",
        "  rand_list[i] = num"
      ],
      "execution_count": 61,
      "outputs": []
    },
    {
      "cell_type": "code",
      "metadata": {
        "colab": {
          "base_uri": "https://localhost:8080/"
        },
        "id": "hTm7UNS6whBg",
        "outputId": "a5c229fe-0589-4817-e3bb-6fd636a8b108"
      },
      "source": [
        "test_num = 165164580000\n",
        "start = time.time()\n",
        "print(test_num in rand_dict)\n",
        "end = time.time()\n",
        "print('Time elapsed:', end - start)"
      ],
      "execution_count": 74,
      "outputs": [
        {
          "output_type": "stream",
          "text": [
            "False\n",
            "Time elapsed: 0.0005800724029541016\n"
          ],
          "name": "stdout"
        }
      ]
    },
    {
      "cell_type": "code",
      "metadata": {
        "colab": {
          "base_uri": "https://localhost:8080/"
        },
        "id": "bjAdvzA2yRev",
        "outputId": "8c75b92d-9ea8-4c19-927f-3888005b7499"
      },
      "source": [
        "start = time.time()\n",
        "print(test_num in rand_list)\n",
        "end = time.time()\n",
        "print('Time elapsed:', end - start)"
      ],
      "execution_count": 75,
      "outputs": [
        {
          "output_type": "stream",
          "text": [
            "False\n",
            "Time elapsed: 0.14993977546691895\n"
          ],
          "name": "stdout"
        }
      ]
    },
    {
      "cell_type": "markdown",
      "metadata": {
        "id": "x0XEZiq35XSK"
      },
      "source": [
        "Each obviosly has their place. If you need quick acess to *unsorted* values, use a dictionary. If speed isn't an issue and you want to be able to sort your values, use a list"
      ]
    },
    {
      "cell_type": "markdown",
      "metadata": {
        "id": "jQM5HXNB6tfV"
      },
      "source": [
        "## A note on lists and pointers"
      ]
    },
    {
      "cell_type": "code",
      "metadata": {
        "colab": {
          "base_uri": "https://localhost:8080/"
        },
        "id": "UU4Iu-Pa1PPe",
        "outputId": "cf7b00e1-b017-48ef-b16b-0389ca21c5f8"
      },
      "source": [
        "# let's deine a list\n",
        "a = [1,2,3,4,5]\n",
        "print(a)"
      ],
      "execution_count": 80,
      "outputs": [
        {
          "output_type": "stream",
          "text": [
            "[1, 2, 3, 4, 5]\n"
          ],
          "name": "stdout"
        }
      ]
    },
    {
      "cell_type": "code",
      "metadata": {
        "colab": {
          "base_uri": "https://localhost:8080/"
        },
        "id": "ZpPRWy-X63nq",
        "outputId": "17cb704c-b281-4356-8092-e494ccca4040"
      },
      "source": [
        "# let's say we want another list just like a\n",
        "b = a\n",
        "print(b)"
      ],
      "execution_count": 81,
      "outputs": [
        {
          "output_type": "stream",
          "text": [
            "[1, 2, 3, 4, 5]\n"
          ],
          "name": "stdout"
        }
      ]
    },
    {
      "cell_type": "markdown",
      "metadata": {
        "id": "m0NZOoZc7LOp"
      },
      "source": [
        "b is a *pointer* to list a. Think of this as a home address to where a lives in memory. If we modify b, it also updates a because it is *pointing* to the same spot in memory."
      ]
    },
    {
      "cell_type": "code",
      "metadata": {
        "colab": {
          "base_uri": "https://localhost:8080/"
        },
        "id": "Ausj0mS17B3o",
        "outputId": "c57b1ff0-36ce-4ca9-d4c6-4a139d593920"
      },
      "source": [
        "b[3] = 7\n",
        "print(b)\n",
        "print(a)"
      ],
      "execution_count": 82,
      "outputs": [
        {
          "output_type": "stream",
          "text": [
            "[1, 2, 3, 7, 5]\n",
            "[1, 2, 3, 7, 5]\n"
          ],
          "name": "stdout"
        }
      ]
    },
    {
      "cell_type": "code",
      "metadata": {
        "colab": {
          "base_uri": "https://localhost:8080/"
        },
        "id": "-ikkTN978Cn2",
        "outputId": "0cbf0629-0511-468a-c99c-17562f92eb0a"
      },
      "source": [
        "# a and b, are both stil pointers to the same place in memory.\n",
        "# whatever we do to one, also applies to the other\n",
        "a[3] = 4\n",
        "print(a)\n",
        "print(b)"
      ],
      "execution_count": 85,
      "outputs": [
        {
          "output_type": "stream",
          "text": [
            "[1, 2, 3, 4, 5]\n",
            "[1, 2, 3, 4, 5]\n"
          ],
          "name": "stdout"
        }
      ]
    },
    {
      "cell_type": "markdown",
      "metadata": {
        "id": "WMVbzuSL7q4N"
      },
      "source": [
        "If we don't was a pointer to a, but rather a copy that we can modify independently, then we use the following syntax."
      ]
    },
    {
      "cell_type": "code",
      "metadata": {
        "colab": {
          "base_uri": "https://localhost:8080/"
        },
        "id": "cPkUyElC7oth",
        "outputId": "fe20d234-d66a-45f6-c5fa-e6c7a2f806cb"
      },
      "source": [
        "c = a[:]\n",
        "c[3] = 9\n",
        "print(c)\n",
        "print(a)"
      ],
      "execution_count": 86,
      "outputs": [
        {
          "output_type": "stream",
          "text": [
            "[1, 2, 3, 9, 5]\n",
            "[1, 2, 3, 4, 5]\n"
          ],
          "name": "stdout"
        }
      ]
    },
    {
      "cell_type": "code",
      "metadata": {
        "id": "QihgNnk6_GlH"
      },
      "source": [
        ""
      ],
      "execution_count": null,
      "outputs": []
    }
  ]
}