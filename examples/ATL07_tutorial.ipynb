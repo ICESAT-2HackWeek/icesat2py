{
 "cells": [
  {
   "cell_type": "code",
   "execution_count": 2,
   "metadata": {},
   "outputs": [
    {
     "name": "stdout",
     "output_type": "stream",
     "text": [
      "this will be my ATL07 workbook\n"
     ]
    }
   ],
   "source": [
    "print('this will be my ATL07 workbook')"
   ]
  },
  {
   "cell_type": "code",
   "execution_count": 1,
   "metadata": {},
   "outputs": [
    {
     "name": "stdout",
     "output_type": "stream",
     "text": [
      "Requirement already satisfied: icepyx in /Users/rominapiunno/opt/anaconda3/lib/python3.7/site-packages (0.0.11)\n",
      "Requirement already satisfied: shapely in /Users/rominapiunno/opt/anaconda3/lib/python3.7/site-packages (from icepyx) (1.7.1)\n",
      "Requirement already satisfied: matplotlib in /Users/rominapiunno/opt/anaconda3/lib/python3.7/site-packages (from icepyx) (3.1.3)\n",
      "Requirement already satisfied: h5py in /Users/rominapiunno/opt/anaconda3/lib/python3.7/site-packages (from icepyx) (2.10.0)\n",
      "Requirement already satisfied: fiona in /Users/rominapiunno/opt/anaconda3/lib/python3.7/site-packages (from icepyx) (1.8.13.post1)\n",
      "Requirement already satisfied: requests in /Users/rominapiunno/opt/anaconda3/lib/python3.7/site-packages (from icepyx) (2.22.0)\n",
      "Requirement already satisfied: numpy in /Users/rominapiunno/opt/anaconda3/lib/python3.7/site-packages (from icepyx) (1.18.1)\n",
      "Requirement already satisfied: geopandas in /Users/rominapiunno/opt/anaconda3/lib/python3.7/site-packages (from icepyx) (0.7.0)\n",
      "Requirement already satisfied: datetime in /Users/rominapiunno/opt/anaconda3/lib/python3.7/site-packages (from icepyx) (4.3)\n",
      "Requirement already satisfied: pyparsing!=2.0.4,!=2.1.2,!=2.1.6,>=2.0.1 in /Users/rominapiunno/opt/anaconda3/lib/python3.7/site-packages (from matplotlib->icepyx) (2.4.6)\n",
      "Requirement already satisfied: python-dateutil>=2.1 in /Users/rominapiunno/opt/anaconda3/lib/python3.7/site-packages (from matplotlib->icepyx) (2.8.1)\n",
      "Requirement already satisfied: cycler>=0.10 in /Users/rominapiunno/opt/anaconda3/lib/python3.7/site-packages (from matplotlib->icepyx) (0.10.0)\n",
      "Requirement already satisfied: kiwisolver>=1.0.1 in /Users/rominapiunno/opt/anaconda3/lib/python3.7/site-packages (from matplotlib->icepyx) (1.1.0)\n",
      "Requirement already satisfied: six in /Users/rominapiunno/opt/anaconda3/lib/python3.7/site-packages (from h5py->icepyx) (1.14.0)\n",
      "Requirement already satisfied: click-plugins>=1.0 in /Users/rominapiunno/opt/anaconda3/lib/python3.7/site-packages (from fiona->icepyx) (1.1.1)\n",
      "Requirement already satisfied: munch in /Users/rominapiunno/opt/anaconda3/lib/python3.7/site-packages (from fiona->icepyx) (2.5.0)\n",
      "Requirement already satisfied: click<8,>=4.0 in /Users/rominapiunno/opt/anaconda3/lib/python3.7/site-packages (from fiona->icepyx) (7.0)\n",
      "Requirement already satisfied: attrs>=17 in /Users/rominapiunno/opt/anaconda3/lib/python3.7/site-packages (from fiona->icepyx) (19.3.0)\n",
      "Requirement already satisfied: cligj>=0.5 in /Users/rominapiunno/opt/anaconda3/lib/python3.7/site-packages (from fiona->icepyx) (0.5.0)\n",
      "Requirement already satisfied: chardet<3.1.0,>=3.0.2 in /Users/rominapiunno/opt/anaconda3/lib/python3.7/site-packages (from requests->icepyx) (3.0.4)\n",
      "Requirement already satisfied: urllib3!=1.25.0,!=1.25.1,<1.26,>=1.21.1 in /Users/rominapiunno/opt/anaconda3/lib/python3.7/site-packages (from requests->icepyx) (1.25.8)\n",
      "Requirement already satisfied: certifi>=2017.4.17 in /Users/rominapiunno/opt/anaconda3/lib/python3.7/site-packages (from requests->icepyx) (2019.11.28)\n",
      "Requirement already satisfied: idna<2.9,>=2.5 in /Users/rominapiunno/opt/anaconda3/lib/python3.7/site-packages (from requests->icepyx) (2.8)\n",
      "Requirement already satisfied: pyproj>=2.2.0 in /Users/rominapiunno/opt/anaconda3/lib/python3.7/site-packages (from geopandas->icepyx) (2.6.1.post1)\n",
      "Requirement already satisfied: pandas>=0.23.0 in /Users/rominapiunno/opt/anaconda3/lib/python3.7/site-packages (from geopandas->icepyx) (1.0.1)\n",
      "Requirement already satisfied: zope.interface in /Users/rominapiunno/opt/anaconda3/lib/python3.7/site-packages (from datetime->icepyx) (5.1.0)\n",
      "Requirement already satisfied: pytz in /Users/rominapiunno/opt/anaconda3/lib/python3.7/site-packages (from datetime->icepyx) (2019.3)\n",
      "Requirement already satisfied: setuptools in /Users/rominapiunno/opt/anaconda3/lib/python3.7/site-packages (from kiwisolver>=1.0.1->matplotlib->icepyx) (46.0.0.post20200309)\n"
     ]
    }
   ],
   "source": [
    "! pip install icepyx"
   ]
  },
  {
   "cell_type": "code",
   "execution_count": null,
   "metadata": {},
   "outputs": [],
   "source": []
  },
  {
   "cell_type": "code",
   "execution_count": null,
   "metadata": {},
   "outputs": [],
   "source": []
  }
 ],
 "metadata": {
  "kernelspec": {
   "display_name": "Python 3",
   "language": "python",
   "name": "python3"
  },
  "language_info": {
   "codemirror_mode": {
    "name": "ipython",
    "version": 3
   },
   "file_extension": ".py",
   "mimetype": "text/x-python",
   "name": "python",
   "nbconvert_exporter": "python",
   "pygments_lexer": "ipython3",
   "version": "3.7.6"
  }
 },
 "nbformat": 4,
 "nbformat_minor": 4
}
