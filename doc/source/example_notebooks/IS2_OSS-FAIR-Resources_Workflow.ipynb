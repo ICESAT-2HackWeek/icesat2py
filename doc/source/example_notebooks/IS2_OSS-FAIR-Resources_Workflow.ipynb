{
 "cells": [
  {
   "cell_type": "markdown",
   "id": "11c71ca5",
   "metadata": {},
   "source": [
    "# Reproducible investigations of maritime glaciers using open-source tools\n",
    "This notebook ({nb-download}`download <IS2_OSS-FAIR-Resources_Workflow.ipynb>`) illustrates the use of multiple open-source tools (icepyx, IceFlow, SlideRule) for exploring an Alaskan maritime glacier.\n",
    "\n",
    "The notebook was designed for a presentation at the June 2022 International Glaciological Society (IGS) [International Symposium on Maritime Glaciers](https://www.igsoc.org/event/international-symposium-on-maritime-glaciers) in Juneau, Alaska, USA."
   ]
  },
  {
   "cell_type": "markdown",
   "id": "cc9b13a4",
   "metadata": {},
   "source": [
    "**Symposium Abstract:**\n",
    "Multiple open-source software (OSS) packages developed by and for the glaciological community enable rapid investigations of maritime glaciers. Focusing on Alaskan maritime glaciers, we illustrate how icepyx and other community-built software packages can be leveraged to quickly explore ICESat-2 data in combination with data from other sensors for a given glacier. The first tool showcased, the Python package icepyx, was created by the author in response to challenges faced by the glaciology community in accessing ICESat-2 data programmatically. With icepyx, we query and quickly visualize ICESat-2 data of the glacier. Then, we construct a time series of elevations spanning the ICESat, IceBridge, and ICESat-2 sensors using the NSIDC IceFlow package. Last, we customize our ICESat-2 data analyses with in-cloud processing using SlideRule. The workflow, encapsulated within an executable Jupyter Notebook, showcases the tools' ease of use for data access, analysis, and visualization while demonstrating the application of FAIR (Findable, Accessible, Interoperable, Reusable) principles and collaborative development in glaciological research.\n",
    "\n",
    "\n",
    "### Tools Showcased\n",
    " 1. [icepyx]()\n",
    " 2. [IceFlow]()\n",
    " 3. [SlideRule]()\n",
    "\n",
    "\n",
    "### Objectives\n",
    " 1. Showcase several open-source tools useful to glaciologists\n",
    " 2. Demonstrate the application of FAIR principles in glaciological research\n",
    " 3. Investigate a maritime glacier..."
   ]
  },
  {
   "cell_type": "markdown",
   "id": "e1e01051",
   "metadata": {},
   "source": [
    "# TO DO:\n",
    "- add links to tools\n",
    "- update science and FAIR objectives\n",
    "- add refs/source material\n",
    "- figures/images (use table Mikala made)\n",
    "\n",
    "## Maybe to-do:\n",
    "- get RGI from NSIDC via CMR, if it's an option"
   ]
  },
  {
   "cell_type": "markdown",
   "id": "52bbaeea",
   "metadata": {},
   "source": [
    "### Environment"
   ]
  },
  {
   "cell_type": "code",
   "execution_count": null,
   "id": "9b30fa92",
   "metadata": {},
   "outputs": [],
   "source": [
    "# import needed packages\n",
    "import geopandas as gpd\n",
    "import icepyx as ipx\n"
   ]
  },
  {
   "cell_type": "markdown",
   "id": "b9d5673a",
   "metadata": {},
   "source": [
    "The Randolph Glacier Inventory ([RGI](https://nsidc.org/data/nsidc-0770)), part of Global Land Ice Measurements from Space ([GLIMS](https://www.glims.org/)) provides glacier outlines. Here we'll open the Alaska glacier outlines into a GeoPandas DataFrame."
   ]
  },
  {
   "cell_type": "code",
   "execution_count": null,
   "id": "fba412ea",
   "metadata": {},
   "outputs": [],
   "source": [
    "# get RGI glacier polygons\n",
    "rgi_zip_fn = '01_rgi60_Alaska.zip'\n",
    "url = 'https://www.glims.org/RGI/rgi60_files/' + rgi_zip_fn\n",
    "ak_rgi_gdf = gpd.read_file(url)"
   ]
  },
  {
   "cell_type": "code",
   "execution_count": null,
   "id": "ea7927a9",
   "metadata": {},
   "outputs": [],
   "source": [
    "ak_rgi_gdf.head()"
   ]
  },
  {
   "cell_type": "code",
   "execution_count": null,
   "id": "c616fabf",
   "metadata": {},
   "outputs": [],
   "source": [
    "ak_rgi_gdf.plot()"
   ]
  },
  {
   "cell_type": "code",
   "execution_count": null,
   "id": "360ce42a",
   "metadata": {},
   "outputs": [],
   "source": [
    "# choose a glacier\n",
    "# ak_rgi_gdf[~ak_rgi_gdf[\"Name\"].isnull()]\n",
    "glac = ak_rgi_gdf[ak_rgi_gdf[\"Name\"] == \"Mendenhall Glacier\"]"
   ]
  },
  {
   "cell_type": "code",
   "execution_count": null,
   "id": "2b56d97e",
   "metadata": {},
   "outputs": [],
   "source": [
    "glac.plot()"
   ]
  },
  {
   "cell_type": "markdown",
   "id": "9b680450",
   "metadata": {},
   "source": [
    "### ICESat-2 data via icepyx"
   ]
  },
  {
   "cell_type": "code",
   "execution_count": null,
   "id": "125ff5d9",
   "metadata": {},
   "outputs": [],
   "source": [
    "# get exterior coordinates of the glacier polygon\n",
    "poly = list(glac.geometry.values[0].exterior.coords)"
   ]
  },
  {
   "cell_type": "code",
   "execution_count": null,
   "id": "9b43e866",
   "metadata": {},
   "outputs": [],
   "source": [
    "# create an icepyx Query object\n",
    "is2_glac = ipx.Query(spatial_extent=poly, \n",
    "                     date_range=['2019-02-20','2019-02-28'], \n",
    "                     product=\"ATL06\")"
   ]
  },
  {
   "cell_type": "code",
   "execution_count": null,
   "id": "11244658",
   "metadata": {},
   "outputs": [],
   "source": [
    "# visualize our outline on a map\n",
    "is2_glac.visualize_spatial_extent()"
   ]
  },
  {
   "cell_type": "code",
   "execution_count": null,
   "id": "8c4e4188",
   "metadata": {},
   "outputs": [],
   "source": [
    "# quick-view available ICESat-2 data with icepyx\n"
   ]
  },
  {
   "cell_type": "code",
   "execution_count": null,
   "id": "5cef73f4",
   "metadata": {},
   "outputs": [],
   "source": []
  },
  {
   "cell_type": "code",
   "execution_count": null,
   "id": "f86f63f5",
   "metadata": {},
   "outputs": [],
   "source": [
    "# download a longer time-series with IceFlow"
   ]
  },
  {
   "cell_type": "code",
   "execution_count": null,
   "id": "6aa7b053",
   "metadata": {},
   "outputs": [],
   "source": [
    "# get higher-resolution ICESat-2 data with SlideRule"
   ]
  },
  {
   "cell_type": "code",
   "execution_count": null,
   "id": "76c505c9",
   "metadata": {},
   "outputs": [],
   "source": []
  },
  {
   "cell_type": "code",
   "execution_count": null,
   "id": "b9af601a",
   "metadata": {},
   "outputs": [],
   "source": []
  },
  {
   "cell_type": "markdown",
   "id": "b36f20bc",
   "metadata": {},
   "source": [
    "**Credits**\n",
    "* notebook by: Jessica Scheick\n",
    "* notebook contributors: \n",
    "* source material: []() by ???"
   ]
  }
 ],
 "metadata": {
  "kernelspec": {
   "display_name": "Python 3 (ipykernel)",
   "language": "python",
   "name": "python3"
  },
  "language_info": {
   "codemirror_mode": {
    "name": "ipython",
    "version": 3
   },
   "file_extension": ".py",
   "mimetype": "text/x-python",
   "name": "python",
   "nbconvert_exporter": "python",
   "pygments_lexer": "ipython3",
   "version": "3.9.10"
  }
 },
 "nbformat": 4,
 "nbformat_minor": 5
}
