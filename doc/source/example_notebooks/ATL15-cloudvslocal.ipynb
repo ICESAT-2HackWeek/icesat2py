{
 "cells": [
  {
   "cell_type": "code",
   "execution_count": null,
   "id": "461fe4f4-337b-42eb-9f3b-f26a3d436542",
   "metadata": {},
   "outputs": [],
   "source": [
    "# for in cryocloud\n",
    "%pip install -e ~/icepyx"
   ]
  },
  {
   "cell_type": "code",
   "execution_count": null,
   "id": "cb0a1f61-4997-44cf-9ed1-e67b2adb04ea",
   "metadata": {},
   "outputs": [],
   "source": []
  },
  {
   "cell_type": "code",
   "execution_count": null,
   "id": "003984a3-cbef-4b02-9e46-4482fe2f4d2b",
   "metadata": {},
   "outputs": [],
   "source": [
    "import xarray as xr\n",
    "%load_ext autoreload\n",
    "import icepyx as ipx\n",
    "%autoreload 2"
   ]
  },
  {
   "cell_type": "code",
   "execution_count": null,
   "id": "5ed9f2b6-04c6-46d8-b7ff-84eb5dd7f6b8",
   "metadata": {},
   "outputs": [],
   "source": [
    "# cloud\n",
    "print(ipx.__version__)\n",
    "print(xr.__version__)"
   ]
  },
  {
   "cell_type": "code",
   "execution_count": null,
   "id": "7fc835c3-dedd-4aa4-a33b-4770522c1a77",
   "metadata": {},
   "outputs": [],
   "source": [
    "# local\n",
    "print(ipx.__version__)\n",
    "print(xr.__version__)"
   ]
  },
  {
   "cell_type": "code",
   "execution_count": null,
   "id": "52430dc8-bae8-407b-8508-6dc9036a9491",
   "metadata": {},
   "outputs": [],
   "source": [
    "# cloud\n",
    "data_source = 's3://nsidc-cumulus-prod-protected/ATLAS/ATL15/003/ATL15_GL_0318_01km_003_01.nc'\n",
    "reader = ipx.Read(data_source)\n",
    "print(reader.filelist)"
   ]
  },
  {
   "cell_type": "code",
   "execution_count": null,
   "id": "4092b2a9-7a03-4073-923d-642623d027e0",
   "metadata": {},
   "outputs": [],
   "source": [
    "# local\n",
    "data_source = '/Users/jessica/computing/icepyx/github_repo/icepyx/doc/source/example_notebooks/atl15/*01km*.nc'\n",
    "reader = ipx.Read(data_source, glob_kwargs={'recursive': True})\n",
    "print(reader.filelist)"
   ]
  },
  {
   "cell_type": "code",
   "execution_count": null,
   "id": "5d360f57-0d87-4e7f-aab7-83e0ebcccfe1",
   "metadata": {},
   "outputs": [],
   "source": [
    "reader = ipx.Read(data_source, glob_kwargs={'recursive': True})\n",
    "print(reader.filelist)"
   ]
  },
  {
   "cell_type": "code",
   "execution_count": null,
   "id": "d261c78e-6bff-4abb-bb17-7c66093c7997",
   "metadata": {},
   "outputs": [],
   "source": [
    "reader.vars.append(keyword_list=[\"delta_h\"])\n",
    "# reader.vars.append(keyword_list=[\"delta_h\", \"tile_stats\"])"
   ]
  },
  {
   "cell_type": "code",
   "execution_count": null,
   "id": "35aa1e58-8ba0-43fb-9c94-19872921ef9a",
   "metadata": {},
   "outputs": [],
   "source": [
    "# cloud\n",
    "reader.vars.wanted"
   ]
  },
  {
   "cell_type": "code",
   "execution_count": null,
   "id": "6b14c1c5-ae25-402d-9fff-feed3e769ca4",
   "metadata": {},
   "outputs": [],
   "source": [
    "# local\n",
    "reader.vars.wanted"
   ]
  },
  {
   "cell_type": "code",
   "execution_count": null,
   "id": "225b558b-c41a-4374-b775-bd8b7939e888",
   "metadata": {},
   "outputs": [],
   "source": [
    "ds = reader.load()"
   ]
  },
  {
   "cell_type": "code",
   "execution_count": null,
   "id": "a02f1603-e2df-4d80-a57b-26e1fd8dc3cb",
   "metadata": {},
   "outputs": [],
   "source": [
    "# cloud output\n",
    "ds"
   ]
  },
  {
   "cell_type": "code",
   "execution_count": null,
   "id": "f3a27eb5-0bb2-4211-925f-eea5c561020f",
   "metadata": {},
   "outputs": [],
   "source": [
    "# local output\n",
    "ds"
   ]
  }
 ],
 "metadata": {
  "kernelspec": {
   "display_name": "Python 3 (ipykernel)",
   "language": "python",
   "name": "python3"
  },
  "language_info": {
   "codemirror_mode": {
    "name": "ipython",
    "version": 3
   },
   "file_extension": ".py",
   "mimetype": "text/x-python",
   "name": "python",
   "nbconvert_exporter": "python",
   "pygments_lexer": "ipython3",
   "version": "3.12.1"
  }
 },
 "nbformat": 4,
 "nbformat_minor": 5
}
