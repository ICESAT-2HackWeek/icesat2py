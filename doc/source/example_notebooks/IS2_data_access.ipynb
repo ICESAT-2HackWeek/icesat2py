{
 "cells": [
  {
   "cell_type": "markdown",
   "metadata": {},
   "source": [
    "# Accessing ICESat-2 Data\n",
    "This notebook ({nb-download}`download <IS2_data_access.ipynb>`) illustrates the use of icepyx for programmatic ICESat-2 data query and download from the NASA NSIDC DAAC (NASA National Snow and Ice Data Center Distributed Active Archive Center).\n",
    "A complimentary notebook demonstrates in greater detail the [subsetting](https://icepyx.readthedocs.io/en/latest/example_notebooks/IS2_data_access2-subsetting.html) options available when ordering data."
   ]
  },
  {
   "cell_type": "markdown",
   "metadata": {},
   "source": [
    "Import packages, including icepyx"
   ]
  },
  {
   "cell_type": "code",
   "execution_count": 1,
   "metadata": {
    "tags": []
   },
   "outputs": [
    {
     "name": "stderr",
     "output_type": "stream",
     "text": [
      "/home/jovyan/envs/icepyx-dev/lib/python3.11/site-packages/tqdm/auto.py:21: TqdmWarning: IProgress not found. Please update jupyter and ipywidgets. See https://ipywidgets.readthedocs.io/en/stable/user_install.html\n",
      "  from .autonotebook import tqdm as notebook_tqdm\n"
     ]
    },
    {
     "data": {
      "application/javascript": [
       "(function(root) {\n",
       "  function now() {\n",
       "    return new Date();\n",
       "  }\n",
       "\n",
       "  var force = true;\n",
       "  var py_version = '3.2.0'.replace('rc', '-rc.').replace('.dev', '-dev.');\n",
       "  var is_dev = py_version.indexOf(\"+\") !== -1 || py_version.indexOf(\"-\") !== -1;\n",
       "  var reloading = false;\n",
       "  var Bokeh = root.Bokeh;\n",
       "  var bokeh_loaded = Bokeh != null && (Bokeh.version === py_version || (Bokeh.versions !== undefined && Bokeh.versions.has(py_version)));\n",
       "\n",
       "  if (typeof (root._bokeh_timeout) === \"undefined\" || force) {\n",
       "    root._bokeh_timeout = Date.now() + 5000;\n",
       "    root._bokeh_failed_load = false;\n",
       "  }\n",
       "\n",
       "  function run_callbacks() {\n",
       "    try {\n",
       "      root._bokeh_onload_callbacks.forEach(function(callback) {\n",
       "        if (callback != null)\n",
       "          callback();\n",
       "      });\n",
       "    } finally {\n",
       "      delete root._bokeh_onload_callbacks;\n",
       "    }\n",
       "    console.debug(\"Bokeh: all callbacks have finished\");\n",
       "  }\n",
       "\n",
       "  function load_libs(css_urls, js_urls, js_modules, js_exports, callback) {\n",
       "    if (css_urls == null) css_urls = [];\n",
       "    if (js_urls == null) js_urls = [];\n",
       "    if (js_modules == null) js_modules = [];\n",
       "    if (js_exports == null) js_exports = {};\n",
       "\n",
       "    root._bokeh_onload_callbacks.push(callback);\n",
       "\n",
       "    if (root._bokeh_is_loading > 0) {\n",
       "      console.debug(\"Bokeh: BokehJS is being loaded, scheduling callback at\", now());\n",
       "      return null;\n",
       "    }\n",
       "    if (js_urls.length === 0 && js_modules.length === 0 && Object.keys(js_exports).length === 0) {\n",
       "      run_callbacks();\n",
       "      return null;\n",
       "    }\n",
       "    if (!reloading) {\n",
       "      console.debug(\"Bokeh: BokehJS not loaded, scheduling load and callback at\", now());\n",
       "    }\n",
       "\n",
       "    function on_load() {\n",
       "      root._bokeh_is_loading--;\n",
       "      if (root._bokeh_is_loading === 0) {\n",
       "        console.debug(\"Bokeh: all BokehJS libraries/stylesheets loaded\");\n",
       "        run_callbacks()\n",
       "      }\n",
       "    }\n",
       "    window._bokeh_on_load = on_load\n",
       "\n",
       "    function on_error() {\n",
       "      console.error(\"failed to load \" + url);\n",
       "    }\n",
       "\n",
       "    var skip = [];\n",
       "    if (window.requirejs) {\n",
       "      window.requirejs.config({'packages': {}, 'paths': {'jspanel': 'https://cdn.jsdelivr.net/npm/jspanel4@4.12.0/dist/jspanel', 'jspanel-modal': 'https://cdn.jsdelivr.net/npm/jspanel4@4.12.0/dist/extensions/modal/jspanel.modal', 'jspanel-tooltip': 'https://cdn.jsdelivr.net/npm/jspanel4@4.12.0/dist/extensions/tooltip/jspanel.tooltip', 'jspanel-hint': 'https://cdn.jsdelivr.net/npm/jspanel4@4.12.0/dist/extensions/hint/jspanel.hint', 'jspanel-layout': 'https://cdn.jsdelivr.net/npm/jspanel4@4.12.0/dist/extensions/layout/jspanel.layout', 'jspanel-contextmenu': 'https://cdn.jsdelivr.net/npm/jspanel4@4.12.0/dist/extensions/contextmenu/jspanel.contextmenu', 'jspanel-dock': 'https://cdn.jsdelivr.net/npm/jspanel4@4.12.0/dist/extensions/dock/jspanel.dock', 'gridstack': 'https://cdn.jsdelivr.net/npm/gridstack@7.2.3/dist/gridstack-all', 'notyf': 'https://cdn.jsdelivr.net/npm/notyf@3/notyf.min'}, 'shim': {'jspanel': {'exports': 'jsPanel'}, 'gridstack': {'exports': 'GridStack'}}});\n",
       "      require([\"jspanel\"], function(jsPanel) {\n",
       "\twindow.jsPanel = jsPanel\n",
       "\ton_load()\n",
       "      })\n",
       "      require([\"jspanel-modal\"], function() {\n",
       "\ton_load()\n",
       "      })\n",
       "      require([\"jspanel-tooltip\"], function() {\n",
       "\ton_load()\n",
       "      })\n",
       "      require([\"jspanel-hint\"], function() {\n",
       "\ton_load()\n",
       "      })\n",
       "      require([\"jspanel-layout\"], function() {\n",
       "\ton_load()\n",
       "      })\n",
       "      require([\"jspanel-contextmenu\"], function() {\n",
       "\ton_load()\n",
       "      })\n",
       "      require([\"jspanel-dock\"], function() {\n",
       "\ton_load()\n",
       "      })\n",
       "      require([\"gridstack\"], function(GridStack) {\n",
       "\twindow.GridStack = GridStack\n",
       "\ton_load()\n",
       "      })\n",
       "      require([\"notyf\"], function() {\n",
       "\ton_load()\n",
       "      })\n",
       "      root._bokeh_is_loading = css_urls.length + 9;\n",
       "    } else {\n",
       "      root._bokeh_is_loading = css_urls.length + js_urls.length + js_modules.length + Object.keys(js_exports).length;\n",
       "    }\n",
       "\n",
       "    var existing_stylesheets = []\n",
       "    var links = document.getElementsByTagName('link')\n",
       "    for (var i = 0; i < links.length; i++) {\n",
       "      var link = links[i]\n",
       "      if (link.href != null) {\n",
       "\texisting_stylesheets.push(link.href)\n",
       "      }\n",
       "    }\n",
       "    for (var i = 0; i < css_urls.length; i++) {\n",
       "      var url = css_urls[i];\n",
       "      if (existing_stylesheets.indexOf(url) !== -1) {\n",
       "\ton_load()\n",
       "\tcontinue;\n",
       "      }\n",
       "      const element = document.createElement(\"link\");\n",
       "      element.onload = on_load;\n",
       "      element.onerror = on_error;\n",
       "      element.rel = \"stylesheet\";\n",
       "      element.type = \"text/css\";\n",
       "      element.href = url;\n",
       "      console.debug(\"Bokeh: injecting link tag for BokehJS stylesheet: \", url);\n",
       "      document.body.appendChild(element);\n",
       "    }    if (((window['jsPanel'] !== undefined) && (!(window['jsPanel'] instanceof HTMLElement))) || window.requirejs) {\n",
       "      var urls = ['https://cdn.holoviz.org/panel/1.2.0/dist/bundled/floatpanel/jspanel4@4.12.0/dist/jspanel.js', 'https://cdn.holoviz.org/panel/1.2.0/dist/bundled/floatpanel/jspanel4@4.12.0/dist/extensions/modal/jspanel.modal.js', 'https://cdn.holoviz.org/panel/1.2.0/dist/bundled/floatpanel/jspanel4@4.12.0/dist/extensions/tooltip/jspanel.tooltip.js', 'https://cdn.holoviz.org/panel/1.2.0/dist/bundled/floatpanel/jspanel4@4.12.0/dist/extensions/hint/jspanel.hint.js', 'https://cdn.holoviz.org/panel/1.2.0/dist/bundled/floatpanel/jspanel4@4.12.0/dist/extensions/layout/jspanel.layout.js', 'https://cdn.holoviz.org/panel/1.2.0/dist/bundled/floatpanel/jspanel4@4.12.0/dist/extensions/contextmenu/jspanel.contextmenu.js', 'https://cdn.holoviz.org/panel/1.2.0/dist/bundled/floatpanel/jspanel4@4.12.0/dist/extensions/dock/jspanel.dock.js'];\n",
       "      for (var i = 0; i < urls.length; i++) {\n",
       "        skip.push(urls[i])\n",
       "      }\n",
       "    }    if (((window['GridStack'] !== undefined) && (!(window['GridStack'] instanceof HTMLElement))) || window.requirejs) {\n",
       "      var urls = ['https://cdn.holoviz.org/panel/1.2.0/dist/bundled/gridstack/gridstack@7.2.3/dist/gridstack-all.js'];\n",
       "      for (var i = 0; i < urls.length; i++) {\n",
       "        skip.push(urls[i])\n",
       "      }\n",
       "    }    if (((window['Notyf'] !== undefined) && (!(window['Notyf'] instanceof HTMLElement))) || window.requirejs) {\n",
       "      var urls = ['https://cdn.holoviz.org/panel/1.2.0/dist/bundled/notificationarea/notyf@3/notyf.min.js'];\n",
       "      for (var i = 0; i < urls.length; i++) {\n",
       "        skip.push(urls[i])\n",
       "      }\n",
       "    }    var existing_scripts = []\n",
       "    var scripts = document.getElementsByTagName('script')\n",
       "    for (var i = 0; i < scripts.length; i++) {\n",
       "      var script = scripts[i]\n",
       "      if (script.src != null) {\n",
       "\texisting_scripts.push(script.src)\n",
       "      }\n",
       "    }\n",
       "    for (var i = 0; i < js_urls.length; i++) {\n",
       "      var url = js_urls[i];\n",
       "      if (skip.indexOf(url) !== -1 || existing_scripts.indexOf(url) !== -1) {\n",
       "\tif (!window.requirejs) {\n",
       "\t  on_load();\n",
       "\t}\n",
       "\tcontinue;\n",
       "      }\n",
       "      var element = document.createElement('script');\n",
       "      element.onload = on_load;\n",
       "      element.onerror = on_error;\n",
       "      element.async = false;\n",
       "      element.src = url;\n",
       "      console.debug(\"Bokeh: injecting script tag for BokehJS library: \", url);\n",
       "      document.head.appendChild(element);\n",
       "    }\n",
       "    for (var i = 0; i < js_modules.length; i++) {\n",
       "      var url = js_modules[i];\n",
       "      if (skip.indexOf(url) !== -1 || existing_scripts.indexOf(url) !== -1) {\n",
       "\tif (!window.requirejs) {\n",
       "\t  on_load();\n",
       "\t}\n",
       "\tcontinue;\n",
       "      }\n",
       "      var element = document.createElement('script');\n",
       "      element.onload = on_load;\n",
       "      element.onerror = on_error;\n",
       "      element.async = false;\n",
       "      element.src = url;\n",
       "      element.type = \"module\";\n",
       "      console.debug(\"Bokeh: injecting script tag for BokehJS library: \", url);\n",
       "      document.head.appendChild(element);\n",
       "    }\n",
       "    for (const name in js_exports) {\n",
       "      var url = js_exports[name];\n",
       "      if (skip.indexOf(url) >= 0 || root[name] != null) {\n",
       "\tif (!window.requirejs) {\n",
       "\t  on_load();\n",
       "\t}\n",
       "\tcontinue;\n",
       "      }\n",
       "      var element = document.createElement('script');\n",
       "      element.onerror = on_error;\n",
       "      element.async = false;\n",
       "      element.type = \"module\";\n",
       "      console.debug(\"Bokeh: injecting script tag for BokehJS library: \", url);\n",
       "      element.textContent = `\n",
       "      import ${name} from \"${url}\"\n",
       "      window.${name} = ${name}\n",
       "      window._bokeh_on_load()\n",
       "      `\n",
       "      document.head.appendChild(element);\n",
       "    }\n",
       "    if (!js_urls.length && !js_modules.length) {\n",
       "      on_load()\n",
       "    }\n",
       "  };\n",
       "\n",
       "  function inject_raw_css(css) {\n",
       "    const element = document.createElement(\"style\");\n",
       "    element.appendChild(document.createTextNode(css));\n",
       "    document.body.appendChild(element);\n",
       "  }\n",
       "\n",
       "  var js_urls = [\"https://cdn.bokeh.org/bokeh/release/bokeh-3.2.0.min.js\", \"https://cdn.bokeh.org/bokeh/release/bokeh-gl-3.2.0.min.js\", \"https://cdn.bokeh.org/bokeh/release/bokeh-widgets-3.2.0.min.js\", \"https://cdn.bokeh.org/bokeh/release/bokeh-tables-3.2.0.min.js\", \"https://cdn.holoviz.org/panel/1.2.0/dist/panel.min.js\"];\n",
       "  var js_modules = [];\n",
       "  var js_exports = {};\n",
       "  var css_urls = [];\n",
       "  var inline_js = [    function(Bokeh) {\n",
       "      Bokeh.set_log_level(\"info\");\n",
       "    },\n",
       "function(Bokeh) {} // ensure no trailing comma for IE\n",
       "  ];\n",
       "\n",
       "  function run_inline_js() {\n",
       "    if ((root.Bokeh !== undefined) || (force === true)) {\n",
       "      for (var i = 0; i < inline_js.length; i++) {\n",
       "        inline_js[i].call(root, root.Bokeh);\n",
       "      }\n",
       "      // Cache old bokeh versions\n",
       "      if (Bokeh != undefined && !reloading) {\n",
       "\tvar NewBokeh = root.Bokeh;\n",
       "\tif (Bokeh.versions === undefined) {\n",
       "\t  Bokeh.versions = new Map();\n",
       "\t}\n",
       "\tif (NewBokeh.version !== Bokeh.version) {\n",
       "\t  Bokeh.versions.set(NewBokeh.version, NewBokeh)\n",
       "\t}\n",
       "\troot.Bokeh = Bokeh;\n",
       "      }} else if (Date.now() < root._bokeh_timeout) {\n",
       "      setTimeout(run_inline_js, 100);\n",
       "    } else if (!root._bokeh_failed_load) {\n",
       "      console.log(\"Bokeh: BokehJS failed to load within specified timeout.\");\n",
       "      root._bokeh_failed_load = true;\n",
       "    }\n",
       "    root._bokeh_is_initializing = false\n",
       "  }\n",
       "\n",
       "  function load_or_wait() {\n",
       "    // Implement a backoff loop that tries to ensure we do not load multiple\n",
       "    // versions of Bokeh and its dependencies at the same time.\n",
       "    // In recent versions we use the root._bokeh_is_initializing flag\n",
       "    // to determine whether there is an ongoing attempt to initialize\n",
       "    // bokeh, however for backward compatibility we also try to ensure\n",
       "    // that we do not start loading a newer (Panel>=1.0 and Bokeh>3) version\n",
       "    // before older versions are fully initialized.\n",
       "    if (root._bokeh_is_initializing && Date.now() > root._bokeh_timeout) {\n",
       "      root._bokeh_is_initializing = false;\n",
       "      root._bokeh_onload_callbacks = undefined;\n",
       "      console.log(\"Bokeh: BokehJS was loaded multiple times but one version failed to initialize.\");\n",
       "      load_or_wait();\n",
       "    } else if (root._bokeh_is_initializing || (typeof root._bokeh_is_initializing === \"undefined\" && root._bokeh_onload_callbacks !== undefined)) {\n",
       "      setTimeout(load_or_wait, 100);\n",
       "    } else {\n",
       "      Bokeh = root.Bokeh;\n",
       "      bokeh_loaded = Bokeh != null && (Bokeh.version === py_version || (Bokeh.versions !== undefined && Bokeh.versions.has(py_version)));\n",
       "      root._bokeh_is_initializing = true\n",
       "      root._bokeh_onload_callbacks = []\n",
       "      if (!reloading && (!bokeh_loaded || is_dev)) {\n",
       "\troot.Bokeh = undefined;\n",
       "      }\n",
       "      load_libs(css_urls, js_urls, js_modules, js_exports, function() {\n",
       "\tconsole.debug(\"Bokeh: BokehJS plotting callback run at\", now());\n",
       "\trun_inline_js();\n",
       "      });\n",
       "    }\n",
       "  }\n",
       "  // Give older versions of the autoload script a head-start to ensure\n",
       "  // they initialize before we start loading newer version.\n",
       "  setTimeout(load_or_wait, 100)\n",
       "}(window));"
      ],
      "application/vnd.holoviews_load.v0+json": "(function(root) {\n  function now() {\n    return new Date();\n  }\n\n  var force = true;\n  var py_version = '3.2.0'.replace('rc', '-rc.').replace('.dev', '-dev.');\n  var is_dev = py_version.indexOf(\"+\") !== -1 || py_version.indexOf(\"-\") !== -1;\n  var reloading = false;\n  var Bokeh = root.Bokeh;\n  var bokeh_loaded = Bokeh != null && (Bokeh.version === py_version || (Bokeh.versions !== undefined && Bokeh.versions.has(py_version)));\n\n  if (typeof (root._bokeh_timeout) === \"undefined\" || force) {\n    root._bokeh_timeout = Date.now() + 5000;\n    root._bokeh_failed_load = false;\n  }\n\n  function run_callbacks() {\n    try {\n      root._bokeh_onload_callbacks.forEach(function(callback) {\n        if (callback != null)\n          callback();\n      });\n    } finally {\n      delete root._bokeh_onload_callbacks;\n    }\n    console.debug(\"Bokeh: all callbacks have finished\");\n  }\n\n  function load_libs(css_urls, js_urls, js_modules, js_exports, callback) {\n    if (css_urls == null) css_urls = [];\n    if (js_urls == null) js_urls = [];\n    if (js_modules == null) js_modules = [];\n    if (js_exports == null) js_exports = {};\n\n    root._bokeh_onload_callbacks.push(callback);\n\n    if (root._bokeh_is_loading > 0) {\n      console.debug(\"Bokeh: BokehJS is being loaded, scheduling callback at\", now());\n      return null;\n    }\n    if (js_urls.length === 0 && js_modules.length === 0 && Object.keys(js_exports).length === 0) {\n      run_callbacks();\n      return null;\n    }\n    if (!reloading) {\n      console.debug(\"Bokeh: BokehJS not loaded, scheduling load and callback at\", now());\n    }\n\n    function on_load() {\n      root._bokeh_is_loading--;\n      if (root._bokeh_is_loading === 0) {\n        console.debug(\"Bokeh: all BokehJS libraries/stylesheets loaded\");\n        run_callbacks()\n      }\n    }\n    window._bokeh_on_load = on_load\n\n    function on_error() {\n      console.error(\"failed to load \" + url);\n    }\n\n    var skip = [];\n    if (window.requirejs) {\n      window.requirejs.config({'packages': {}, 'paths': {'jspanel': 'https://cdn.jsdelivr.net/npm/jspanel4@4.12.0/dist/jspanel', 'jspanel-modal': 'https://cdn.jsdelivr.net/npm/jspanel4@4.12.0/dist/extensions/modal/jspanel.modal', 'jspanel-tooltip': 'https://cdn.jsdelivr.net/npm/jspanel4@4.12.0/dist/extensions/tooltip/jspanel.tooltip', 'jspanel-hint': 'https://cdn.jsdelivr.net/npm/jspanel4@4.12.0/dist/extensions/hint/jspanel.hint', 'jspanel-layout': 'https://cdn.jsdelivr.net/npm/jspanel4@4.12.0/dist/extensions/layout/jspanel.layout', 'jspanel-contextmenu': 'https://cdn.jsdelivr.net/npm/jspanel4@4.12.0/dist/extensions/contextmenu/jspanel.contextmenu', 'jspanel-dock': 'https://cdn.jsdelivr.net/npm/jspanel4@4.12.0/dist/extensions/dock/jspanel.dock', 'gridstack': 'https://cdn.jsdelivr.net/npm/gridstack@7.2.3/dist/gridstack-all', 'notyf': 'https://cdn.jsdelivr.net/npm/notyf@3/notyf.min'}, 'shim': {'jspanel': {'exports': 'jsPanel'}, 'gridstack': {'exports': 'GridStack'}}});\n      require([\"jspanel\"], function(jsPanel) {\n\twindow.jsPanel = jsPanel\n\ton_load()\n      })\n      require([\"jspanel-modal\"], function() {\n\ton_load()\n      })\n      require([\"jspanel-tooltip\"], function() {\n\ton_load()\n      })\n      require([\"jspanel-hint\"], function() {\n\ton_load()\n      })\n      require([\"jspanel-layout\"], function() {\n\ton_load()\n      })\n      require([\"jspanel-contextmenu\"], function() {\n\ton_load()\n      })\n      require([\"jspanel-dock\"], function() {\n\ton_load()\n      })\n      require([\"gridstack\"], function(GridStack) {\n\twindow.GridStack = GridStack\n\ton_load()\n      })\n      require([\"notyf\"], function() {\n\ton_load()\n      })\n      root._bokeh_is_loading = css_urls.length + 9;\n    } else {\n      root._bokeh_is_loading = css_urls.length + js_urls.length + js_modules.length + Object.keys(js_exports).length;\n    }\n\n    var existing_stylesheets = []\n    var links = document.getElementsByTagName('link')\n    for (var i = 0; i < links.length; i++) {\n      var link = links[i]\n      if (link.href != null) {\n\texisting_stylesheets.push(link.href)\n      }\n    }\n    for (var i = 0; i < css_urls.length; i++) {\n      var url = css_urls[i];\n      if (existing_stylesheets.indexOf(url) !== -1) {\n\ton_load()\n\tcontinue;\n      }\n      const element = document.createElement(\"link\");\n      element.onload = on_load;\n      element.onerror = on_error;\n      element.rel = \"stylesheet\";\n      element.type = \"text/css\";\n      element.href = url;\n      console.debug(\"Bokeh: injecting link tag for BokehJS stylesheet: \", url);\n      document.body.appendChild(element);\n    }    if (((window['jsPanel'] !== undefined) && (!(window['jsPanel'] instanceof HTMLElement))) || window.requirejs) {\n      var urls = ['https://cdn.holoviz.org/panel/1.2.0/dist/bundled/floatpanel/jspanel4@4.12.0/dist/jspanel.js', 'https://cdn.holoviz.org/panel/1.2.0/dist/bundled/floatpanel/jspanel4@4.12.0/dist/extensions/modal/jspanel.modal.js', 'https://cdn.holoviz.org/panel/1.2.0/dist/bundled/floatpanel/jspanel4@4.12.0/dist/extensions/tooltip/jspanel.tooltip.js', 'https://cdn.holoviz.org/panel/1.2.0/dist/bundled/floatpanel/jspanel4@4.12.0/dist/extensions/hint/jspanel.hint.js', 'https://cdn.holoviz.org/panel/1.2.0/dist/bundled/floatpanel/jspanel4@4.12.0/dist/extensions/layout/jspanel.layout.js', 'https://cdn.holoviz.org/panel/1.2.0/dist/bundled/floatpanel/jspanel4@4.12.0/dist/extensions/contextmenu/jspanel.contextmenu.js', 'https://cdn.holoviz.org/panel/1.2.0/dist/bundled/floatpanel/jspanel4@4.12.0/dist/extensions/dock/jspanel.dock.js'];\n      for (var i = 0; i < urls.length; i++) {\n        skip.push(urls[i])\n      }\n    }    if (((window['GridStack'] !== undefined) && (!(window['GridStack'] instanceof HTMLElement))) || window.requirejs) {\n      var urls = ['https://cdn.holoviz.org/panel/1.2.0/dist/bundled/gridstack/gridstack@7.2.3/dist/gridstack-all.js'];\n      for (var i = 0; i < urls.length; i++) {\n        skip.push(urls[i])\n      }\n    }    if (((window['Notyf'] !== undefined) && (!(window['Notyf'] instanceof HTMLElement))) || window.requirejs) {\n      var urls = ['https://cdn.holoviz.org/panel/1.2.0/dist/bundled/notificationarea/notyf@3/notyf.min.js'];\n      for (var i = 0; i < urls.length; i++) {\n        skip.push(urls[i])\n      }\n    }    var existing_scripts = []\n    var scripts = document.getElementsByTagName('script')\n    for (var i = 0; i < scripts.length; i++) {\n      var script = scripts[i]\n      if (script.src != null) {\n\texisting_scripts.push(script.src)\n      }\n    }\n    for (var i = 0; i < js_urls.length; i++) {\n      var url = js_urls[i];\n      if (skip.indexOf(url) !== -1 || existing_scripts.indexOf(url) !== -1) {\n\tif (!window.requirejs) {\n\t  on_load();\n\t}\n\tcontinue;\n      }\n      var element = document.createElement('script');\n      element.onload = on_load;\n      element.onerror = on_error;\n      element.async = false;\n      element.src = url;\n      console.debug(\"Bokeh: injecting script tag for BokehJS library: \", url);\n      document.head.appendChild(element);\n    }\n    for (var i = 0; i < js_modules.length; i++) {\n      var url = js_modules[i];\n      if (skip.indexOf(url) !== -1 || existing_scripts.indexOf(url) !== -1) {\n\tif (!window.requirejs) {\n\t  on_load();\n\t}\n\tcontinue;\n      }\n      var element = document.createElement('script');\n      element.onload = on_load;\n      element.onerror = on_error;\n      element.async = false;\n      element.src = url;\n      element.type = \"module\";\n      console.debug(\"Bokeh: injecting script tag for BokehJS library: \", url);\n      document.head.appendChild(element);\n    }\n    for (const name in js_exports) {\n      var url = js_exports[name];\n      if (skip.indexOf(url) >= 0 || root[name] != null) {\n\tif (!window.requirejs) {\n\t  on_load();\n\t}\n\tcontinue;\n      }\n      var element = document.createElement('script');\n      element.onerror = on_error;\n      element.async = false;\n      element.type = \"module\";\n      console.debug(\"Bokeh: injecting script tag for BokehJS library: \", url);\n      element.textContent = `\n      import ${name} from \"${url}\"\n      window.${name} = ${name}\n      window._bokeh_on_load()\n      `\n      document.head.appendChild(element);\n    }\n    if (!js_urls.length && !js_modules.length) {\n      on_load()\n    }\n  };\n\n  function inject_raw_css(css) {\n    const element = document.createElement(\"style\");\n    element.appendChild(document.createTextNode(css));\n    document.body.appendChild(element);\n  }\n\n  var js_urls = [\"https://cdn.bokeh.org/bokeh/release/bokeh-3.2.0.min.js\", \"https://cdn.bokeh.org/bokeh/release/bokeh-gl-3.2.0.min.js\", \"https://cdn.bokeh.org/bokeh/release/bokeh-widgets-3.2.0.min.js\", \"https://cdn.bokeh.org/bokeh/release/bokeh-tables-3.2.0.min.js\", \"https://cdn.holoviz.org/panel/1.2.0/dist/panel.min.js\"];\n  var js_modules = [];\n  var js_exports = {};\n  var css_urls = [];\n  var inline_js = [    function(Bokeh) {\n      Bokeh.set_log_level(\"info\");\n    },\nfunction(Bokeh) {} // ensure no trailing comma for IE\n  ];\n\n  function run_inline_js() {\n    if ((root.Bokeh !== undefined) || (force === true)) {\n      for (var i = 0; i < inline_js.length; i++) {\n        inline_js[i].call(root, root.Bokeh);\n      }\n      // Cache old bokeh versions\n      if (Bokeh != undefined && !reloading) {\n\tvar NewBokeh = root.Bokeh;\n\tif (Bokeh.versions === undefined) {\n\t  Bokeh.versions = new Map();\n\t}\n\tif (NewBokeh.version !== Bokeh.version) {\n\t  Bokeh.versions.set(NewBokeh.version, NewBokeh)\n\t}\n\troot.Bokeh = Bokeh;\n      }} else if (Date.now() < root._bokeh_timeout) {\n      setTimeout(run_inline_js, 100);\n    } else if (!root._bokeh_failed_load) {\n      console.log(\"Bokeh: BokehJS failed to load within specified timeout.\");\n      root._bokeh_failed_load = true;\n    }\n    root._bokeh_is_initializing = false\n  }\n\n  function load_or_wait() {\n    // Implement a backoff loop that tries to ensure we do not load multiple\n    // versions of Bokeh and its dependencies at the same time.\n    // In recent versions we use the root._bokeh_is_initializing flag\n    // to determine whether there is an ongoing attempt to initialize\n    // bokeh, however for backward compatibility we also try to ensure\n    // that we do not start loading a newer (Panel>=1.0 and Bokeh>3) version\n    // before older versions are fully initialized.\n    if (root._bokeh_is_initializing && Date.now() > root._bokeh_timeout) {\n      root._bokeh_is_initializing = false;\n      root._bokeh_onload_callbacks = undefined;\n      console.log(\"Bokeh: BokehJS was loaded multiple times but one version failed to initialize.\");\n      load_or_wait();\n    } else if (root._bokeh_is_initializing || (typeof root._bokeh_is_initializing === \"undefined\" && root._bokeh_onload_callbacks !== undefined)) {\n      setTimeout(load_or_wait, 100);\n    } else {\n      Bokeh = root.Bokeh;\n      bokeh_loaded = Bokeh != null && (Bokeh.version === py_version || (Bokeh.versions !== undefined && Bokeh.versions.has(py_version)));\n      root._bokeh_is_initializing = true\n      root._bokeh_onload_callbacks = []\n      if (!reloading && (!bokeh_loaded || is_dev)) {\n\troot.Bokeh = undefined;\n      }\n      load_libs(css_urls, js_urls, js_modules, js_exports, function() {\n\tconsole.debug(\"Bokeh: BokehJS plotting callback run at\", now());\n\trun_inline_js();\n      });\n    }\n  }\n  // Give older versions of the autoload script a head-start to ensure\n  // they initialize before we start loading newer version.\n  setTimeout(load_or_wait, 100)\n}(window));"
     },
     "metadata": {},
     "output_type": "display_data"
    },
    {
     "data": {
      "application/javascript": [
       "\n",
       "if ((window.PyViz === undefined) || (window.PyViz instanceof HTMLElement)) {\n",
       "  window.PyViz = {comms: {}, comm_status:{}, kernels:{}, receivers: {}, plot_index: []}\n",
       "}\n",
       "\n",
       "\n",
       "    function JupyterCommManager() {\n",
       "    }\n",
       "\n",
       "    JupyterCommManager.prototype.register_target = function(plot_id, comm_id, msg_handler) {\n",
       "      if (window.comm_manager || ((window.Jupyter !== undefined) && (Jupyter.notebook.kernel != null))) {\n",
       "        var comm_manager = window.comm_manager || Jupyter.notebook.kernel.comm_manager;\n",
       "        comm_manager.register_target(comm_id, function(comm) {\n",
       "          comm.on_msg(msg_handler);\n",
       "        });\n",
       "      } else if ((plot_id in window.PyViz.kernels) && (window.PyViz.kernels[plot_id])) {\n",
       "        window.PyViz.kernels[plot_id].registerCommTarget(comm_id, function(comm) {\n",
       "          comm.onMsg = msg_handler;\n",
       "        });\n",
       "      } else if (typeof google != 'undefined' && google.colab.kernel != null) {\n",
       "        google.colab.kernel.comms.registerTarget(comm_id, (comm) => {\n",
       "          var messages = comm.messages[Symbol.asyncIterator]();\n",
       "          function processIteratorResult(result) {\n",
       "            var message = result.value;\n",
       "            console.log(message)\n",
       "            var content = {data: message.data, comm_id};\n",
       "            var buffers = []\n",
       "            for (var buffer of message.buffers || []) {\n",
       "              buffers.push(new DataView(buffer))\n",
       "            }\n",
       "            var metadata = message.metadata || {};\n",
       "            var msg = {content, buffers, metadata}\n",
       "            msg_handler(msg);\n",
       "            return messages.next().then(processIteratorResult);\n",
       "          }\n",
       "          return messages.next().then(processIteratorResult);\n",
       "        })\n",
       "      }\n",
       "    }\n",
       "\n",
       "    JupyterCommManager.prototype.get_client_comm = function(plot_id, comm_id, msg_handler) {\n",
       "      if (comm_id in window.PyViz.comms) {\n",
       "        return window.PyViz.comms[comm_id];\n",
       "      } else if (window.comm_manager || ((window.Jupyter !== undefined) && (Jupyter.notebook.kernel != null))) {\n",
       "        var comm_manager = window.comm_manager || Jupyter.notebook.kernel.comm_manager;\n",
       "        var comm = comm_manager.new_comm(comm_id, {}, {}, {}, comm_id);\n",
       "        if (msg_handler) {\n",
       "          comm.on_msg(msg_handler);\n",
       "        }\n",
       "      } else if ((plot_id in window.PyViz.kernels) && (window.PyViz.kernels[plot_id])) {\n",
       "        var comm = window.PyViz.kernels[plot_id].connectToComm(comm_id);\n",
       "        comm.open();\n",
       "        if (msg_handler) {\n",
       "          comm.onMsg = msg_handler;\n",
       "        }\n",
       "      } else if (typeof google != 'undefined' && google.colab.kernel != null) {\n",
       "        var comm_promise = google.colab.kernel.comms.open(comm_id)\n",
       "        comm_promise.then((comm) => {\n",
       "          window.PyViz.comms[comm_id] = comm;\n",
       "          if (msg_handler) {\n",
       "            var messages = comm.messages[Symbol.asyncIterator]();\n",
       "            function processIteratorResult(result) {\n",
       "              var message = result.value;\n",
       "              var content = {data: message.data};\n",
       "              var metadata = message.metadata || {comm_id};\n",
       "              var msg = {content, metadata}\n",
       "              msg_handler(msg);\n",
       "              return messages.next().then(processIteratorResult);\n",
       "            }\n",
       "            return messages.next().then(processIteratorResult);\n",
       "          }\n",
       "        }) \n",
       "        var sendClosure = (data, metadata, buffers, disposeOnDone) => {\n",
       "          return comm_promise.then((comm) => {\n",
       "            comm.send(data, metadata, buffers, disposeOnDone);\n",
       "          });\n",
       "        };\n",
       "        var comm = {\n",
       "          send: sendClosure\n",
       "        };\n",
       "      }\n",
       "      window.PyViz.comms[comm_id] = comm;\n",
       "      return comm;\n",
       "    }\n",
       "    window.PyViz.comm_manager = new JupyterCommManager();\n",
       "    \n",
       "\n",
       "\n",
       "var JS_MIME_TYPE = 'application/javascript';\n",
       "var HTML_MIME_TYPE = 'text/html';\n",
       "var EXEC_MIME_TYPE = 'application/vnd.holoviews_exec.v0+json';\n",
       "var CLASS_NAME = 'output';\n",
       "\n",
       "/**\n",
       " * Render data to the DOM node\n",
       " */\n",
       "function render(props, node) {\n",
       "  var div = document.createElement(\"div\");\n",
       "  var script = document.createElement(\"script\");\n",
       "  node.appendChild(div);\n",
       "  node.appendChild(script);\n",
       "}\n",
       "\n",
       "/**\n",
       " * Handle when a new output is added\n",
       " */\n",
       "function handle_add_output(event, handle) {\n",
       "  var output_area = handle.output_area;\n",
       "  var output = handle.output;\n",
       "  if ((output.data == undefined) || (!output.data.hasOwnProperty(EXEC_MIME_TYPE))) {\n",
       "    return\n",
       "  }\n",
       "  var id = output.metadata[EXEC_MIME_TYPE][\"id\"];\n",
       "  var toinsert = output_area.element.find(\".\" + CLASS_NAME.split(' ')[0]);\n",
       "  if (id !== undefined) {\n",
       "    var nchildren = toinsert.length;\n",
       "    var html_node = toinsert[nchildren-1].children[0];\n",
       "    html_node.innerHTML = output.data[HTML_MIME_TYPE];\n",
       "    var scripts = [];\n",
       "    var nodelist = html_node.querySelectorAll(\"script\");\n",
       "    for (var i in nodelist) {\n",
       "      if (nodelist.hasOwnProperty(i)) {\n",
       "        scripts.push(nodelist[i])\n",
       "      }\n",
       "    }\n",
       "\n",
       "    scripts.forEach( function (oldScript) {\n",
       "      var newScript = document.createElement(\"script\");\n",
       "      var attrs = [];\n",
       "      var nodemap = oldScript.attributes;\n",
       "      for (var j in nodemap) {\n",
       "        if (nodemap.hasOwnProperty(j)) {\n",
       "          attrs.push(nodemap[j])\n",
       "        }\n",
       "      }\n",
       "      attrs.forEach(function(attr) { newScript.setAttribute(attr.name, attr.value) });\n",
       "      newScript.appendChild(document.createTextNode(oldScript.innerHTML));\n",
       "      oldScript.parentNode.replaceChild(newScript, oldScript);\n",
       "    });\n",
       "    if (JS_MIME_TYPE in output.data) {\n",
       "      toinsert[nchildren-1].children[1].textContent = output.data[JS_MIME_TYPE];\n",
       "    }\n",
       "    output_area._hv_plot_id = id;\n",
       "    if ((window.Bokeh !== undefined) && (id in Bokeh.index)) {\n",
       "      window.PyViz.plot_index[id] = Bokeh.index[id];\n",
       "    } else {\n",
       "      window.PyViz.plot_index[id] = null;\n",
       "    }\n",
       "  } else if (output.metadata[EXEC_MIME_TYPE][\"server_id\"] !== undefined) {\n",
       "    var bk_div = document.createElement(\"div\");\n",
       "    bk_div.innerHTML = output.data[HTML_MIME_TYPE];\n",
       "    var script_attrs = bk_div.children[0].attributes;\n",
       "    for (var i = 0; i < script_attrs.length; i++) {\n",
       "      toinsert[toinsert.length - 1].childNodes[1].setAttribute(script_attrs[i].name, script_attrs[i].value);\n",
       "    }\n",
       "    // store reference to server id on output_area\n",
       "    output_area._bokeh_server_id = output.metadata[EXEC_MIME_TYPE][\"server_id\"];\n",
       "  }\n",
       "}\n",
       "\n",
       "/**\n",
       " * Handle when an output is cleared or removed\n",
       " */\n",
       "function handle_clear_output(event, handle) {\n",
       "  var id = handle.cell.output_area._hv_plot_id;\n",
       "  var server_id = handle.cell.output_area._bokeh_server_id;\n",
       "  if (((id === undefined) || !(id in PyViz.plot_index)) && (server_id !== undefined)) { return; }\n",
       "  var comm = window.PyViz.comm_manager.get_client_comm(\"hv-extension-comm\", \"hv-extension-comm\", function () {});\n",
       "  if (server_id !== null) {\n",
       "    comm.send({event_type: 'server_delete', 'id': server_id});\n",
       "    return;\n",
       "  } else if (comm !== null) {\n",
       "    comm.send({event_type: 'delete', 'id': id});\n",
       "  }\n",
       "  delete PyViz.plot_index[id];\n",
       "  if ((window.Bokeh !== undefined) & (id in window.Bokeh.index)) {\n",
       "    var doc = window.Bokeh.index[id].model.document\n",
       "    doc.clear();\n",
       "    const i = window.Bokeh.documents.indexOf(doc);\n",
       "    if (i > -1) {\n",
       "      window.Bokeh.documents.splice(i, 1);\n",
       "    }\n",
       "  }\n",
       "}\n",
       "\n",
       "/**\n",
       " * Handle kernel restart event\n",
       " */\n",
       "function handle_kernel_cleanup(event, handle) {\n",
       "  delete PyViz.comms[\"hv-extension-comm\"];\n",
       "  window.PyViz.plot_index = {}\n",
       "}\n",
       "\n",
       "/**\n",
       " * Handle update_display_data messages\n",
       " */\n",
       "function handle_update_output(event, handle) {\n",
       "  handle_clear_output(event, {cell: {output_area: handle.output_area}})\n",
       "  handle_add_output(event, handle)\n",
       "}\n",
       "\n",
       "function register_renderer(events, OutputArea) {\n",
       "  function append_mime(data, metadata, element) {\n",
       "    // create a DOM node to render to\n",
       "    var toinsert = this.create_output_subarea(\n",
       "    metadata,\n",
       "    CLASS_NAME,\n",
       "    EXEC_MIME_TYPE\n",
       "    );\n",
       "    this.keyboard_manager.register_events(toinsert);\n",
       "    // Render to node\n",
       "    var props = {data: data, metadata: metadata[EXEC_MIME_TYPE]};\n",
       "    render(props, toinsert[0]);\n",
       "    element.append(toinsert);\n",
       "    return toinsert\n",
       "  }\n",
       "\n",
       "  events.on('output_added.OutputArea', handle_add_output);\n",
       "  events.on('output_updated.OutputArea', handle_update_output);\n",
       "  events.on('clear_output.CodeCell', handle_clear_output);\n",
       "  events.on('delete.Cell', handle_clear_output);\n",
       "  events.on('kernel_ready.Kernel', handle_kernel_cleanup);\n",
       "\n",
       "  OutputArea.prototype.register_mime_type(EXEC_MIME_TYPE, append_mime, {\n",
       "    safe: true,\n",
       "    index: 0\n",
       "  });\n",
       "}\n",
       "\n",
       "if (window.Jupyter !== undefined) {\n",
       "  try {\n",
       "    var events = require('base/js/events');\n",
       "    var OutputArea = require('notebook/js/outputarea').OutputArea;\n",
       "    if (OutputArea.prototype.mime_types().indexOf(EXEC_MIME_TYPE) == -1) {\n",
       "      register_renderer(events, OutputArea);\n",
       "    }\n",
       "  } catch(err) {\n",
       "  }\n",
       "}\n"
      ],
      "application/vnd.holoviews_load.v0+json": "\nif ((window.PyViz === undefined) || (window.PyViz instanceof HTMLElement)) {\n  window.PyViz = {comms: {}, comm_status:{}, kernels:{}, receivers: {}, plot_index: []}\n}\n\n\n    function JupyterCommManager() {\n    }\n\n    JupyterCommManager.prototype.register_target = function(plot_id, comm_id, msg_handler) {\n      if (window.comm_manager || ((window.Jupyter !== undefined) && (Jupyter.notebook.kernel != null))) {\n        var comm_manager = window.comm_manager || Jupyter.notebook.kernel.comm_manager;\n        comm_manager.register_target(comm_id, function(comm) {\n          comm.on_msg(msg_handler);\n        });\n      } else if ((plot_id in window.PyViz.kernels) && (window.PyViz.kernels[plot_id])) {\n        window.PyViz.kernels[plot_id].registerCommTarget(comm_id, function(comm) {\n          comm.onMsg = msg_handler;\n        });\n      } else if (typeof google != 'undefined' && google.colab.kernel != null) {\n        google.colab.kernel.comms.registerTarget(comm_id, (comm) => {\n          var messages = comm.messages[Symbol.asyncIterator]();\n          function processIteratorResult(result) {\n            var message = result.value;\n            console.log(message)\n            var content = {data: message.data, comm_id};\n            var buffers = []\n            for (var buffer of message.buffers || []) {\n              buffers.push(new DataView(buffer))\n            }\n            var metadata = message.metadata || {};\n            var msg = {content, buffers, metadata}\n            msg_handler(msg);\n            return messages.next().then(processIteratorResult);\n          }\n          return messages.next().then(processIteratorResult);\n        })\n      }\n    }\n\n    JupyterCommManager.prototype.get_client_comm = function(plot_id, comm_id, msg_handler) {\n      if (comm_id in window.PyViz.comms) {\n        return window.PyViz.comms[comm_id];\n      } else if (window.comm_manager || ((window.Jupyter !== undefined) && (Jupyter.notebook.kernel != null))) {\n        var comm_manager = window.comm_manager || Jupyter.notebook.kernel.comm_manager;\n        var comm = comm_manager.new_comm(comm_id, {}, {}, {}, comm_id);\n        if (msg_handler) {\n          comm.on_msg(msg_handler);\n        }\n      } else if ((plot_id in window.PyViz.kernels) && (window.PyViz.kernels[plot_id])) {\n        var comm = window.PyViz.kernels[plot_id].connectToComm(comm_id);\n        comm.open();\n        if (msg_handler) {\n          comm.onMsg = msg_handler;\n        }\n      } else if (typeof google != 'undefined' && google.colab.kernel != null) {\n        var comm_promise = google.colab.kernel.comms.open(comm_id)\n        comm_promise.then((comm) => {\n          window.PyViz.comms[comm_id] = comm;\n          if (msg_handler) {\n            var messages = comm.messages[Symbol.asyncIterator]();\n            function processIteratorResult(result) {\n              var message = result.value;\n              var content = {data: message.data};\n              var metadata = message.metadata || {comm_id};\n              var msg = {content, metadata}\n              msg_handler(msg);\n              return messages.next().then(processIteratorResult);\n            }\n            return messages.next().then(processIteratorResult);\n          }\n        }) \n        var sendClosure = (data, metadata, buffers, disposeOnDone) => {\n          return comm_promise.then((comm) => {\n            comm.send(data, metadata, buffers, disposeOnDone);\n          });\n        };\n        var comm = {\n          send: sendClosure\n        };\n      }\n      window.PyViz.comms[comm_id] = comm;\n      return comm;\n    }\n    window.PyViz.comm_manager = new JupyterCommManager();\n    \n\n\nvar JS_MIME_TYPE = 'application/javascript';\nvar HTML_MIME_TYPE = 'text/html';\nvar EXEC_MIME_TYPE = 'application/vnd.holoviews_exec.v0+json';\nvar CLASS_NAME = 'output';\n\n/**\n * Render data to the DOM node\n */\nfunction render(props, node) {\n  var div = document.createElement(\"div\");\n  var script = document.createElement(\"script\");\n  node.appendChild(div);\n  node.appendChild(script);\n}\n\n/**\n * Handle when a new output is added\n */\nfunction handle_add_output(event, handle) {\n  var output_area = handle.output_area;\n  var output = handle.output;\n  if ((output.data == undefined) || (!output.data.hasOwnProperty(EXEC_MIME_TYPE))) {\n    return\n  }\n  var id = output.metadata[EXEC_MIME_TYPE][\"id\"];\n  var toinsert = output_area.element.find(\".\" + CLASS_NAME.split(' ')[0]);\n  if (id !== undefined) {\n    var nchildren = toinsert.length;\n    var html_node = toinsert[nchildren-1].children[0];\n    html_node.innerHTML = output.data[HTML_MIME_TYPE];\n    var scripts = [];\n    var nodelist = html_node.querySelectorAll(\"script\");\n    for (var i in nodelist) {\n      if (nodelist.hasOwnProperty(i)) {\n        scripts.push(nodelist[i])\n      }\n    }\n\n    scripts.forEach( function (oldScript) {\n      var newScript = document.createElement(\"script\");\n      var attrs = [];\n      var nodemap = oldScript.attributes;\n      for (var j in nodemap) {\n        if (nodemap.hasOwnProperty(j)) {\n          attrs.push(nodemap[j])\n        }\n      }\n      attrs.forEach(function(attr) { newScript.setAttribute(attr.name, attr.value) });\n      newScript.appendChild(document.createTextNode(oldScript.innerHTML));\n      oldScript.parentNode.replaceChild(newScript, oldScript);\n    });\n    if (JS_MIME_TYPE in output.data) {\n      toinsert[nchildren-1].children[1].textContent = output.data[JS_MIME_TYPE];\n    }\n    output_area._hv_plot_id = id;\n    if ((window.Bokeh !== undefined) && (id in Bokeh.index)) {\n      window.PyViz.plot_index[id] = Bokeh.index[id];\n    } else {\n      window.PyViz.plot_index[id] = null;\n    }\n  } else if (output.metadata[EXEC_MIME_TYPE][\"server_id\"] !== undefined) {\n    var bk_div = document.createElement(\"div\");\n    bk_div.innerHTML = output.data[HTML_MIME_TYPE];\n    var script_attrs = bk_div.children[0].attributes;\n    for (var i = 0; i < script_attrs.length; i++) {\n      toinsert[toinsert.length - 1].childNodes[1].setAttribute(script_attrs[i].name, script_attrs[i].value);\n    }\n    // store reference to server id on output_area\n    output_area._bokeh_server_id = output.metadata[EXEC_MIME_TYPE][\"server_id\"];\n  }\n}\n\n/**\n * Handle when an output is cleared or removed\n */\nfunction handle_clear_output(event, handle) {\n  var id = handle.cell.output_area._hv_plot_id;\n  var server_id = handle.cell.output_area._bokeh_server_id;\n  if (((id === undefined) || !(id in PyViz.plot_index)) && (server_id !== undefined)) { return; }\n  var comm = window.PyViz.comm_manager.get_client_comm(\"hv-extension-comm\", \"hv-extension-comm\", function () {});\n  if (server_id !== null) {\n    comm.send({event_type: 'server_delete', 'id': server_id});\n    return;\n  } else if (comm !== null) {\n    comm.send({event_type: 'delete', 'id': id});\n  }\n  delete PyViz.plot_index[id];\n  if ((window.Bokeh !== undefined) & (id in window.Bokeh.index)) {\n    var doc = window.Bokeh.index[id].model.document\n    doc.clear();\n    const i = window.Bokeh.documents.indexOf(doc);\n    if (i > -1) {\n      window.Bokeh.documents.splice(i, 1);\n    }\n  }\n}\n\n/**\n * Handle kernel restart event\n */\nfunction handle_kernel_cleanup(event, handle) {\n  delete PyViz.comms[\"hv-extension-comm\"];\n  window.PyViz.plot_index = {}\n}\n\n/**\n * Handle update_display_data messages\n */\nfunction handle_update_output(event, handle) {\n  handle_clear_output(event, {cell: {output_area: handle.output_area}})\n  handle_add_output(event, handle)\n}\n\nfunction register_renderer(events, OutputArea) {\n  function append_mime(data, metadata, element) {\n    // create a DOM node to render to\n    var toinsert = this.create_output_subarea(\n    metadata,\n    CLASS_NAME,\n    EXEC_MIME_TYPE\n    );\n    this.keyboard_manager.register_events(toinsert);\n    // Render to node\n    var props = {data: data, metadata: metadata[EXEC_MIME_TYPE]};\n    render(props, toinsert[0]);\n    element.append(toinsert);\n    return toinsert\n  }\n\n  events.on('output_added.OutputArea', handle_add_output);\n  events.on('output_updated.OutputArea', handle_update_output);\n  events.on('clear_output.CodeCell', handle_clear_output);\n  events.on('delete.Cell', handle_clear_output);\n  events.on('kernel_ready.Kernel', handle_kernel_cleanup);\n\n  OutputArea.prototype.register_mime_type(EXEC_MIME_TYPE, append_mime, {\n    safe: true,\n    index: 0\n  });\n}\n\nif (window.Jupyter !== undefined) {\n  try {\n    var events = require('base/js/events');\n    var OutputArea = require('notebook/js/outputarea').OutputArea;\n    if (OutputArea.prototype.mime_types().indexOf(EXEC_MIME_TYPE) == -1) {\n      register_renderer(events, OutputArea);\n    }\n  } catch(err) {\n  }\n}\n"
     },
     "metadata": {},
     "output_type": "display_data"
    },
    {
     "data": {
      "text/html": [
       "<style>*[data-root-id],\n",
       "*[data-root-id] > * {\n",
       "  box-sizing: border-box;\n",
       "  font-family: var(--jp-ui-font-family);\n",
       "  font-size: var(--jp-ui-font-size1);\n",
       "  color: var(--vscode-editor-foreground, var(--jp-ui-font-color1));\n",
       "}\n",
       "\n",
       "/* Override VSCode background color */\n",
       ".cell-output-ipywidget-background:has(\n",
       "    > .cell-output-ipywidget-background > .lm-Widget > *[data-root-id]\n",
       "  ),\n",
       ".cell-output-ipywidget-background:has(> .lm-Widget > *[data-root-id]) {\n",
       "  background-color: transparent !important;\n",
       "}\n",
       "</style>"
      ]
     },
     "metadata": {},
     "output_type": "display_data"
    },
    {
     "data": {
      "text/html": [
       "\n",
       "<div class=\"logo-block\">\n",
       "<img src='data:image/png;base64,iVBORw0KGgoAAAANSUhEUgAAAEAAAABACAYAAACqaXHeAAAABHNCSVQICAgIfAhkiAAAAAlwSFlz\n",
       "AAAB+wAAAfsBxc2miwAAABl0RVh0U29mdHdhcmUAd3d3Lmlua3NjYXBlLm9yZ5vuPBoAAA6zSURB\n",
       "VHic7ZtpeFRVmsf/5966taWqUlUJ2UioBBJiIBAwCZtog9IOgjqACsogKtqirT2ttt069nQ/zDzt\n",
       "tI4+CrJIREFaFgWhBXpUNhHZQoKBkIUASchWla1S+3ar7r1nPkDaCAnZKoQP/D7mnPOe9/xy76n3\n",
       "nFSAW9ziFoPFNED2LLK5wcyBDObkb8ZkxuaoSYlI6ZcOKq1eWFdedqNzGHQBk9RMEwFAASkk0Xw3\n",
       "ETacDNi2vtvc7L0ROdw0AjoSotQVkKSvHQz/wRO1lScGModBFbDMaNRN1A4tUBCS3lk7BWhQkgpD\n",
       "lG4852/+7DWr1R3uHAZVQDsbh6ZPN7CyxUrCzJMRouusj0ipRwD2uKm0Zn5d2dFwzX1TCGhnmdGo\n",
       "G62Nna+isiUqhkzuKrkQaJlPEv5mFl2fvGg2t/VnzkEV8F5ioioOEWkLG86fvbpthynjdhXYZziQ\n",
       "x1hC9J2NFyi8vCTt91Fh04KGip0AaG9zuCk2wQCVyoNU3Hjezee9bq92duzzTmxsRJoy+jEZZZYo\n",
       "GTKJ6SJngdJqAfRzpze0+jHreUtPc7gpBLQnIYK6BYp/uGhw9YK688eu7v95ysgshcg9qSLMo3JC\n",
       "4jqLKQFBgdKDPoQ+Pltb8dUyQLpeDjeVgI6EgLIQFT5tEl3rn2losHVsexbZ3EyT9wE1uGdkIPcy\n",
       "BGxn8QUq1QrA5nqW5i2tLqvrrM9NK6AdkVIvL9E9bZL/oyfMVd/jqvc8LylzRBKDJSzIExwhQzuL\n",
       "QYGQj4rHfFTc8mUdu3E7yoLtbTe9gI4EqVgVkug2i5+uXGo919ixbRog+3fTbQ8qJe4ZOYNfMoTI\n",
       "OoshUNosgO60AisX15aeI2PSIp5KiFLI9ubb1vV3Qb2ltwLakUCDAkWX7/nHKRmmGIl9VgYsUhJm\n",
       "2NXjKYADtM1ygne9QQDIXlk49FBstMKx66D1v4+XuQr7vqTe0VcBHQlRWiOCbmmSYe2SqtL6q5rJ\n",
       "zsTb7lKx3FKOYC4DoqyS/B5bvLPxvD9Qtf6saxYLQGJErmDOdOMr/zo96km1nElr8bmPOBwI9COv\n",
       "HnFPRIwmkSOv9kcAS4heRsidOkpeWBgZM+UBrTFAXNYL5Vf2ii9c1trNzpYdaoVil3WIc+wdk+gQ\n",
       "noie3ecCcxt9ITcLAPWt/laGEO/9U6PmzZkenTtsSMQ8uYywJVW+grCstAvCIaAdArAsIWkRDDs/\n",
       "KzLm2YcjY1Lv0UdW73HabE9n6V66cxSzfEmuJssTpKGVp+0vHq73FwL46eOjpMpbRAnNmJFrGJNu\n",
       "Ukf9Yrz+3rghiumCKNXXWPhLYcjxGsIpoCMsIRoFITkW8AuyM8jC1+/QLx4bozCEJIq38+1rtpR6\n",
       "V/yzb8eBlRb3fo5l783N0CWolAzJHaVNzkrTzlEp2bQ2q3TC5gn6wpnoQAmwSiGh2GitnTmVMc5O\n",
       "UyfKWUKCIsU7+fZDKwqdT6DDpvkzAX4/+AMFjk0tDp5GRXLpQ2MUmhgDp5gxQT8+Y7hyPsMi8uxF\n",
       "71H0oebujHALECjFKaW9Lm68n18wXp2kVzIcABytD5iXFzg+WVXkegpAsOOYziqo0OkK76GyquC3\n",
       "ltZAzMhhqlSNmmWTE5T6e3IN05ITFLM4GdN0vtZ3ob8Jh1NAKXFbm5PtLU/eqTSlGjkNAJjdgn/N\n",
       "aedXa0tdi7+t9G0FIF49rtMSEgAs1kDLkTPO7ebm4IUWeyh1bKomXqlgMG6kJmHcSM0clYLJ8XtR\n",
       "1GTnbV3F6I5wCGikAb402npp1h1s7LQUZZSMIfALFOuL3UUrfnS8+rez7v9qcold5tilgHbO1fjK\n",
       "9ubb17u9oshxzMiUBKXWqJNxd+fqb0tLVs4lILFnK71H0Ind7uiPgACVcFJlrb0tV6DzxqqTIhUM\n",
       "CwDf1/rrVhTa33/3pGPxJYdQ2l2cbgVcQSosdx8uqnDtbGjh9SlDVSMNWhlnilfqZk42Th2ZpLpf\n",
       "xrHec5e815zrr0dfBZSwzkZfqsv+1FS1KUknUwPARVvItfKUY+cn57yP7qv07UE3p8B2uhUwLk09\n",
       "e0SCOrK+hbdYHYLjRIl71wWzv9jpEoeOHhGRrJAzyEyNiJuUqX0g2sBN5kGK6y2Blp5M3lsB9Qh4\n",
       "y2Ja6x6+i0ucmKgwMATwhSjdUu49tKrQ/pvN5d53ml2CGwCmJipmKjgmyuaXzNeL2a0AkQ01Th5j\n",
       "2DktO3Jyk8f9vcOBQHV94OK+fPumJmvQHxJoWkaKWq9Vs+yUsbq0zGT1I4RgeH2b5wef7+c7bl8F\n",
       "eKgoHVVZa8ZPEORzR6sT1BzDUAD/d9F78e2Tzv99v8D+fLVTqAKAsbGamKey1Mt9Ann4eH3gTXTz\n",
       "idWtAJ8PQWOk7NzSeQn/OTHDuEikVF1R4z8BQCy+6D1aWRfY0tTGG2OM8rRoPaeIj5ZHzJxszElN\n",
       "VM8K8JS5WOfv8mzRnQAKoEhmt8gyPM4lU9SmBK1MCQBnW4KONT86v1hZ1PbwSXPw4JWussVjtH9Y\n",
       "NCoiL9UoH/6PSu8jFrfY2t36erQHXLIEakMi1SydmzB31h3GGXFDFNPaK8Rme9B79Ixrd0WN+1ij\n",
       "NRQ/doRmuFLBkHSTOm5GruG+pFjFdAmorG4IXH1Qua6ASniclfFtDYt+oUjKipPrCQB7QBQ2lrgP\n",
       "fFzm+9XWUtcqJ3/5vDLDpJ79XHZk3u8nGZ42qlj1+ydtbxysCezrydp6ugmipNJ7WBPB5tydY0jP\n",
       "HaVNzs3QzeE4ZpTbI+ZbnSFPbVOw9vsfnVvqWnirPyCNGD08IlqtYkh2hjZ5dErEQzoNm+6ykyOt\n",
       "Lt5/PQEuSRRKo22VkydK+vvS1XEKlhCJAnsqvcVvH7f/ZU2R67eXbMEGAMiIV5oWZWiWvz5Fv2xG\n",
       "sjqNJQRvn3Rs2lji/lNP19VjAQDgD7FHhujZB9OGqYxRkZxixgRDVlqS6uEOFaJUVu0rPFzctrnF\n",
       "JqijImVp8dEKVWyUXDk92zAuMZ6bFwpBU1HrOw6AdhQgUooChb0+ItMbWJitSo5Ws3IAOGEOtL53\n",
       "0vHZih9sC4vtofZ7Qu6523V/fmGcds1TY3V36pUsBwAbSlxnVh2xLfAD/IAIMDf7XYIkNmXfpp2l\n",
       "18rkAJAy9HKFaIr/qULkeQQKy9zf1JgDB2uaeFNGijo5QsUyacNUUTOnGO42xSnv4oOwpDi1zYkc\n",
       "efUc3I5Gk6PhyTuVKaOGyLUAYPGIoY9Pu/atL/L92+4q9wbflRJ2Trpm/jPjdBtfnqB/dIThcl8A\n",
       "KG7hbRuKnb8qsQsVvVlTrwQAQMUlf3kwJI24Z4JhPMtcfng5GcH49GsrxJpGvvHIaeem2ma+KSjQ\n",
       "lIwUdYyCY8j4dE1KzijNnIP2llF2wcXNnsoapw9XxsgYAl6k+KzUXbi2yP3KR2ecf6z3BFsBICdW\n",
       "nvnIaG3eHybqX7vbpEqUMT+9OL4Qpe8VON7dXuFd39v19FoAABRVePbGGuXTszO0P7tu6lghUonE\n",
       "llRdrhArLvmKdh9u29jcFiRRkfLUxBiFNiqSU9icoZQHo5mYBI1MBgBH6wMNb+U7Pnw337H4gi1Y\n",
       "ciWs+uks3Z9fztUvfzxTm9Ne8XXkvQLHNytOOZeiD4e0PgkAIAYCYknKUNUDSXEKzdWNpnil7r4p\n",
       "xqkjTarZMtk/K8TQ6Qve78qqvXurGwIJqcOUKfUWHsm8KGvxSP68YudXq4pcj39X49uOK2X142O0\n",
       "Tz5/u/7TVybqH0rSya6ZBwD21/gubbrgWdDgEOx9WUhfBaC2ibcEBYm7a7x+ukrBMNcEZggyR0TE\n",
       "T8zUPjikQ4VosQZbTpS4vqizBKvqmvjsqnpfzaZyx9JPiz1/bfGKdgD45XB1zoIMzYbfTdS/NClB\n",
       "Gct0USiY3YL/g0LHy/uq/Ef6uo5+n0R/vyhp17Klpge763f8rMu6YU/zrn2nml+2WtH+Z+5IAAFc\n",
       "2bUTdTDOSNa9+cQY7YLsOIXhevEkCvzph7a8laecz/Un/z4/Ae04XeL3UQb57IwU9ZDr9UuKVajv\n",
       "nxp1+1UVIo/LjztZkKH59fO3G/JemqCfmaCRqbqbd90ZZ8FfjtkfAyD0J/9+C2h1hDwsSxvGjNDc\n",
       "b4zk5NfrSwiQblLHzZhg+Jf4aPlUwpDqkQqa9nimbt1/TDH8OitGMaQnj+RJS6B1fbF7SY1TqO5v\n",
       "/v0WAADl1f7zokgS7s7VT2DZ7pegUjBM7mjtiDZbcN4j0YrHH0rXpCtY0qPX0cVL0rv5jv/ZXend\n",
       "0u/EESYBAFBU4T4Qa5TflZOhTe7pmKpaP8kCVUVw1+yhXfJWvn1P3hnXi33JsTN6PnP3hHZ8Z3/h\n",
       "aLHzmkNPuPj7Bc/F/Q38CwjTpSwQXgE4Vmwry9tpfq/ZFgqFMy4AVDtCvi8rvMvOmv0N4YwbVgEA\n",
       "sPM72/KVnzfspmH7HQGCRLG2yL1+z8XwvPcdCbsAANh+xPzstgMtxeGKt+6MK3/tacfvwhWvIwMi\n",
       "oKEBtm0H7W+UVfkc/Y1V0BhoPlDr/w1w/eu1vjIgAgDg22OtX6/eYfnEz/focrZTHAFR+PSs56/7\n",
       "q32nwpjazxgwAQCwcU/T62t3WL7r6/jVRa6/byp1rei+Z98ZUAEAhEPHPc8fKnTU9nbgtnOe8h0l\n",
       "9hcGIqmODLQAHCy2Xti6v/XNRivf43f4fFvIteu854+VHnR7q9tfBlwAAGz+pnndB9vM26UebAe8\n",
       "SLHujPOTPVW+rwY+sxskAAC2HrA8t2Vvc7ffP1r9o+vwR2dcr92InIAbKKC1FZ5tB1tf+/G8p8sv\n",
       "N/9Q5zd/XR34LYCwV5JdccMEAMDBk45DH243r/X4xGvqxFa/GNpS7n6rwOwNWwHVE26oAADYurf1\n",
       "zx/utOzt+DMKYM0p17YtZZ5VNzqfsB2HewG1WXE8PoZ7gOclbTIvynZf9JV+fqZtfgs/8F/Nu5rB\n",
       "EIBmJ+8QRMmpU7EzGRsf2FzuePqYRbzh/zE26EwdrT10f6r6o8HOYzCJB9Dpff8tbnGLG8L/A/WE\n",
       "roTBs2RqAAAAAElFTkSuQmCC'\n",
       "     style='height:25px; border-radius:12px; display: inline-block; float: left; vertical-align: middle'></img>\n",
       "\n",
       "\n",
       "  <img src='data:image/png;base64,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'\n",
       "       style='height:15px; border-radius:12px; display: inline-block; float: left'></img>\n",
       "  \n",
       "\n",
       "\n",
       "\n",
       "\n",
       "</div>\n"
      ]
     },
     "metadata": {},
     "output_type": "display_data"
    }
   ],
   "source": [
    "import icepyx as ipx\n",
    "import os\n",
    "import shutil\n",
    "%matplotlib inline"
   ]
  },
  {
   "cell_type": "markdown",
   "metadata": {
    "user_expressions": []
   },
   "source": [
    "---------------------------------\n",
    "\n",
    "## Quick-Start Guide\n",
    "\n",
    "The entire process of getting ICESat-2 data (from query to download) can ultimately be accomplished in two minimal lines of code:\n",
    "\n",
    "`region_a = ipx.Query(short_name, spatial_extent, date_range)`\n",
    "\n",
    "`region_a.download_granules(path)`\n",
    "\n",
    "where the function inputs are described in more detail below.\n",
    "\n",
    "**The rest of this notebook explains the required inputs used above, optional inputs not available in the minimal example, and the other data search and visualization tools built in to icepyx that make it easier for the user to find, explore, and download ICESat-2 data programmatically from NSIDC.** The detailed steps outlined and the methods showcased below are meant to give the user more control over the data they find and download (including options to order/download only the relevant portions of a data granule), some of which are called using default values behind the scenes if the user simply skips to the `download_granules` step."
   ]
  },
  {
   "cell_type": "markdown",
   "metadata": {
    "user_expressions": []
   },
   "source": [
    "## Key Steps for Programmatic Data Access\n",
    "\n",
    "There are several key steps for accessing data from the NSIDC API:\n",
    "1. Define your parameters (spatial, temporal, dataset, etc.)\n",
    "2. Query the NSIDC API to find out more information about the dataset\n",
    "4. Define additional parameters (e.g. subsetting/customization options)\n",
    "5. Order your data\n",
    "6. Download your data\n",
    "\n",
    "icepyx streamlines this process into a minimal number of lines of code."
   ]
  },
  {
   "cell_type": "markdown",
   "metadata": {
    "user_expressions": []
   },
   "source": [
    "### Create an ICESat-2 data object with the desired search parameters\n",
    "\n",
    "There are three required inputs, depending on how you want to search for data. Two are required in all cases:\n",
    "- `short_name` = the data product of interest, known as its \"short name\".\n",
    "See https://nsidc.org/data/icesat-2/data-sets for a list of the available data products.\n",
    "- `spatial extent` = a region of interest to search within. This can be entered as a bounding box, polygon vertex coordinate pairs, or a polygon geospatial file (currently shp, kml, and gpkg are supported).\n",
    "    - bounding box: Given in decimal degrees for the lower left longitude, lower left latitude, upper right longitude, and upper right latitude\n",
    "    - polygon vertices: Given as longitude, latitude coordinate pairs of decimal degrees with the last entry a repeat of the first.\n",
    "    - polygon file: A string containing the full file path and name.\n",
    "    \n",
    "*NOTE: The input keyword for `short_name` was updated in the code from `dataset` to `product` to match common usage.\n",
    "This should not affect users providing positional inputs as demonstrated in this tutorial.*\n",
    "\n",
    "*NOTE: You can submit at most one bounding box or a list of lonlat polygon coordinates per object instance.\n",
    "Per NSIDC requirements, geospatial polygon files may only contain one feature (polygon).*\n",
    "\n",
    "Then, for all non-gridded products (ATL<=13), you must include AT LEAST one of the following inputs (temporal or orbital constraints):\n",
    "- `date_range` = the date range for which you would like to search for results. The following formats are accepted: \n",
    "    - A list of two 'YYYY-MM-DD' strings separated by a comma\n",
    "    - A list of two 'YYYY-DOY' strings separated by a comma\n",
    "    - A list of two datetime.date or datetime.datetime objects\n",
    "    - Dict with the following keys:\n",
    "        - `start_date`: start date, type can be datetime.datetime, datetime.date, or strings (format 'YYYY-MM-DD' or 'YYYY-DOY')\n",
    "        - `end_date`: end date, type can be datetime.datetime, datetime.date, or strings (format 'YYYY-MM-DD' or 'YYYY-DOY')\n",
    "- `cycles` = Which orbital cycle to use, input as a numerical string or a list of strings. If no input is given, this value defaults to all available cycles within the search parameters.  An orbital cycle refers to the 91-day repeat period of the ICESat-2 orbit.\n",
    "- `tracks` = Which [Reference Ground Track (RGT)](https://icesat-2.gsfc.nasa.gov/science/specs) to use, input as a numerical string or a list of strings. If no input is given, this value defaults to all available RGTs within the spatial and temporal search parameters.\n",
    "\n",
    "Below are examples of each type of spatial extent and temporal input and an example using orbital parameters. Please choose and run only one of the input option cells to set your spatial and temporal parameters."
   ]
  },
  {
   "cell_type": "code",
   "execution_count": 2,
   "metadata": {
    "tags": []
   },
   "outputs": [],
   "source": [
    "# bounding box\n",
    "short_name = 'ATL06'\n",
    "spatial_extent = [-55, 68, -48, 71]\n",
    "date_range = ['2019-02-20','2019-02-28']"
   ]
  },
  {
   "cell_type": "code",
   "execution_count": 3,
   "metadata": {
    "tags": []
   },
   "outputs": [],
   "source": [
    "# polygon vertices (here equivalent to the bounding box, above)\n",
    "short_name = 'ATL06'\n",
    "spatial_extent = [(-55, 68), (-55, 71), (-48, 71), (-48, 68), (-55, 68)]\n",
    "date_range = ['2019-02-20','2019-02-28']"
   ]
  },
  {
   "cell_type": "code",
   "execution_count": 4,
   "metadata": {
    "tags": []
   },
   "outputs": [],
   "source": [
    "# bounding box with 'YYYY-DOY' date range (equivalent to 'YYYY-MM-DD' date ranges above)\n",
    "short_name = 'ATL06'\n",
    "spatial_extent = [-55, 68, -48, 71]\n",
    "date_range = ['2019-051','2019-059']"
   ]
  },
  {
   "cell_type": "code",
   "execution_count": 5,
   "metadata": {
    "tags": []
   },
   "outputs": [],
   "source": [
    "# polygon vertices with datetime.datetime date ranges\n",
    "import datetime as dt\n",
    "\n",
    "start_dt = dt.datetime(2019, 2, 20, 0, 10, 0)\n",
    "end_dt = dt.datetime(2019, 2, 28, 14, 45, 30)\n",
    "short_name = 'ATL06'\n",
    "spatial_extent = [(-55, 68), (-55, 71), (-48, 71), (-48, 68), (-55, 68)]\n",
    "date_range = [start_dt, end_dt]"
   ]
  },
  {
   "cell_type": "code",
   "execution_count": 6,
   "metadata": {
    "tags": []
   },
   "outputs": [],
   "source": [
    "# bounding box with dict containing date ranges\n",
    "short_name = 'ATL06'\n",
    "spatial_extent = [-55, 68, -48, 71]\n",
    "date_range = {\"start_date\": start_dt, \"end_date\": '2019-02-28'}"
   ]
  },
  {
   "cell_type": "code",
   "execution_count": 7,
   "metadata": {
    "tags": []
   },
   "outputs": [],
   "source": [
    "# polygon geospatial file (metadata match but no subset match)\n",
    "# short_name = 'ATL06'\n",
    "# spatial_extent = './supporting_files/data-access_PineIsland/glims_polygons.kml'\n",
    "# date_range = ['2019-02-22','2019-02-28']\n",
    "\n",
    "# #polygon geospatial file (subset and metadata match)\n",
    "# short_name = 'ATL06'\n",
    "# spatial_extent = './supporting_files/data-access_PineIsland/glims_polygons.shp'\n",
    "# date_range = ['2019-10-01','2019-10-05']\n",
    "\n",
    "#polygon geospatial file (same area as other examples; subset and metadata match)\n",
    "short_name = 'ATL06'\n",
    "spatial_extent = './supporting_files/simple_test_poly.gpkg'\n",
    "date_range = ['2019-10-01','2019-10-05']"
   ]
  },
  {
   "cell_type": "markdown",
   "metadata": {
    "user_expressions": []
   },
   "source": [
    "Create the data object using our inputs"
   ]
  },
  {
   "cell_type": "code",
   "execution_count": 8,
   "metadata": {
    "tags": []
   },
   "outputs": [],
   "source": [
    "region_a = ipx.Query(short_name, spatial_extent, date_range)"
   ]
  },
  {
   "cell_type": "code",
   "execution_count": 9,
   "metadata": {
    "tags": []
   },
   "outputs": [
    {
     "name": "stdout",
     "output_type": "stream",
     "text": [
      "ATL06\n",
      "006\n",
      "['03', '04', '05', '06', '07']\n",
      "['0849', '0902']\n"
     ]
    }
   ],
   "source": [
    "# using orbital parameters with one of the above data products + spatial parameters\n",
    "region_a = ipx.Query(short_name, spatial_extent,\n",
    "   cycles=['03','04','05','06','07'], tracks=['0849','0902'])\n",
    "\n",
    "print(region_a.product)\n",
    "print(region_a.product_version)\n",
    "print(region_a.cycles)\n",
    "print(region_a.tracks)"
   ]
  },
  {
   "cell_type": "markdown",
   "metadata": {
    "user_expressions": []
   },
   "source": [
    "These properties include visualization of the spatial extent on a map. The style of map you will see depends on whether or not you have a certain library, `geoviews`, installed. Under the hood, this is because the `proj` library must be installed with conda (it is not available from PyPI) to support some `geoviews` dependencies. With `geoviews`, this plotting function returns an interactive map. Otherwise, your spatial extent will plot on a static map using `matplotlib`."
   ]
  },
  {
   "cell_type": "code",
   "execution_count": 10,
   "metadata": {
    "tags": []
   },
   "outputs": [
    {
     "name": "stderr",
     "output_type": "stream",
     "text": [
      "/home/jovyan/icepyx/icepyx/core/query.py:1165: FutureWarning: The geopandas.dataset module is deprecated and will be removed in GeoPandas 1.0. You can get the original 'naturalearth_lowres' data from https://www.naturalearthdata.com/downloads/110m-cultural-vectors/.\n",
      "  world = gpd.read_file(gpd.datasets.get_path(\"naturalearth_lowres\"))\n"
     ]
    },
    {
     "data": {
      "image/png": "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",
      "text/plain": [
       "<Figure size 1200x600 with 1 Axes>"
      ]
     },
     "metadata": {},
     "output_type": "display_data"
    }
   ],
   "source": [
    "# print(region_a.spatial_extent)\n",
    "region_a.visualize_spatial_extent()"
   ]
  },
  {
   "cell_type": "markdown",
   "metadata": {
    "user_expressions": []
   },
   "source": [
    "Formatted parameters and function calls allow us to see the the properties of the data object we have created."
   ]
  },
  {
   "cell_type": "code",
   "execution_count": 11,
   "metadata": {
    "tags": []
   },
   "outputs": [
    {
     "name": "stdout",
     "output_type": "stream",
     "text": [
      "ATL06\n",
      "['No temporal parameters set']\n",
      "['03', '04', '05', '06', '07']\n",
      "['0849', '0902']\n",
      "006\n"
     ]
    },
    {
     "name": "stderr",
     "output_type": "stream",
     "text": [
      "/home/jovyan/icepyx/icepyx/core/query.py:1165: FutureWarning: The geopandas.dataset module is deprecated and will be removed in GeoPandas 1.0. You can get the original 'naturalearth_lowres' data from https://www.naturalearthdata.com/downloads/110m-cultural-vectors/.\n",
      "  world = gpd.read_file(gpd.datasets.get_path(\"naturalearth_lowres\"))\n"
     ]
    },
    {
     "data": {
      "image/png": "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",
      "text/plain": [
       "<Figure size 1200x600 with 1 Axes>"
      ]
     },
     "metadata": {},
     "output_type": "display_data"
    }
   ],
   "source": [
    "print(region_a.product)\n",
    "print(region_a.temporal) # .dates, .start_time, .end_time can also be used for a piece of this information\n",
    "# print(region_a.dates)\n",
    "# print(region_a.start_time)\n",
    "# print(region_a.end_time)\n",
    "print(region_a.cycles)\n",
    "print(region_a.tracks)\n",
    "print(region_a.product_version)\n",
    "region_a.visualize_spatial_extent()"
   ]
  },
  {
   "cell_type": "markdown",
   "metadata": {
    "user_expressions": []
   },
   "source": [
    "There are also several optional inputs to allow the user finer control over their search. Start and end time are only valid inputs on a temporally limited search, and they are ignored if your `date_range` input is a datetime.datetime object.\n",
    "- `start_time` = start time to search for data on the start date. If no input is given, this defaults to 00:00:00.\n",
    "- `end_time` = end time for the end date of the temporal search parameter. If no input is given, this defaults to 23:59:59. \n",
    "\n",
    "Times must be input as 'HH:mm:ss' strings or datetime.time objects.\n",
    "\n",
    "- `version` = What version of the data product to use, input as a numerical string. If no input is given, this value defaults to the most recent version of the product specified in `short_name`.\n",
    "\n",
    "*NOTE Version 002 is used as an example in the below cell. However, using it will cause 'no results' errors in granule ordering for some search parameters. These issues have been resolved in later versions of the data products, so it is best to use the most recent version where possible.\n",
    "Similarly, if you try to order/download too old a version (such that it is no longer hosted by NSIDC), you will get a \"no data matched your request\" error.\n",
    "Thus, you will need to update the version associated with `region_a` and rerun the next cell for the rest of this notebook to run.*"
   ]
  },
  {
   "cell_type": "code",
   "execution_count": 12,
   "metadata": {
    "tags": []
   },
   "outputs": [
    {
     "name": "stdout",
     "output_type": "stream",
     "text": [
      "ATL06\n",
      "['2019-10-01', '2019-10-05']\n",
      "002\n",
      "Extent type: polygon\n",
      "Source file: ./supporting_files/simple_test_poly.gpkg\n",
      "Coordinates: [-55.0, 68.0, -55.0, 71.0, -48.0, 71.0, -48.0, 68.0, -55.0, 68.0]\n",
      "Start date and time: 2019-10-01 03:30:00\n",
      "End date and time: 2019-10-05 21:30:00\n"
     ]
    },
    {
     "name": "stderr",
     "output_type": "stream",
     "text": [
      "/home/jovyan/icepyx/icepyx/core/validate_inputs.py:25: UserWarning: You are using an old version of this product\n",
      "  warnings.warn(\"You are using an old version of this product\")\n"
     ]
    }
   ],
   "source": [
    "region_a = ipx.Query(short_name, spatial_extent, date_range, \\\n",
    "   start_time='03:30:00', end_time='21:30:00', version='002')\n",
    "\n",
    "print(region_a.product)\n",
    "print(region_a.dates)\n",
    "print(region_a.product_version)\n",
    "print(region_a.spatial)\n",
    "print(region_a.temporal)"
   ]
  },
  {
   "cell_type": "markdown",
   "metadata": {
    "user_expressions": []
   },
   "source": [
    "Alternatively, you can also just create the query object without creating named variables first:"
   ]
  },
  {
   "cell_type": "code",
   "execution_count": 13,
   "metadata": {
    "tags": []
   },
   "outputs": [],
   "source": [
    "# region_a = ipx.Query('ATL06',[-55, 68, -48, 71],['2019-02-01','2019-02-28'], \n",
    "#                            start_time='00:00:00', end_time='23:59:59', version='002')"
   ]
  },
  {
   "cell_type": "markdown",
   "metadata": {
    "user_expressions": []
   },
   "source": [
    "### More information about your query object\n",
    "In addition to viewing the stored object information shown above (e.g. product short name, start and end date and time, version, etc.), we can also request summary information about the data product itself or confirm that we have manually specified the latest version."
   ]
  },
  {
   "cell_type": "code",
   "execution_count": 14,
   "metadata": {
    "tags": []
   },
   "outputs": [
    {
     "name": "stdout",
     "output_type": "stream",
     "text": [
      "title :  ATLAS/ICESat-2 L3A Land Ice Height V006\n",
      "short_name :  ATL06\n",
      "version_id :  006\n",
      "time_start :  2018-10-14T00:00:00.000Z\n",
      "coordinate_system :  CARTESIAN\n",
      "summary :  This data set (ATL06) provides geolocated, land-ice surface heights (above the WGS 84 ellipsoid, ITRF2014 reference frame), plus ancillary parameters that can be used to interpret and assess the quality of the height estimates. The data were acquired by the Advanced Topographic Laser Altimeter System (ATLAS) instrument on board the Ice, Cloud and land Elevation Satellite-2 (ICESat-2) observatory.\n",
      "orbit_parameters :  {}\n",
      "006\n"
     ]
    }
   ],
   "source": [
    "region_a.product_summary_info()\n",
    "print(region_a.latest_version())"
   ]
  },
  {
   "cell_type": "markdown",
   "metadata": {
    "user_expressions": []
   },
   "source": [
    "If the summary does not provide all of the information you are looking for, or you would like to see information for previous versions of the data product, all available metadata for the collection product is available in a readable format."
   ]
  },
  {
   "cell_type": "code",
   "execution_count": 15,
   "metadata": {
    "scrolled": true,
    "tags": []
   },
   "outputs": [
    {
     "name": "stdout",
     "output_type": "stream",
     "text": [
      "{'feed': {'entry': [{'archive_center': 'NASA NSIDC DAAC',\n",
      "                     'association_details': {'services': [{'concept_id': 'S2472217299-NSIDC_CPRD'}],\n",
      "                                             'tools': [{'concept_id': 'TL1977971361-NSIDC_ECS'},\n",
      "                                                       {'concept_id': 'TL2682629857-NSIDC_CPRD'},\n",
      "                                                       {'concept_id': 'TL2746943302-NSIDC_CPRD'}]},\n",
      "                     'associations': {'services': ['S2472217299-NSIDC_CPRD'],\n",
      "                                      'tools': ['TL1977971361-NSIDC_ECS',\n",
      "                                                'TL2682629857-NSIDC_CPRD',\n",
      "                                                'TL2746943302-NSIDC_CPRD']},\n",
      "                     'boxes': ['-90 -180 90 180'],\n",
      "                     'browse_flag': False,\n",
      "                     'cloud_hosted': True,\n",
      "                     'consortiums': ['GEOSS', 'EOSDIS'],\n",
      "                     'coordinate_system': 'CARTESIAN',\n",
      "                     'data_center': 'NSIDC_CPRD',\n",
      "                     'dataset_id': 'ATLAS/ICESat-2 L3A Land Ice Height V005',\n",
      "                     'has_formats': False,\n",
      "                     'has_spatial_subsetting': False,\n",
      "                     'has_temporal_subsetting': False,\n",
      "                     'has_transforms': False,\n",
      "                     'has_variables': False,\n",
      "                     'id': 'C2153572614-NSIDC_CPRD',\n",
      "                     'links': [{'href': 'https://search.earthdata.nasa.gov/search?q=ATL06+V005',\n",
      "                                'hreflang': 'en-US',\n",
      "                                'length': '0.0KB',\n",
      "                                'rel': 'http://esipfed.org/ns/fedsearch/1.1/data#'},\n",
      "                               {'href': 'https://doi.org/10.5067/ATLAS/ATL06.005',\n",
      "                                'hreflang': 'en-US',\n",
      "                                'rel': 'http://esipfed.org/ns/fedsearch/1.1/metadata#'},\n",
      "                               {'href': 'https://doi.org/10.5067/ATLAS/ATL06.005',\n",
      "                                'hreflang': 'en-US',\n",
      "                                'rel': 'http://esipfed.org/ns/fedsearch/1.1/documentation#'}],\n",
      "                     'online_access_flag': True,\n",
      "                     'orbit_parameters': {'inclination_angle': '92.0',\n",
      "                                          'number_of_orbits': '0.071428571',\n",
      "                                          'period': '96.8',\n",
      "                                          'start_circular_latitude': '0.0',\n",
      "                                          'swath_width': '36.0'},\n",
      "                     'organizations': ['NASA NSIDC DAAC',\n",
      "                                       'NASA/GSFC/EOS/ESDIS'],\n",
      "                     'original_format': 'ISO19115',\n",
      "                     'platforms': ['ICESat-2'],\n",
      "                     'processing_level_id': 'Level 3',\n",
      "                     'service_features': {'esi': {'has_formats': False,\n",
      "                                                  'has_spatial_subsetting': False,\n",
      "                                                  'has_temporal_subsetting': False,\n",
      "                                                  'has_transforms': False,\n",
      "                                                  'has_variables': False},\n",
      "                                          'harmony': {'has_formats': False,\n",
      "                                                      'has_spatial_subsetting': False,\n",
      "                                                      'has_temporal_subsetting': False,\n",
      "                                                      'has_transforms': False,\n",
      "                                                      'has_variables': False},\n",
      "                                          'opendap': {'has_formats': False,\n",
      "                                                      'has_spatial_subsetting': False,\n",
      "                                                      'has_temporal_subsetting': False,\n",
      "                                                      'has_transforms': False,\n",
      "                                                      'has_variables': False}},\n",
      "                     'short_name': 'ATL06',\n",
      "                     'summary': 'This data set (ATL06) provides geolocated, '\n",
      "                                'land-ice surface heights (above the WGS 84 '\n",
      "                                'ellipsoid, ITRF2014 reference frame), plus '\n",
      "                                'ancillary parameters that can be used to '\n",
      "                                'interpret and assess the quality of the '\n",
      "                                'height estimates. The data were acquired by '\n",
      "                                'the Advanced Topographic Laser Altimeter '\n",
      "                                'System (ATLAS) instrument on board the Ice, '\n",
      "                                'Cloud and land Elevation Satellite-2 '\n",
      "                                '(ICESat-2) observatory.',\n",
      "                     'time_start': '2018-10-14T00:00:00.000Z',\n",
      "                     'title': 'ATLAS/ICESat-2 L3A Land Ice Height V005',\n",
      "                     'version_id': '005'},\n",
      "                    {'archive_center': 'NASA NSIDC DAAC',\n",
      "                     'association_details': {'services': [{'concept_id': 'S1977894169-NSIDC_ECS'},\n",
      "                                                          {'concept_id': 'S1568899363-NSIDC_ECS',\n",
      "                                                           'data': {'order_option': 'OO2700493442-NSIDC_ECS'}},\n",
      "                                                          {'concept_id': 'S2013515292-NSIDC_ECS',\n",
      "                                                           'data': {'order_option': 'OO2700528732-NSIDC_ECS'}},\n",
      "                                                          {'concept_id': 'S2008499525-NSIDC_ECS'}],\n",
      "                                             'tools': [{'concept_id': 'TL2000645101-NSIDC_ECS'},\n",
      "                                                       {'concept_id': 'TL1977971361-NSIDC_ECS'},\n",
      "                                                       {'concept_id': 'TL2012682515-NSIDC_ECS'},\n",
      "                                                       {'concept_id': 'TL1977912846-NSIDC_ECS'},\n",
      "                                                       {'concept_id': 'TL1956547654-NSIDC_ECS'},\n",
      "                                                       {'concept_id': 'TL2011654705-NSIDC_ECS'},\n",
      "                                                       {'concept_id': 'TL1956087574-NSIDC_ECS'},\n",
      "                                                       {'concept_id': 'TL1952642907-NSIDC_ECS'},\n",
      "                                                       {'concept_id': 'TL1994100033-NSIDC_ECS'}]},\n",
      "                     'associations': {'services': ['S1977894169-NSIDC_ECS',\n",
      "                                                   'S1568899363-NSIDC_ECS',\n",
      "                                                   'S2013515292-NSIDC_ECS',\n",
      "                                                   'S2008499525-NSIDC_ECS'],\n",
      "                                      'tools': ['TL2000645101-NSIDC_ECS',\n",
      "                                                'TL1977971361-NSIDC_ECS',\n",
      "                                                'TL2012682515-NSIDC_ECS',\n",
      "                                                'TL1977912846-NSIDC_ECS',\n",
      "                                                'TL1956547654-NSIDC_ECS',\n",
      "                                                'TL2011654705-NSIDC_ECS',\n",
      "                                                'TL1956087574-NSIDC_ECS',\n",
      "                                                'TL1952642907-NSIDC_ECS',\n",
      "                                                'TL1994100033-NSIDC_ECS']},\n",
      "                     'boxes': ['-90 -180 90 180'],\n",
      "                     'browse_flag': False,\n",
      "                     'cloud_hosted': False,\n",
      "                     'consortiums': ['GEOSS', 'EOSDIS'],\n",
      "                     'coordinate_system': 'CARTESIAN',\n",
      "                     'data_center': 'NSIDC_ECS',\n",
      "                     'dataset_id': 'ATLAS/ICESat-2 L3A Land Ice Height V005',\n",
      "                     'has_formats': True,\n",
      "                     'has_spatial_subsetting': True,\n",
      "                     'has_temporal_subsetting': True,\n",
      "                     'has_transforms': False,\n",
      "                     'has_variables': True,\n",
      "                     'id': 'C2144439155-NSIDC_ECS',\n",
      "                     'links': [{'href': 'https://n5eil01u.ecs.nsidc.org/ATLAS/ATL06.005/',\n",
      "                                'hreflang': 'en-US',\n",
      "                                'length': '0.0KB',\n",
      "                                'rel': 'http://esipfed.org/ns/fedsearch/1.1/data#'},\n",
      "                               {'href': 'https://search.earthdata.nasa.gov/search?q=ATL06+V005',\n",
      "                                'hreflang': 'en-US',\n",
      "                                'length': '0.0KB',\n",
      "                                'rel': 'http://esipfed.org/ns/fedsearch/1.1/data#'},\n",
      "                               {'href': 'https://openaltimetry.org/',\n",
      "                                'hreflang': 'en-US',\n",
      "                                'length': '0.0KB',\n",
      "                                'rel': 'http://esipfed.org/ns/fedsearch/1.1/data#'},\n",
      "                               {'href': 'https://nsidc.org/data/data-access-tool/ATL06/versions/5/',\n",
      "                                'hreflang': 'en-US',\n",
      "                                'length': '0.0KB',\n",
      "                                'rel': 'http://esipfed.org/ns/fedsearch/1.1/data#'},\n",
      "                               {'href': 'https://doi.org/10.5067/ATLAS/ATL06.005',\n",
      "                                'hreflang': 'en-US',\n",
      "                                'rel': 'http://esipfed.org/ns/fedsearch/1.1/metadata#'},\n",
      "                               {'href': 'https://doi.org/10.5067/ATLAS/ATL06.005',\n",
      "                                'hreflang': 'en-US',\n",
      "                                'rel': 'http://esipfed.org/ns/fedsearch/1.1/documentation#'}],\n",
      "                     'online_access_flag': True,\n",
      "                     'orbit_parameters': {'inclination_angle': '92.0',\n",
      "                                          'number_of_orbits': '0.071428571',\n",
      "                                          'period': '96.8',\n",
      "                                          'start_circular_latitude': '0.0',\n",
      "                                          'swath_width': '36.0'},\n",
      "                     'organizations': ['NASA NSIDC DAAC',\n",
      "                                       'NASA/GSFC/EOS/ESDIS'],\n",
      "                     'original_format': 'ISO19115',\n",
      "                     'platforms': ['ICESat-2'],\n",
      "                     'processing_level_id': 'Level 3',\n",
      "                     'service_features': {'esi': {'has_formats': True,\n",
      "                                                  'has_spatial_subsetting': True,\n",
      "                                                  'has_temporal_subsetting': True,\n",
      "                                                  'has_transforms': False,\n",
      "                                                  'has_variables': True},\n",
      "                                          'harmony': {'has_formats': False,\n",
      "                                                      'has_spatial_subsetting': False,\n",
      "                                                      'has_temporal_subsetting': False,\n",
      "                                                      'has_transforms': False,\n",
      "                                                      'has_variables': False},\n",
      "                                          'opendap': {'has_formats': False,\n",
      "                                                      'has_spatial_subsetting': False,\n",
      "                                                      'has_temporal_subsetting': False,\n",
      "                                                      'has_transforms': False,\n",
      "                                                      'has_variables': False}},\n",
      "                     'short_name': 'ATL06',\n",
      "                     'summary': 'This data set (ATL06) provides geolocated, '\n",
      "                                'land-ice surface heights (above the WGS 84 '\n",
      "                                'ellipsoid, ITRF2014 reference frame), plus '\n",
      "                                'ancillary parameters that can be used to '\n",
      "                                'interpret and assess the quality of the '\n",
      "                                'height estimates. The data were acquired by '\n",
      "                                'the Advanced Topographic Laser Altimeter '\n",
      "                                'System (ATLAS) instrument on board the Ice, '\n",
      "                                'Cloud and land Elevation Satellite-2 '\n",
      "                                '(ICESat-2) observatory.',\n",
      "                     'time_start': '2018-10-14T00:00:00.000Z',\n",
      "                     'title': 'ATLAS/ICESat-2 L3A Land Ice Height V005',\n",
      "                     'version_id': '005'},\n",
      "                    {'archive_center': 'NASA NSIDC DAAC',\n",
      "                     'association_details': {'services': [{'concept_id': 'S2472217299-NSIDC_CPRD'}],\n",
      "                                             'tools': [{'concept_id': 'TL1977971361-NSIDC_ECS'},\n",
      "                                                       {'concept_id': 'TL2682629857-NSIDC_CPRD'},\n",
      "                                                       {'concept_id': 'TL2746943302-NSIDC_CPRD'}]},\n",
      "                     'associations': {'services': ['S2472217299-NSIDC_CPRD'],\n",
      "                                      'tools': ['TL1977971361-NSIDC_ECS',\n",
      "                                                'TL2682629857-NSIDC_CPRD',\n",
      "                                                'TL2746943302-NSIDC_CPRD']},\n",
      "                     'boxes': ['-90 -180 90 180'],\n",
      "                     'browse_flag': False,\n",
      "                     'cloud_hosted': True,\n",
      "                     'consortiums': ['GEOSS', 'EOSDIS'],\n",
      "                     'coordinate_system': 'CARTESIAN',\n",
      "                     'data_center': 'NSIDC_CPRD',\n",
      "                     'dataset_id': 'ATLAS/ICESat-2 L3A Land Ice Height V006',\n",
      "                     'has_formats': False,\n",
      "                     'has_spatial_subsetting': False,\n",
      "                     'has_temporal_subsetting': False,\n",
      "                     'has_transforms': False,\n",
      "                     'has_variables': False,\n",
      "                     'id': 'C2670138092-NSIDC_CPRD',\n",
      "                     'links': [{'href': 'https://search.earthdata.nasa.gov/search?q=ATL06+V006',\n",
      "                                'hreflang': 'en-US',\n",
      "                                'length': '0.0KB',\n",
      "                                'rel': 'http://esipfed.org/ns/fedsearch/1.1/data#'},\n",
      "                               {'href': 'https://doi.org/10.5067/ATLAS/ATL06.006',\n",
      "                                'hreflang': 'en-US',\n",
      "                                'rel': 'http://esipfed.org/ns/fedsearch/1.1/metadata#'},\n",
      "                               {'href': 'https://doi.org/10.5067/ATLAS/ATL06.006',\n",
      "                                'hreflang': 'en-US',\n",
      "                                'rel': 'http://esipfed.org/ns/fedsearch/1.1/documentation#'}],\n",
      "                     'online_access_flag': True,\n",
      "                     'orbit_parameters': {},\n",
      "                     'organizations': ['NASA NSIDC DAAC',\n",
      "                                       'NASA/GSFC/EOS/ESDIS'],\n",
      "                     'original_format': 'ISO19115',\n",
      "                     'platforms': ['ICESat-2'],\n",
      "                     'processing_level_id': 'Level 3',\n",
      "                     'service_features': {'esi': {'has_formats': False,\n",
      "                                                  'has_spatial_subsetting': False,\n",
      "                                                  'has_temporal_subsetting': False,\n",
      "                                                  'has_transforms': False,\n",
      "                                                  'has_variables': False},\n",
      "                                          'harmony': {'has_formats': False,\n",
      "                                                      'has_spatial_subsetting': False,\n",
      "                                                      'has_temporal_subsetting': False,\n",
      "                                                      'has_transforms': False,\n",
      "                                                      'has_variables': False},\n",
      "                                          'opendap': {'has_formats': False,\n",
      "                                                      'has_spatial_subsetting': False,\n",
      "                                                      'has_temporal_subsetting': False,\n",
      "                                                      'has_transforms': False,\n",
      "                                                      'has_variables': False}},\n",
      "                     'short_name': 'ATL06',\n",
      "                     'summary': 'This data set (ATL06) provides geolocated, '\n",
      "                                'land-ice surface heights (above the WGS 84 '\n",
      "                                'ellipsoid, ITRF2014 reference frame), plus '\n",
      "                                'ancillary parameters that can be used to '\n",
      "                                'interpret and assess the quality of the '\n",
      "                                'height estimates. The data were acquired by '\n",
      "                                'the Advanced Topographic Laser Altimeter '\n",
      "                                'System (ATLAS) instrument on board the Ice, '\n",
      "                                'Cloud and land Elevation Satellite-2 '\n",
      "                                '(ICESat-2) observatory.',\n",
      "                     'time_start': '2018-10-14T00:00:00.000Z',\n",
      "                     'title': 'ATLAS/ICESat-2 L3A Land Ice Height V006',\n",
      "                     'version_id': '006'},\n",
      "                    {'archive_center': 'NASA NSIDC DAAC',\n",
      "                     'association_details': {'services': [{'concept_id': 'S1977894169-NSIDC_ECS'},\n",
      "                                                          {'concept_id': 'S1568899363-NSIDC_ECS',\n",
      "                                                           'data': {'order_option': 'OO2700493442-NSIDC_ECS'}},\n",
      "                                                          {'concept_id': 'S2013515292-NSIDC_ECS',\n",
      "                                                           'data': {'order_option': 'OO2700528970-NSIDC_ECS'}}],\n",
      "                                             'tools': [{'concept_id': 'TL1977971361-NSIDC_ECS'},\n",
      "                                                       {'concept_id': 'TL1952642907-NSIDC_ECS'},\n",
      "                                                       {'concept_id': 'TL2011654705-NSIDC_ECS'},\n",
      "                                                       {'concept_id': 'TL2012682515-NSIDC_ECS'},\n",
      "                                                       {'concept_id': 'TL1977912846-NSIDC_ECS'},\n",
      "                                                       {'concept_id': 'TL2000645101-NSIDC_ECS'},\n",
      "                                                       {'concept_id': 'TL1956087574-NSIDC_ECS'}]},\n",
      "                     'associations': {'services': ['S1977894169-NSIDC_ECS',\n",
      "                                                   'S1568899363-NSIDC_ECS',\n",
      "                                                   'S2013515292-NSIDC_ECS'],\n",
      "                                      'tools': ['TL1977971361-NSIDC_ECS',\n",
      "                                                'TL1952642907-NSIDC_ECS',\n",
      "                                                'TL2011654705-NSIDC_ECS',\n",
      "                                                'TL2012682515-NSIDC_ECS',\n",
      "                                                'TL1977912846-NSIDC_ECS',\n",
      "                                                'TL2000645101-NSIDC_ECS',\n",
      "                                                'TL1956087574-NSIDC_ECS']},\n",
      "                     'boxes': ['-90 -180 90 180'],\n",
      "                     'browse_flag': False,\n",
      "                     'cloud_hosted': False,\n",
      "                     'consortiums': ['GEOSS', 'EOSDIS'],\n",
      "                     'coordinate_system': 'CARTESIAN',\n",
      "                     'data_center': 'NSIDC_ECS',\n",
      "                     'dataset_id': 'ATLAS/ICESat-2 L3A Land Ice Height V006',\n",
      "                     'has_formats': True,\n",
      "                     'has_spatial_subsetting': True,\n",
      "                     'has_temporal_subsetting': True,\n",
      "                     'has_transforms': False,\n",
      "                     'has_variables': True,\n",
      "                     'id': 'C2564427300-NSIDC_ECS',\n",
      "                     'links': [{'href': 'https://n5eil01u.ecs.nsidc.org/ATLAS/ATL06.006/',\n",
      "                                'hreflang': 'en-US',\n",
      "                                'length': '0.0KB',\n",
      "                                'rel': 'http://esipfed.org/ns/fedsearch/1.1/data#'},\n",
      "                               {'href': 'https://search.earthdata.nasa.gov/search?q=ATL06+V006',\n",
      "                                'hreflang': 'en-US',\n",
      "                                'length': '0.0KB',\n",
      "                                'rel': 'http://esipfed.org/ns/fedsearch/1.1/data#'},\n",
      "                               {'href': 'https://openaltimetry.org/',\n",
      "                                'hreflang': 'en-US',\n",
      "                                'length': '0.0KB',\n",
      "                                'rel': 'http://esipfed.org/ns/fedsearch/1.1/data#'},\n",
      "                               {'href': 'https://nsidc.org/data/data-access-tool/ATL06/versions/6/',\n",
      "                                'hreflang': 'en-US',\n",
      "                                'length': '0.0KB',\n",
      "                                'rel': 'http://esipfed.org/ns/fedsearch/1.1/data#'},\n",
      "                               {'href': 'https://doi.org/10.5067/ATLAS/ATL06.006',\n",
      "                                'hreflang': 'en-US',\n",
      "                                'rel': 'http://esipfed.org/ns/fedsearch/1.1/metadata#'},\n",
      "                               {'href': 'https://doi.org/10.5067/ATLAS/ATL06.006',\n",
      "                                'hreflang': 'en-US',\n",
      "                                'rel': 'http://esipfed.org/ns/fedsearch/1.1/documentation#'}],\n",
      "                     'online_access_flag': True,\n",
      "                     'orbit_parameters': {},\n",
      "                     'organizations': ['NASA NSIDC DAAC',\n",
      "                                       'NASA/GSFC/EOS/ESDIS'],\n",
      "                     'original_format': 'ISO19115',\n",
      "                     'platforms': ['ICESat-2'],\n",
      "                     'processing_level_id': 'Level 3',\n",
      "                     'service_features': {'esi': {'has_formats': True,\n",
      "                                                  'has_spatial_subsetting': True,\n",
      "                                                  'has_temporal_subsetting': True,\n",
      "                                                  'has_transforms': False,\n",
      "                                                  'has_variables': True},\n",
      "                                          'harmony': {'has_formats': False,\n",
      "                                                      'has_spatial_subsetting': False,\n",
      "                                                      'has_temporal_subsetting': False,\n",
      "                                                      'has_transforms': False,\n",
      "                                                      'has_variables': False},\n",
      "                                          'opendap': {'has_formats': False,\n",
      "                                                      'has_spatial_subsetting': False,\n",
      "                                                      'has_temporal_subsetting': False,\n",
      "                                                      'has_transforms': False,\n",
      "                                                      'has_variables': False}},\n",
      "                     'short_name': 'ATL06',\n",
      "                     'summary': 'This data set (ATL06) provides geolocated, '\n",
      "                                'land-ice surface heights (above the WGS 84 '\n",
      "                                'ellipsoid, ITRF2014 reference frame), plus '\n",
      "                                'ancillary parameters that can be used to '\n",
      "                                'interpret and assess the quality of the '\n",
      "                                'height estimates. The data were acquired by '\n",
      "                                'the Advanced Topographic Laser Altimeter '\n",
      "                                'System (ATLAS) instrument on board the Ice, '\n",
      "                                'Cloud and land Elevation Satellite-2 '\n",
      "                                '(ICESat-2) observatory.',\n",
      "                     'time_start': '2018-10-14T00:00:00.000Z',\n",
      "                     'title': 'ATLAS/ICESat-2 L3A Land Ice Height V006',\n",
      "                     'version_id': '006'}],\n",
      "          'id': 'https://cmr.earthdata.nasa.gov:443/search/collections.json?short_name=ATL06',\n",
      "          'title': 'ECHO dataset metadata',\n",
      "          'updated': '2023-08-23T16:10:59.279Z'}}\n"
     ]
    }
   ],
   "source": [
    "region_a.product_all_info()"
   ]
  },
  {
   "cell_type": "markdown",
   "metadata": {
    "user_expressions": []
   },
   "source": [
    "### Querying a data product\n",
    "In order to search the product collection for available data granules, we need to build our search parameters. This is done automatically behind the scenes when you run `region_a.avail_granules()`, but you can also build and view them by calling `region_a.CMRparams`. These are formatted as a dictionary of key:value pairs according to the [CMR documentation](https://cmr.earthdata.nasa.gov/search/site/docs/search/api.html)."
   ]
  },
  {
   "cell_type": "code",
   "execution_count": 16,
   "metadata": {
    "tags": []
   },
   "outputs": [
    {
     "data": {
      "text/plain": [
       "{'short_name': 'ATL06',\n",
       " 'version': '002',\n",
       " 'temporal': '2019-10-01T03:30:00Z,2019-10-05T21:30:00Z',\n",
       " 'polygon': '-55.0,68.0,-48.0,68.0,-48.0,71.0,-55.0,71.0,-55.0,68.0'}"
      ]
     },
     "execution_count": 16,
     "metadata": {},
     "output_type": "execute_result"
    }
   ],
   "source": [
    "#build and view the parameters that will be submitted in our query\n",
    "region_a.CMRparams"
   ]
  },
  {
   "cell_type": "markdown",
   "metadata": {
    "user_expressions": []
   },
   "source": [
    "Now that our parameter dictionary is constructed, we can search the CMR database for the available granules.\n",
    "Granules returned by the CMR metadata search are automatically stored within the data object.\n",
    "The search completed at this level relies completely on the granules' metadata.\n",
    "As a result, some (and in rare cases all) of the granules returned may not actually contain data in your specified region, particularly if the region is small or located near the boundaries of a given granule. If this is the case, the subsetter will not return any data when you actually place the order.\n",
    "A warning message will be issued during ordering for each granule to which this applies (but no message is output for successfully subsetted granules, so don't worry!)"
   ]
  },
  {
   "cell_type": "code",
   "execution_count": 17,
   "metadata": {
    "tags": []
   },
   "outputs": [
    {
     "ename": "AssertionError",
     "evalue": "Your search returned no results; try different search parameters",
     "output_type": "error",
     "traceback": [
      "\u001b[0;31m---------------------------------------------------------------------------\u001b[0m",
      "\u001b[0;31mAttributeError\u001b[0m                            Traceback (most recent call last)",
      "File \u001b[0;32m~/icepyx/icepyx/core/query.py:951\u001b[0m, in \u001b[0;36mQuery.avail_granules\u001b[0;34m(self, ids, cycles, tracks, cloud)\u001b[0m\n\u001b[1;32m    950\u001b[0m \u001b[38;5;28;01mtry\u001b[39;00m:\n\u001b[0;32m--> 951\u001b[0m     \u001b[38;5;28;43mself\u001b[39;49m\u001b[38;5;241;43m.\u001b[39;49m\u001b[43mgranules\u001b[49m\u001b[38;5;241;43m.\u001b[39;49m\u001b[43mavail\u001b[49m\n\u001b[1;32m    952\u001b[0m \u001b[38;5;28;01mexcept\u001b[39;00m \u001b[38;5;167;01mAttributeError\u001b[39;00m:\n",
      "\u001b[0;31mAttributeError\u001b[0m: 'Granules' object has no attribute 'avail'",
      "\nDuring handling of the above exception, another exception occurred:\n",
      "\u001b[0;31mAssertionError\u001b[0m                            Traceback (most recent call last)",
      "Cell \u001b[0;32mIn[17], line 2\u001b[0m\n\u001b[1;32m      1\u001b[0m \u001b[38;5;66;03m#search for available granules and provide basic summary info about them\u001b[39;00m\n\u001b[0;32m----> 2\u001b[0m \u001b[43mregion_a\u001b[49m\u001b[38;5;241;43m.\u001b[39;49m\u001b[43mavail_granules\u001b[49m\u001b[43m(\u001b[49m\u001b[43m)\u001b[49m\n",
      "File \u001b[0;32m~/icepyx/icepyx/core/query.py:953\u001b[0m, in \u001b[0;36mQuery.avail_granules\u001b[0;34m(self, ids, cycles, tracks, cloud)\u001b[0m\n\u001b[1;32m    951\u001b[0m     \u001b[38;5;28mself\u001b[39m\u001b[38;5;241m.\u001b[39mgranules\u001b[38;5;241m.\u001b[39mavail\n\u001b[1;32m    952\u001b[0m \u001b[38;5;28;01mexcept\u001b[39;00m \u001b[38;5;167;01mAttributeError\u001b[39;00m:\n\u001b[0;32m--> 953\u001b[0m     \u001b[38;5;28;43mself\u001b[39;49m\u001b[38;5;241;43m.\u001b[39;49m\u001b[43mgranules\u001b[49m\u001b[38;5;241;43m.\u001b[39;49m\u001b[43mget_avail\u001b[49m\u001b[43m(\u001b[49m\u001b[38;5;28;43mself\u001b[39;49m\u001b[38;5;241;43m.\u001b[39;49m\u001b[43mCMRparams\u001b[49m\u001b[43m,\u001b[49m\u001b[43m \u001b[49m\u001b[38;5;28;43mself\u001b[39;49m\u001b[38;5;241;43m.\u001b[39;49m\u001b[43mreqparams\u001b[49m\u001b[43m)\u001b[49m\n\u001b[1;32m    955\u001b[0m \u001b[38;5;28;01mif\u001b[39;00m ids \u001b[38;5;129;01mor\u001b[39;00m cycles \u001b[38;5;129;01mor\u001b[39;00m tracks \u001b[38;5;129;01mor\u001b[39;00m cloud:\n\u001b[1;32m    956\u001b[0m     \u001b[38;5;66;03m# list of outputs in order of ids, cycles, tracks, cloud\u001b[39;00m\n\u001b[1;32m    957\u001b[0m     \u001b[38;5;28;01mreturn\u001b[39;00m granules\u001b[38;5;241m.\u001b[39mgran_IDs(\n\u001b[1;32m    958\u001b[0m         \u001b[38;5;28mself\u001b[39m\u001b[38;5;241m.\u001b[39mgranules\u001b[38;5;241m.\u001b[39mavail,\n\u001b[1;32m    959\u001b[0m         ids\u001b[38;5;241m=\u001b[39mids,\n\u001b[0;32m   (...)\u001b[0m\n\u001b[1;32m    962\u001b[0m         cloud\u001b[38;5;241m=\u001b[39mcloud,\n\u001b[1;32m    963\u001b[0m     )\n",
      "File \u001b[0;32m~/icepyx/icepyx/core/granules.py:251\u001b[0m, in \u001b[0;36mGranules.get_avail\u001b[0;34m(self, CMRparams, reqparams, cloud)\u001b[0m\n\u001b[1;32m    247\u001b[0m     \u001b[38;5;66;03m# Collect results\u001b[39;00m\n\u001b[1;32m    248\u001b[0m     \u001b[38;5;28mself\u001b[39m\u001b[38;5;241m.\u001b[39mavail\u001b[38;5;241m.\u001b[39mextend(results[\u001b[38;5;124m\"\u001b[39m\u001b[38;5;124mfeed\u001b[39m\u001b[38;5;124m\"\u001b[39m][\u001b[38;5;124m\"\u001b[39m\u001b[38;5;124mentry\u001b[39m\u001b[38;5;124m\"\u001b[39m])\n\u001b[1;32m    250\u001b[0m \u001b[38;5;28;01massert\u001b[39;00m (\n\u001b[0;32m--> 251\u001b[0m     \u001b[38;5;28mlen\u001b[39m(\u001b[38;5;28mself\u001b[39m\u001b[38;5;241m.\u001b[39mavail) \u001b[38;5;241m>\u001b[39m \u001b[38;5;241m0\u001b[39m\n\u001b[1;32m    252\u001b[0m ), \u001b[38;5;124m\"\u001b[39m\u001b[38;5;124mYour search returned no results; try different search parameters\u001b[39m\u001b[38;5;124m\"\u001b[39m\n",
      "\u001b[0;31mAssertionError\u001b[0m: Your search returned no results; try different search parameters"
     ]
    }
   ],
   "source": [
    "#search for available granules and provide basic summary info about them\n",
    "region_a.avail_granules()"
   ]
  },
  {
   "cell_type": "code",
   "execution_count": 18,
   "metadata": {
    "tags": []
   },
   "outputs": [
    {
     "ename": "AssertionError",
     "evalue": "Your data object has no granules associated with it",
     "output_type": "error",
     "traceback": [
      "\u001b[0;31m---------------------------------------------------------------------------\u001b[0m",
      "\u001b[0;31mAssertionError\u001b[0m                            Traceback (most recent call last)",
      "Cell \u001b[0;32mIn[18], line 2\u001b[0m\n\u001b[1;32m      1\u001b[0m \u001b[38;5;66;03m#get a list of granule IDs for the available granules\u001b[39;00m\n\u001b[0;32m----> 2\u001b[0m \u001b[43mregion_a\u001b[49m\u001b[38;5;241;43m.\u001b[39;49m\u001b[43mavail_granules\u001b[49m\u001b[43m(\u001b[49m\u001b[43mids\u001b[49m\u001b[38;5;241;43m=\u001b[39;49m\u001b[38;5;28;43;01mTrue\u001b[39;49;00m\u001b[43m)\u001b[49m\n",
      "File \u001b[0;32m~/icepyx/icepyx/core/query.py:957\u001b[0m, in \u001b[0;36mQuery.avail_granules\u001b[0;34m(self, ids, cycles, tracks, cloud)\u001b[0m\n\u001b[1;32m    953\u001b[0m     \u001b[38;5;28mself\u001b[39m\u001b[38;5;241m.\u001b[39mgranules\u001b[38;5;241m.\u001b[39mget_avail(\u001b[38;5;28mself\u001b[39m\u001b[38;5;241m.\u001b[39mCMRparams, \u001b[38;5;28mself\u001b[39m\u001b[38;5;241m.\u001b[39mreqparams)\n\u001b[1;32m    955\u001b[0m \u001b[38;5;28;01mif\u001b[39;00m ids \u001b[38;5;129;01mor\u001b[39;00m cycles \u001b[38;5;129;01mor\u001b[39;00m tracks \u001b[38;5;129;01mor\u001b[39;00m cloud:\n\u001b[1;32m    956\u001b[0m     \u001b[38;5;66;03m# list of outputs in order of ids, cycles, tracks, cloud\u001b[39;00m\n\u001b[0;32m--> 957\u001b[0m     \u001b[38;5;28;01mreturn\u001b[39;00m \u001b[43mgranules\u001b[49m\u001b[38;5;241;43m.\u001b[39;49m\u001b[43mgran_IDs\u001b[49m\u001b[43m(\u001b[49m\n\u001b[1;32m    958\u001b[0m \u001b[43m        \u001b[49m\u001b[38;5;28;43mself\u001b[39;49m\u001b[38;5;241;43m.\u001b[39;49m\u001b[43mgranules\u001b[49m\u001b[38;5;241;43m.\u001b[39;49m\u001b[43mavail\u001b[49m\u001b[43m,\u001b[49m\n\u001b[1;32m    959\u001b[0m \u001b[43m        \u001b[49m\u001b[43mids\u001b[49m\u001b[38;5;241;43m=\u001b[39;49m\u001b[43mids\u001b[49m\u001b[43m,\u001b[49m\n\u001b[1;32m    960\u001b[0m \u001b[43m        \u001b[49m\u001b[43mcycles\u001b[49m\u001b[38;5;241;43m=\u001b[39;49m\u001b[43mcycles\u001b[49m\u001b[43m,\u001b[49m\n\u001b[1;32m    961\u001b[0m \u001b[43m        \u001b[49m\u001b[43mtracks\u001b[49m\u001b[38;5;241;43m=\u001b[39;49m\u001b[43mtracks\u001b[49m\u001b[43m,\u001b[49m\n\u001b[1;32m    962\u001b[0m \u001b[43m        \u001b[49m\u001b[43mcloud\u001b[49m\u001b[38;5;241;43m=\u001b[39;49m\u001b[43mcloud\u001b[49m\u001b[43m,\u001b[49m\n\u001b[1;32m    963\u001b[0m \u001b[43m    \u001b[49m\u001b[43m)\u001b[49m\n\u001b[1;32m    964\u001b[0m \u001b[38;5;28;01melse\u001b[39;00m:\n\u001b[1;32m    965\u001b[0m     \u001b[38;5;28;01mreturn\u001b[39;00m granules\u001b[38;5;241m.\u001b[39minfo(\u001b[38;5;28mself\u001b[39m\u001b[38;5;241m.\u001b[39mgranules\u001b[38;5;241m.\u001b[39mavail)\n",
      "File \u001b[0;32m~/icepyx/icepyx/core/granules.py:59\u001b[0m, in \u001b[0;36mgran_IDs\u001b[0;34m(grans, ids, cycles, tracks, dates, cloud)\u001b[0m\n\u001b[1;32m     38\u001b[0m \u001b[38;5;28;01mdef\u001b[39;00m \u001b[38;5;21mgran_IDs\u001b[39m(grans, ids\u001b[38;5;241m=\u001b[39m\u001b[38;5;28;01mFalse\u001b[39;00m, cycles\u001b[38;5;241m=\u001b[39m\u001b[38;5;28;01mFalse\u001b[39;00m, tracks\u001b[38;5;241m=\u001b[39m\u001b[38;5;28;01mFalse\u001b[39;00m, dates\u001b[38;5;241m=\u001b[39m\u001b[38;5;28;01mFalse\u001b[39;00m, cloud\u001b[38;5;241m=\u001b[39m\u001b[38;5;28;01mFalse\u001b[39;00m):\n\u001b[1;32m     39\u001b[0m \u001b[38;5;250m    \u001b[39m\u001b[38;5;124;03m\"\"\"\u001b[39;00m\n\u001b[1;32m     40\u001b[0m \u001b[38;5;124;03m    Returns a list of granule information for each granule dictionary in the input list of granule dictionaries.\u001b[39;00m\n\u001b[1;32m     41\u001b[0m \u001b[38;5;124;03m    Granule info may be from a list of those available from NSIDC (for ordering/download)\u001b[39;00m\n\u001b[0;32m   (...)\u001b[0m\n\u001b[1;32m     57\u001b[0m \u001b[38;5;124;03m        Return a a list of AWS s3 urls for the available granules in the granule dictionary.\u001b[39;00m\n\u001b[1;32m     58\u001b[0m \u001b[38;5;124;03m    \"\"\"\u001b[39;00m\n\u001b[0;32m---> 59\u001b[0m     \u001b[38;5;28;01massert\u001b[39;00m \u001b[38;5;28mlen\u001b[39m(grans) \u001b[38;5;241m>\u001b[39m \u001b[38;5;241m0\u001b[39m, \u001b[38;5;124m\"\u001b[39m\u001b[38;5;124mYour data object has no granules associated with it\u001b[39m\u001b[38;5;124m\"\u001b[39m\n\u001b[1;32m     60\u001b[0m     \u001b[38;5;66;03m# regular expression for extracting parameters from file names\u001b[39;00m\n\u001b[1;32m     61\u001b[0m     rx \u001b[38;5;241m=\u001b[39m re\u001b[38;5;241m.\u001b[39mcompile(\n\u001b[1;32m     62\u001b[0m         \u001b[38;5;124mr\u001b[39m\u001b[38;5;124m\"\u001b[39m\u001b[38;5;124m(ATL\u001b[39m\u001b[38;5;124m\\\u001b[39m\u001b[38;5;124md\u001b[39m\u001b[38;5;132;01m{2}\u001b[39;00m\u001b[38;5;124m)(-\u001b[39m\u001b[38;5;124m\\\u001b[39m\u001b[38;5;124md\u001b[39m\u001b[38;5;132;01m{2}\u001b[39;00m\u001b[38;5;124m)?_(\u001b[39m\u001b[38;5;124m\\\u001b[39m\u001b[38;5;124md\u001b[39m\u001b[38;5;132;01m{4}\u001b[39;00m\u001b[38;5;124m)(\u001b[39m\u001b[38;5;124m\\\u001b[39m\u001b[38;5;124md\u001b[39m\u001b[38;5;132;01m{2}\u001b[39;00m\u001b[38;5;124m)(\u001b[39m\u001b[38;5;124m\\\u001b[39m\u001b[38;5;124md\u001b[39m\u001b[38;5;132;01m{2}\u001b[39;00m\u001b[38;5;124m)(\u001b[39m\u001b[38;5;124m\\\u001b[39m\u001b[38;5;124md\u001b[39m\u001b[38;5;132;01m{2}\u001b[39;00m\u001b[38;5;124m)(\u001b[39m\u001b[38;5;124m\\\u001b[39m\u001b[38;5;124md\u001b[39m\u001b[38;5;132;01m{2}\u001b[39;00m\u001b[38;5;124m)\u001b[39m\u001b[38;5;124m\"\u001b[39m\n\u001b[1;32m     63\u001b[0m         \u001b[38;5;124mr\u001b[39m\u001b[38;5;124m\"\u001b[39m\u001b[38;5;124m(\u001b[39m\u001b[38;5;124m\\\u001b[39m\u001b[38;5;124md\u001b[39m\u001b[38;5;132;01m{2}\u001b[39;00m\u001b[38;5;124m)_(\u001b[39m\u001b[38;5;124m\\\u001b[39m\u001b[38;5;124md\u001b[39m\u001b[38;5;132;01m{4}\u001b[39;00m\u001b[38;5;124m)(\u001b[39m\u001b[38;5;124m\\\u001b[39m\u001b[38;5;124md\u001b[39m\u001b[38;5;132;01m{2}\u001b[39;00m\u001b[38;5;124m)(\u001b[39m\u001b[38;5;124m\\\u001b[39m\u001b[38;5;124md\u001b[39m\u001b[38;5;132;01m{2}\u001b[39;00m\u001b[38;5;124m)_(\u001b[39m\u001b[38;5;124m\\\u001b[39m\u001b[38;5;124md\u001b[39m\u001b[38;5;132;01m{3}\u001b[39;00m\u001b[38;5;124m)_(\u001b[39m\u001b[38;5;124m\\\u001b[39m\u001b[38;5;124md\u001b[39m\u001b[38;5;132;01m{2}\u001b[39;00m\u001b[38;5;124m)(.*?).(.*?)$\u001b[39m\u001b[38;5;124m\"\u001b[39m\n\u001b[1;32m     64\u001b[0m     )\n",
      "\u001b[0;31mAssertionError\u001b[0m: Your data object has no granules associated with it"
     ]
    }
   ],
   "source": [
    "#get a list of granule IDs for the available granules\n",
    "region_a.avail_granules(ids=True)"
   ]
  },
  {
   "cell_type": "code",
   "execution_count": 19,
   "metadata": {
    "scrolled": true,
    "tags": []
   },
   "outputs": [
    {
     "data": {
      "text/plain": [
       "[]"
      ]
     },
     "execution_count": 19,
     "metadata": {},
     "output_type": "execute_result"
    }
   ],
   "source": [
    "#print detailed information about the returned search results\n",
    "region_a.granules.avail"
   ]
  },
  {
   "cell_type": "markdown",
   "metadata": {
    "user_expressions": []
   },
   "source": [
    "### Log in to NASA Earthdata\n",
    "When downloading data from NSIDC, all users must login using a valid (free) Earthdata account. The process of authenticating is handled by icepyx by creating and handling the required authentication to interface with the data at the DAAC (including ordering and download). Authentication is completed as login-protected features are accessed. In order to allow icepyx to login for us we still have to make sure that we have made our Earthdata credentials available for icepyx to find.\n",
    "\n",
    "There are multiple ways to provide your Earthdata credentials via icepyx. Behind the scenes, icepyx is using the [earthaccess library](https://nsidc.github.io/earthaccess/). The [earthaccess documentation](https://nsidc.github.io/earthaccess/tutorials/restricted-datasets/#auth) automatically tries three primary mechanisms for logging in, all of which are supported by icepyx:\n",
    "- with `EARTHDATA_USERNAME` and `EARTHDATA_PASSWORD` environment variables (these are the same as the ones you might have set for icepyx previously)\n",
    "- through an interactive, in-notebook login (used below); passwords are not shown plain text with this option\n",
    "- with stored credentials in a .netrc file (not recommended for security reasons)"
   ]
  },
  {
   "cell_type": "markdown",
   "metadata": {
    "user_expressions": []
   },
   "source": [
    "```{admonition} Important Authentication Update\n",
<<<<<<< Updated upstream
    "Previously, icepyx required you to explicitly use the `earthdata_login()` function to login. Running this function is no longer required, but it is still available for backwards compatibility. Note that the function no longer requires any (e.g. email, user ID) inputs.\n",
=======
    "Previously, icepyx required you to explicitly use the `earthdata_login()` function to login. Running this function is no longer required, but it is still available for backwards compatibility. \n",
    "\n",
    "If you do choose to use the `earthdata_login()`, you will also note that certain inputs, such as `earthdata_uid` and `email`, are no longer required. e.g. `region_a.earthdata_login(earthdata_uid, email)` becomes `region_a.earthdata_login()`\n",
>>>>>>> Stashed changes
    "```"
   ]
  },
  {
   "cell_type": "markdown",
   "metadata": {},
   "source": [
    "### Additional Parameters and Subsetting\n",
    "\n",
    "Once we have generated our session, we must build the required configuration parameters needed to actually download data. These will tell the system how we want to download the data. As with the CMR search parameters, these will be built automatically when you run `region_a.order_granules()`, but you can also create and view them with `region_a.reqparams`. The default parameters, given below, should work for most users.\n",
    "- `page_size` = 2000. This is the number of granules we will request per order.\n",
    "- `page_num` = 1. Determine the number of pages based on page size and the number of granules available. If no page_num is specified, this calculation is done automatically to set page_num, which then provides the number of individual orders we will request given the number of granules.\n",
    "- `request_mode` = 'async'\n",
    "- `agent` = 'NO'\n",
    "- `include_meta` = 'Y'\n",
    "\n",
    "#### More details about the configuration parameters\n",
    "`request_mode` is \"asynchronous\" by default, which allows concurrent requests to be queued and processed without the need for a continuous connection between you and the API endpoint.\n",
    "In contrast, using a \"synchronous\" `request_mode` means that the request relies on a direct, continous connection between you and the API endpoint.\n",
    "Outputs are directly downloaded, or \"streamed\", to your working directory.\n",
    "For this tutorial, we will set the request mode to asynchronous.\n",
    "\n",
    "**Use the streaming `request_mode` with caution: While it can be beneficial to stream outputs directly to your local directory, note that timeout errors can result depending on the size of the request, and your request will not be queued in the system if NSIDC is experiencing high request volume. For best performance, NSIDC recommends setting `page_size=1` to download individual outputs, which will eliminate extra time needed to zip outputs and will ensure faster processing times per request.**\n",
    "\n",
    "Recall that we queried the total number and volume of granules prior to applying customization services. `page_size` and `page_num` can be used to adjust the number of granules per request up to a limit of 2000 granules for asynchronous, and 100 granules for synchronous (streaming). For now, let's select 9 granules to be processed in each zipped request. For ATL06, the granule size can exceed 100 MB so we want to choose a granule count that provides us with a reasonable zipped download size. "
   ]
  },
  {
   "cell_type": "code",
   "execution_count": 20,
   "metadata": {
    "tags": []
   },
   "outputs": [
    {
     "name": "stdout",
     "output_type": "stream",
     "text": [
      "{'page_size': 2000}\n"
     ]
    }
   ],
   "source": [
    "print(region_a.reqparams)\n",
    "# region_a.reqparams['page_size'] = 9\n",
    "# print(region_a.reqparams)"
   ]
  },
  {
   "cell_type": "markdown",
   "metadata": {
    "user_expressions": []
   },
   "source": [
    "#### Subsetting\n",
    "\n",
    "In addition to the required parameters (CMRparams and reqparams) that are submitted with our order, for ICESat-2 data products we can also submit subsetting parameters to NSIDC.\n",
    "For a deeper dive into subsetting, please see our [Subsetting Tutorial Notebook](https://icepyx.readthedocs.io/en/latest/example_notebooks/IS2_data_access2-subsetting.html), which covers subsetting in more detail, including how to get a list of subsetting options, how to build your list of subsetting parameters, and how to generate a list of desired variables (most datasets have more than 200 variable fields!), including using pre-built default lists (these lists are still in progress and we welcome contributions!).\n",
    "\n",
    "Subsetting utilizes the NSIDC's built in subsetter to extract only the data you are interested (spatially, temporally, variables of interest, etc.). The advantages of using the NSIDC's subsetter include:\n",
    "* easily reproducible downloads, particularly when coupled with an icepyx query object\n",
    "* smaller file size, meaning faster downloads, less storage required, and no need to subset the data on your own\n",
    "* still easy to go back and order more data/variables with the same or similar search parameters\n",
    "* no extraneous data means you can move directly to analysis and easily navigate your dataset\n",
    "\n",
    "Certain subset parameters are specified by default unless `subset=False` is included as an input to `order_granules()` or `download_granules()` (which calls `order_granules()` under the hood). A separate, companion notebook tutorial covers subsetting in more detail, including how to get a list of subsetting options, how to build your list of subsetting parameters, and how to generate a list of desired variables (most products have more than 200 variable fields!), including using pre-built default lists (these lists are still in progress and we welcome contributions!).\n",
    "\n",
    "As for the CMR and required parameters, default subset parameters can be built and viewed using `subsetparams`. Where an input spatial file is used, rather than a bounding box or manually entered polygon, the spatial file will be used for subsetting (unless subset is set to False) but not show up in the `subsetparams` dictionary.\n",
    "\n",
    "icepyx also makes it easy to take advantage of the reformatting (e.g. file format conversion) options offered by NSIDC. These are covered in more detail in the [Subsetting Tutorial Notebook](https://icepyx.readthedocs.io/en/latest/example_notebooks/IS2_data_access2-subsetting.html)."
   ]
  },
  {
   "cell_type": "code",
   "execution_count": 21,
   "metadata": {
    "tags": []
   },
   "outputs": [
    {
     "data": {
      "text/plain": [
       "{'time': '2019-10-01T03:30:00,2019-10-05T21:30:00',\n",
       " 'Boundingshape': '{\"type\":\"FeatureCollection\",\"features\":[{\"id\":\"0\",\"type\":\"Feature\",\"properties\":{},\"geometry\":{\"type\":\"Polygon\",\"coordinates\":[[[-55.0,68.0],[-48.0,68.0],[-48.0,71.0],[-55.0,71.0],[-55.0,68.0]]]},\"bbox\":[-55.0,68.0,-48.0,71.0]}],\"bbox\":[-55.0,68.0,-48.0,71.0]}'}"
      ]
     },
     "execution_count": 21,
     "metadata": {},
     "output_type": "execute_result"
    }
   ],
   "source": [
    "region_a.subsetparams()"
   ]
  },
  {
   "cell_type": "markdown",
   "metadata": {
    "user_expressions": []
   },
   "source": [
    "### Place the order\n",
    "Then, we can send the order to NSIDC using the order_granules function. Information about the granules ordered and their status will be printed automatically. Status information can also be emailed to the address associated with your EarthData account when the `email` kwarg is set to `True`. Additional information on the order, including request URLs, can be viewed by setting the optional keyword input 'verbose' to True."
   ]
  },
  {
   "cell_type": "code",
   "execution_count": 22,
   "metadata": {
    "tags": []
   },
   "outputs": [
    {
     "name": "stdout",
     "output_type": "stream",
     "text": [
      "EARTHDATA_USERNAME and EARTHDATA_PASSWORD are not set in the current environment, try setting them or use a different strategy (netrc, interactive)\n",
      "You're now authenticated with NASA Earthdata Login\n",
      "Using token with expiration date: 10/13/2023\n",
      "Using .netrc file for EDL\n"
     ]
    },
    {
     "ename": "AssertionError",
     "evalue": "Your search returned no results; try different search parameters",
     "output_type": "error",
     "traceback": [
      "\u001b[0;31m---------------------------------------------------------------------------\u001b[0m",
      "\u001b[0;31mAssertionError\u001b[0m                            Traceback (most recent call last)",
      "Cell \u001b[0;32mIn[22], line 1\u001b[0m\n\u001b[0;32m----> 1\u001b[0m \u001b[43mregion_a\u001b[49m\u001b[38;5;241;43m.\u001b[39;49m\u001b[43morder_granules\u001b[49m\u001b[43m(\u001b[49m\u001b[43m)\u001b[49m\n\u001b[1;32m      2\u001b[0m \u001b[38;5;66;03m# region_a.order_granules(verbose=True, subset=False, email=False)\u001b[39;00m\n",
      "File \u001b[0;32m~/icepyx/icepyx/core/query.py:1062\u001b[0m, in \u001b[0;36mQuery.order_granules\u001b[0;34m(self, verbose, subset, email, **kwargs)\u001b[0m\n\u001b[1;32m   1051\u001b[0m         \u001b[38;5;28mself\u001b[39m\u001b[38;5;241m.\u001b[39m_granules\u001b[38;5;241m.\u001b[39mplace_order(\n\u001b[1;32m   1052\u001b[0m             tempCMRparams,\n\u001b[1;32m   1053\u001b[0m             \u001b[38;5;28mself\u001b[39m\u001b[38;5;241m.\u001b[39mreqparams,\n\u001b[0;32m   (...)\u001b[0m\n\u001b[1;32m   1058\u001b[0m             geom_filepath\u001b[38;5;241m=\u001b[39m\u001b[38;5;28mself\u001b[39m\u001b[38;5;241m.\u001b[39m_spatial\u001b[38;5;241m.\u001b[39m_geom_file,\n\u001b[1;32m   1059\u001b[0m         )\n\u001b[1;32m   1061\u001b[0m \u001b[38;5;28;01melse\u001b[39;00m:\n\u001b[0;32m-> 1062\u001b[0m     \u001b[38;5;28;43mself\u001b[39;49m\u001b[38;5;241;43m.\u001b[39;49m\u001b[43m_granules\u001b[49m\u001b[38;5;241;43m.\u001b[39;49m\u001b[43mplace_order\u001b[49m\u001b[43m(\u001b[49m\n\u001b[1;32m   1063\u001b[0m \u001b[43m        \u001b[49m\u001b[38;5;28;43mself\u001b[39;49m\u001b[38;5;241;43m.\u001b[39;49m\u001b[43mCMRparams\u001b[49m\u001b[43m,\u001b[49m\n\u001b[1;32m   1064\u001b[0m \u001b[43m        \u001b[49m\u001b[38;5;28;43mself\u001b[39;49m\u001b[38;5;241;43m.\u001b[39;49m\u001b[43mreqparams\u001b[49m\u001b[43m,\u001b[49m\n\u001b[1;32m   1065\u001b[0m \u001b[43m        \u001b[49m\u001b[38;5;28;43mself\u001b[39;49m\u001b[38;5;241;43m.\u001b[39;49m\u001b[43msubsetparams\u001b[49m\u001b[43m(\u001b[49m\u001b[38;5;241;43m*\u001b[39;49m\u001b[38;5;241;43m*\u001b[39;49m\u001b[43mkwargs\u001b[49m\u001b[43m)\u001b[49m\u001b[43m,\u001b[49m\n\u001b[1;32m   1066\u001b[0m \u001b[43m        \u001b[49m\u001b[43mverbose\u001b[49m\u001b[43m,\u001b[49m\n\u001b[1;32m   1067\u001b[0m \u001b[43m        \u001b[49m\u001b[43msubset\u001b[49m\u001b[43m,\u001b[49m\n\u001b[1;32m   1068\u001b[0m \u001b[43m        \u001b[49m\u001b[43msession\u001b[49m\u001b[38;5;241;43m=\u001b[39;49m\u001b[38;5;28;43mself\u001b[39;49m\u001b[38;5;241;43m.\u001b[39;49m\u001b[43msession\u001b[49m\u001b[43m,\u001b[49m\n\u001b[1;32m   1069\u001b[0m \u001b[43m        \u001b[49m\u001b[43mgeom_filepath\u001b[49m\u001b[38;5;241;43m=\u001b[39;49m\u001b[38;5;28;43mself\u001b[39;49m\u001b[38;5;241;43m.\u001b[39;49m\u001b[43m_spatial\u001b[49m\u001b[38;5;241;43m.\u001b[39;49m\u001b[43m_geom_file\u001b[49m\u001b[43m,\u001b[49m\n\u001b[1;32m   1070\u001b[0m \u001b[43m    \u001b[49m\u001b[43m)\u001b[49m\n",
      "File \u001b[0;32m~/icepyx/icepyx/core/granules.py:315\u001b[0m, in \u001b[0;36mGranules.place_order\u001b[0;34m(self, CMRparams, reqparams, subsetparams, verbose, subset, session, geom_filepath)\u001b[0m\n\u001b[1;32m    309\u001b[0m     \u001b[38;5;28;01mraise\u001b[39;00m \u001b[38;5;167;01mValueError\u001b[39;00m(\n\u001b[1;32m    310\u001b[0m         \u001b[38;5;124m\"\u001b[39m\u001b[38;5;124mDon\u001b[39m\u001b[38;5;124m'\u001b[39m\u001b[38;5;124mt forget to log in to Earthdata using query.earthdata_login()\u001b[39m\u001b[38;5;124m\"\u001b[39m\n\u001b[1;32m    311\u001b[0m     )\n\u001b[1;32m    313\u001b[0m base_url \u001b[38;5;241m=\u001b[39m \u001b[38;5;124m\"\u001b[39m\u001b[38;5;124mhttps://n5eil02u.ecs.nsidc.org/egi/request\u001b[39m\u001b[38;5;124m\"\u001b[39m\n\u001b[0;32m--> 315\u001b[0m \u001b[38;5;28;43mself\u001b[39;49m\u001b[38;5;241;43m.\u001b[39;49m\u001b[43mget_avail\u001b[49m\u001b[43m(\u001b[49m\u001b[43mCMRparams\u001b[49m\u001b[43m,\u001b[49m\u001b[43m \u001b[49m\u001b[43mreqparams\u001b[49m\u001b[43m)\u001b[49m\n\u001b[1;32m    317\u001b[0m \u001b[38;5;28;01mif\u001b[39;00m subset \u001b[38;5;129;01mis\u001b[39;00m \u001b[38;5;28;01mFalse\u001b[39;00m:\n\u001b[1;32m    318\u001b[0m     request_params \u001b[38;5;241m=\u001b[39m apifmt\u001b[38;5;241m.\u001b[39mcombine_params(\n\u001b[1;32m    319\u001b[0m         CMRparams, reqparams, {\u001b[38;5;124m\"\u001b[39m\u001b[38;5;124magent\u001b[39m\u001b[38;5;124m\"\u001b[39m: \u001b[38;5;124m\"\u001b[39m\u001b[38;5;124mNO\u001b[39m\u001b[38;5;124m\"\u001b[39m}\n\u001b[1;32m    320\u001b[0m     )\n",
      "File \u001b[0;32m~/icepyx/icepyx/core/granules.py:251\u001b[0m, in \u001b[0;36mGranules.get_avail\u001b[0;34m(self, CMRparams, reqparams, cloud)\u001b[0m\n\u001b[1;32m    247\u001b[0m     \u001b[38;5;66;03m# Collect results\u001b[39;00m\n\u001b[1;32m    248\u001b[0m     \u001b[38;5;28mself\u001b[39m\u001b[38;5;241m.\u001b[39mavail\u001b[38;5;241m.\u001b[39mextend(results[\u001b[38;5;124m\"\u001b[39m\u001b[38;5;124mfeed\u001b[39m\u001b[38;5;124m\"\u001b[39m][\u001b[38;5;124m\"\u001b[39m\u001b[38;5;124mentry\u001b[39m\u001b[38;5;124m\"\u001b[39m])\n\u001b[1;32m    250\u001b[0m \u001b[38;5;28;01massert\u001b[39;00m (\n\u001b[0;32m--> 251\u001b[0m     \u001b[38;5;28mlen\u001b[39m(\u001b[38;5;28mself\u001b[39m\u001b[38;5;241m.\u001b[39mavail) \u001b[38;5;241m>\u001b[39m \u001b[38;5;241m0\u001b[39m\n\u001b[1;32m    252\u001b[0m ), \u001b[38;5;124m\"\u001b[39m\u001b[38;5;124mYour search returned no results; try different search parameters\u001b[39m\u001b[38;5;124m\"\u001b[39m\n",
      "\u001b[0;31mAssertionError\u001b[0m: Your search returned no results; try different search parameters"
     ]
    }
   ],
   "source": [
    "region_a.order_granules()\n",
    "# region_a.order_granules(verbose=True, subset=False, email=False)"
   ]
  },
  {
   "cell_type": "code",
   "execution_count": null,
   "metadata": {
    "tags": []
   },
   "outputs": [],
   "source": [
    "#view a short list of order IDs\n",
    "region_a.granules.orderIDs"
   ]
  },
  {
   "cell_type": "markdown",
   "metadata": {},
   "source": [
    "### Download the order\n",
    "Finally, we can download our order to a specified directory (which needs to have a full path but doesn't have to point to an existing directory) and the download status will be printed as the program runs. Additional information is again available by using the optional boolean keyword `verbose`."
   ]
  },
  {
   "cell_type": "code",
   "execution_count": null,
   "metadata": {
    "tags": []
   },
   "outputs": [],
   "source": [
    "path = './download'\n",
    "region_a.download_granules(path)"
   ]
  },
  {
   "cell_type": "markdown",
   "metadata": {},
   "source": [
    "**Credits**\n",
    "* original notebook by: Jessica Scheick\n",
    "* notebook contributors: Amy Steiker and Tyler Sutterley\n",
    "* source material: [NSIDC Data Access Notebook](https://github.com/ICESAT-2HackWeek/ICESat2_hackweek_tutorials/tree/master/03_NSIDCDataAccess_Steiker) by Amy Steiker and Bruce Wallin and [2020 Hackweek Data Access Notebook](https://github.com/ICESAT-2HackWeek/2020_ICESat-2_Hackweek_Tutorials/blob/main/06-07.Data_Access/02-Data_Access_rendered.ipynb) by Jessica Scheick and Amy Steiker"
   ]
  },
  {
   "cell_type": "code",
   "execution_count": null,
   "metadata": {},
   "outputs": [],
   "source": []
  },
  {
   "cell_type": "code",
   "execution_count": null,
   "metadata": {},
   "outputs": [],
   "source": []
  }
 ],
 "metadata": {
  "kernelspec": {
   "display_name": "Python 3 (ipykernel)",
   "language": "python",
   "name": "python3"
  },
  "language_info": {
   "codemirror_mode": {
    "name": "ipython",
    "version": 3
   },
   "file_extension": ".py",
   "mimetype": "text/x-python",
   "name": "python",
   "nbconvert_exporter": "python",
   "pygments_lexer": "ipython3",
   "version": "3.10.10"
  }
 },
 "nbformat": 4,
 "nbformat_minor": 4
}
