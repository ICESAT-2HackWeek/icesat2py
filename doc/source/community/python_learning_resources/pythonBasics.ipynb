{
  "nbformat": 4,
  "nbformat_minor": 0,
  "metadata": {
    "colab": {
      "name": "pythonBasics.ipynb",
      "provenance": []
    },
    "kernelspec": {
      "name": "python3",
      "display_name": "Python 3"
    }
  },
  "cells": [
    {
      "cell_type": "markdown",
      "metadata": {
        "id": "nEkUcKNNoroO"
      },
      "source": [
        "# Python Basics"
      ]
    },
    {
      "cell_type": "markdown",
      "metadata": {
        "id": "iu81_HDGJ2Ql"
      },
      "source": [
        "Notebook by:\n",
        "Romina Piunno \\\\\n",
        "Department of Physics \\\\\n",
        "University of Toronto \\\\\n",
        "Feb. 2021"
      ]
    },
    {
      "cell_type": "markdown",
      "metadata": {
        "id": "rA4lXQDXpvSf"
      },
      "source": [
        "## Objects"
      ]
    },
    {
      "cell_type": "markdown",
      "metadata": {
        "id": "fbOG1mj1p15a"
      },
      "source": [
        "Everything in Python is an \"object\". Objects can be variables, functions, data structures, etc. What they all have in common is that they each have a uniquie identifier such that they can be referenced in memory. "
      ]
    },
    {
      "cell_type": "code",
      "metadata": {
        "id": "IxWZKccBrfp7"
      },
      "source": [
        "import numpy as np\n",
        "import random\n",
        "import time"
      ],
      "execution_count": null,
      "outputs": []
    },
    {
      "cell_type": "code",
      "metadata": {
        "colab": {
          "base_uri": "https://localhost:8080/"
        },
        "id": "sEEfWrsjorJm",
        "outputId": "37fd38d6-b803-4a1a-b32c-807da5854741"
      },
      "source": [
        "# Let's look at a numpy array as an example\n",
        "a = np.array([[3,1,4,1,5,9], [2,7,1,8,2,8]])\n",
        "print(a)"
      ],
      "execution_count": null,
      "outputs": [
        {
          "output_type": "stream",
          "text": [
            "[[3 1 4 1 5 9]\n",
            " [2 7 1 8 2 8]]\n"
          ],
          "name": "stdout"
        }
      ]
    },
    {
      "cell_type": "markdown",
      "metadata": {
        "id": "9HxV635Er1mP"
      },
      "source": [
        "Objects have \"attributes\" \\\\\n",
        "we can access these attributes using a period after the variable name"
      ]
    },
    {
      "cell_type": "code",
      "metadata": {
        "colab": {
          "base_uri": "https://localhost:8080/"
        },
        "id": "l_t3-Zk0roxJ",
        "outputId": "d03ca4dd-5c3b-4e18-899a-ee81a97c0ac9"
      },
      "source": [
        "# arrays have a shape and size\n",
        "print(a.shape, a.size)"
      ],
      "execution_count": null,
      "outputs": [
        {
          "output_type": "stream",
          "text": [
            "(2, 6) 12\n"
          ],
          "name": "stdout"
        }
      ]
    },
    {
      "cell_type": "markdown",
      "metadata": {
        "id": "FV07cEhktZ39"
      },
      "source": [
        "Objects also have \"methods\". These are actions that the object knows how to do. \\\\\n",
        "We also call methods using a period after the variable name. We can tell the difference between an attribute and a method because methods are always followed by parentheses () which may or may not contain additional arguemnets."
      ]
    },
    {
      "cell_type": "code",
      "metadata": {
        "colab": {
          "base_uri": "https://localhost:8080/"
        },
        "id": "Btw1Rv3rsECD",
        "outputId": "95512837-4165-4a81-87f0-bd98dc44fe69"
      },
      "source": [
        "# arrays can be sorted\n",
        "a.sort()\n",
        "print(a)"
      ],
      "execution_count": null,
      "outputs": [
        {
          "output_type": "stream",
          "text": [
            "[[1 1 3 4 5 9]\n",
            " [1 2 2 7 8 8]]\n"
          ],
          "name": "stdout"
        }
      ]
    },
    {
      "cell_type": "code",
      "metadata": {
        "colab": {
          "base_uri": "https://localhost:8080/"
        },
        "id": "60PBSsczs2rK",
        "outputId": "7a931700-61e7-4967-86c2-005647920c87"
      },
      "source": [
        "# we can pass an *argument* to sort along a different axis\n",
        "a.sort(axis=0)\n",
        "print(a)"
      ],
      "execution_count": null,
      "outputs": [
        {
          "output_type": "stream",
          "text": [
            "[[2 1 1 1 2 8]\n",
            " [3 7 4 8 5 9]]\n"
          ],
          "name": "stdout"
        }
      ]
    },
    {
      "cell_type": "markdown",
      "metadata": {
        "id": "5x0XRGRh12NI"
      },
      "source": [
        "## Lists vs. Dictionaries"
      ]
    },
    {
      "cell_type": "markdown",
      "metadata": {
        "id": "1nfcadZj2P0d"
      },
      "source": [
        "Let's say I want to store the phone numbers of all my friends. We need to couple a name to a phone number. There are multiple ways to do this."
      ]
    },
    {
      "cell_type": "code",
      "metadata": {
        "colab": {
          "base_uri": "https://localhost:8080/"
        },
        "id": "mzeM8reL2nmN",
        "outputId": "76c5b290-2c8b-4618-be52-4dac4d995c41"
      },
      "source": [
        "my_friends = ['Elmo', 'Oscar', 'Big Bird', 'Cookie Monster', 'Ernie', 'Bert', 'Grover']\n",
        "# We can use a list of tuples, or a dictionary for instance\n",
        "phone_list = []\n",
        "phone_dict = {}\n",
        "for friend in my_friends:\n",
        "  phone_num = random.randint(100,999)\n",
        "  phone_list.append((friend, phone_num))\n",
        "  phone_dict[friend] = phone_num\n",
        "\n",
        "print(phone_list)\n",
        "print(phone_dict)"
      ],
      "execution_count": null,
      "outputs": [
        {
          "output_type": "stream",
          "text": [
            "[('Elmo', 889), ('Oscar', 141), ('Big Bird', 206), ('Cookie Monster', 682), ('Ernie', 709), ('Bert', 218), ('Grover', 786)]\n",
            "{'Elmo': 889, 'Oscar': 141, 'Big Bird': 206, 'Cookie Monster': 682, 'Ernie': 709, 'Bert': 218, 'Grover': 786}\n"
          ],
          "name": "stdout"
        }
      ]
    },
    {
      "cell_type": "code",
      "metadata": {
        "colab": {
          "base_uri": "https://localhost:8080/",
          "height": 88
        },
        "id": "Ag5yZ3Or5ebt",
        "outputId": "f29a2456-3ff3-45bf-a338-e3d3205bb423"
      },
      "source": [
        "# dictionaries are objects with attributes \"keys\" and \"values\"\n",
        "\n",
        "# keys are used for indexing\n",
        "print(phone_dict.keys())\n",
        "\n",
        "# values are what is stored under the key index\n",
        "print(phone_dict.values())\n",
        "\n",
        "'''\n",
        "note: we're calling the keys and values as methods so python returns their\n",
        "string representation rather than a memory address to where the key and value\n",
        "objects are kept in memory\n",
        "'''"
      ],
      "execution_count": null,
      "outputs": [
        {
          "output_type": "stream",
          "text": [
            "dict_keys(['Elmo', 'Oscar', 'Big Bird', 'Cookie Monster', 'Ernie', 'Bert', 'Grover'])\n",
            "dict_values([889, 141, 206, 682, 709, 218, 786])\n"
          ],
          "name": "stdout"
        },
        {
          "output_type": "execute_result",
          "data": {
            "application/vnd.google.colaboratory.intrinsic+json": {
              "type": "string"
            },
            "text/plain": [
              "\"\\nnote: we're calling the keys and values as methods so python returns their\\nstring representation rather than a memory address to where the key and value\\nobjects are kept in memory\\n\""
            ]
          },
          "metadata": {
            "tags": []
          },
          "execution_count": 7
        }
      ]
    },
    {
      "cell_type": "code",
      "metadata": {
        "colab": {
          "base_uri": "https://localhost:8080/"
        },
        "id": "4qM7ZK474UKN",
        "outputId": "830d0996-8ab2-4e72-af06-d8b954d0ae8f"
      },
      "source": [
        "# suppose we want to find Elmo's phone number\n",
        "\n",
        "# list version\n",
        "for i in phone_list:\n",
        "  if i[0] == 'Elmo':\n",
        "    print(\"Elmo's phone number:\", i[1])\n",
        "\n",
        "\n",
        "# dictioary version\n",
        "print(\"Elmo's phone number:\", phone_dict['Elmo'])"
      ],
      "execution_count": null,
      "outputs": [
        {
          "output_type": "stream",
          "text": [
            "Elmo's phone number: 889\n",
            "Elmo's phone number: 889\n"
          ],
          "name": "stdout"
        }
      ]
    },
    {
      "cell_type": "markdown",
      "metadata": {
        "id": "sayuZwDp16Ey"
      },
      "source": [
        "Dictionaries are much faster than lists!"
      ]
    },
    {
      "cell_type": "code",
      "metadata": {
        "id": "tTPYUzgIt_iM"
      },
      "source": [
        "n = 10000000\n",
        "\n",
        "rand_dict = {}\n",
        "rand_list = [None] * n # initialize an empty list\n",
        "\n",
        "for i in range(n):\n",
        "  num = random.randint(0,n)\n",
        "  rand_dict[num] = True\n",
        "  rand_list[i] = num"
      ],
      "execution_count": null,
      "outputs": []
    },
    {
      "cell_type": "code",
      "metadata": {
        "colab": {
          "base_uri": "https://localhost:8080/"
        },
        "id": "hTm7UNS6whBg",
        "outputId": "15af5c14-eb83-4137-f097-5699bde831e1"
      },
      "source": [
        "test_num = 165164580000\n",
        "start = time.time()\n",
        "print(test_num in rand_dict)\n",
        "end = time.time()\n",
        "print('Time elapsed:', end - start)"
      ],
      "execution_count": null,
      "outputs": [
        {
          "output_type": "stream",
          "text": [
            "False\n",
            "Time elapsed: 0.0005965232849121094\n"
          ],
          "name": "stdout"
        }
      ]
    },
    {
      "cell_type": "code",
      "metadata": {
        "colab": {
          "base_uri": "https://localhost:8080/"
        },
        "id": "bjAdvzA2yRev",
        "outputId": "3b9723ef-512e-4ea8-fa41-e1ff5a2c4230"
      },
      "source": [
        "start = time.time()\n",
        "print(test_num in rand_list)\n",
        "end = time.time()\n",
        "print('Time elapsed:', end - start)"
      ],
      "execution_count": null,
      "outputs": [
        {
          "output_type": "stream",
          "text": [
            "False\n",
            "Time elapsed: 0.11240863800048828\n"
          ],
          "name": "stdout"
        }
      ]
    },
    {
      "cell_type": "markdown",
      "metadata": {
        "id": "x0XEZiq35XSK"
      },
      "source": [
        "Each obviosly has their place. If you need quick acess to *unsorted* values, use a dictionary. If speed isn't an issue and you want to be able to sort your values, use a list"
      ]
    },
    {
      "cell_type": "markdown",
      "metadata": {
        "id": "jQM5HXNB6tfV"
      },
      "source": [
        "## A note on lists and pointers"
      ]
    },
    {
      "cell_type": "code",
      "metadata": {
        "colab": {
          "base_uri": "https://localhost:8080/"
        },
        "id": "UU4Iu-Pa1PPe",
        "outputId": "997f6a20-1ffa-40e3-b47f-62c70dec75c8"
      },
      "source": [
        "# let's define a list\n",
        "a = [1,2,3,4,5]\n",
        "print(a)"
      ],
      "execution_count": null,
      "outputs": [
        {
          "output_type": "stream",
          "text": [
            "[1, 2, 3, 4, 5]\n"
          ],
          "name": "stdout"
        }
      ]
    },
    {
      "cell_type": "code",
      "metadata": {
        "colab": {
          "base_uri": "https://localhost:8080/"
        },
        "id": "ZpPRWy-X63nq",
        "outputId": "7de40c16-66b1-410b-e0ce-fbf81244dc40"
      },
      "source": [
        "# let's say we want another list just like a\n",
        "b = a\n",
        "print(b)"
      ],
      "execution_count": null,
      "outputs": [
        {
          "output_type": "stream",
          "text": [
            "[1, 2, 3, 4, 5]\n"
          ],
          "name": "stdout"
        }
      ]
    },
    {
      "cell_type": "markdown",
      "metadata": {
        "id": "m0NZOoZc7LOp"
      },
      "source": [
        "b is a *pointer* to list a. Think of this as a home address to where a lives in memory. If we modify b, it also updates a because it is *pointing* to the same spot in memory."
      ]
    },
    {
      "cell_type": "code",
      "metadata": {
        "colab": {
          "base_uri": "https://localhost:8080/"
        },
        "id": "Ausj0mS17B3o",
        "outputId": "273dc882-c383-40f1-ac06-0961b34e7581"
      },
      "source": [
        "b[3] = 7\n",
        "print(b)\n",
        "print(a)"
      ],
      "execution_count": null,
      "outputs": [
        {
          "output_type": "stream",
          "text": [
            "[1, 2, 3, 7, 5]\n",
            "[1, 2, 3, 7, 5]\n"
          ],
          "name": "stdout"
        }
      ]
    },
    {
      "cell_type": "code",
      "metadata": {
        "colab": {
          "base_uri": "https://localhost:8080/"
        },
        "id": "-ikkTN978Cn2",
        "outputId": "1eb9df8c-3c69-46da-8124-92587abf8e17"
      },
      "source": [
        "# a and b, are both stil pointers to the same place in memory.\n",
        "# whatever we do to one, also applies to the other\n",
        "a[3] = 4\n",
        "print(a)\n",
        "print(b)"
      ],
      "execution_count": null,
      "outputs": [
        {
          "output_type": "stream",
          "text": [
            "[1, 2, 3, 4, 5]\n",
            "[1, 2, 3, 4, 5]\n"
          ],
          "name": "stdout"
        }
      ]
    },
    {
      "cell_type": "markdown",
      "metadata": {
        "id": "WMVbzuSL7q4N"
      },
      "source": [
        "If we don't was a pointer to a, but rather a copy that we can modify independently, then we use the following syntax."
      ]
    },
    {
      "cell_type": "code",
      "metadata": {
        "colab": {
          "base_uri": "https://localhost:8080/"
        },
        "id": "cPkUyElC7oth",
        "outputId": "ea08f09f-48c6-4829-9860-0cdc665130b0"
      },
      "source": [
        "c = a[:]\n",
        "c[3] = 9\n",
        "print(c)\n",
        "print(a)"
      ],
      "execution_count": null,
      "outputs": [
        {
          "output_type": "stream",
          "text": [
            "[1, 2, 3, 9, 5]\n",
            "[1, 2, 3, 4, 5]\n"
          ],
          "name": "stdout"
        }
      ]
    },
    {
      "cell_type": "code",
      "metadata": {
        "id": "QihgNnk6_GlH"
      },
      "source": [
        ""
      ],
      "execution_count": null,
      "outputs": []
    }
  ]
}