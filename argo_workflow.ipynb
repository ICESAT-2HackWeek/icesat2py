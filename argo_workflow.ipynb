{
 "cells": [
  {
   "cell_type": "markdown",
   "id": "16806722-f5bb-4063-bd4b-60c8b0d24d2a",
   "metadata": {
    "user_expressions": []
   },
   "source": [
    "# QUEST Example: Finding Argo and ICESat-2 data\n",
    "\n",
    "In this notebook, we are going to find Argo and ICESat-2 data over a region of the Pacific Ocean. Normally, we would require multiple data portals or Python packages to accomplish this. However, thanks to the QUEST module, we can use icepyx to find both!"
   ]
  },
  {
   "cell_type": "code",
   "execution_count": null,
   "id": "ed25d839-4114-41db-9166-8c027368686c",
   "metadata": {
    "tags": []
   },
   "outputs": [],
   "source": [
    "# Basic packages\n",
    "import geopandas as gpd\n",
    "import h5py\n",
    "import matplotlib.pyplot as plt\n",
    "import numpy as np\n",
    "from os import listdir\n",
    "from os.path import isfile, join\n",
    "import pandas as pd\n",
    "from pprint import pprint\n",
    "import requests\n",
    "\n",
    "# icepyx and QUEST\n",
    "import icepyx as ipx"
   ]
  },
  {
   "cell_type": "markdown",
   "id": "5c35f5df-b4fb-4a36-8d6f-d20f1552767a",
   "metadata": {
    "user_expressions": []
   },
   "source": [
    "## Define the Quest Object\n",
    "\n",
    "The key to using icepyx for multiple datasets is to use the QUEST module. QUEST builds off of the general querying process originally designed for ICESat-2, but makes it applicable to other datasets.\n",
    "\n",
    "Just like the ICESat-2 Query object, we begin by defining our Quest object. We provide the following bounding parameters:\n",
    "* `spatial_extent`: Data is constrained to the given box over the Pacific Ocean.\n",
    "* `date_range`: Only grab data from April 12-26, 2022."
   ]
  },
  {
   "cell_type": "code",
   "execution_count": null,
   "id": "c5d0546d-f0b8-475d-9fd4-62ace696e316",
   "metadata": {
    "tags": []
   },
   "outputs": [],
   "source": [
    "# Spatial bounds, given as SW/NE corners\n",
    "spatial_extent = [-154, 30, -143, 37]\n",
    "\n",
    "# Start and end dates, in YYYY-MM-DD format\n",
    "date_range = ['2022-04-12', '2022-04-26']\n",
    "\n",
    "# Initialize the QUEST object\n",
    "reg_a = ipx.Quest(spatial_extent=spatial_extent, date_range=date_range)\n",
    "\n",
    "print(reg_a)"
   ]
  },
  {
   "cell_type": "markdown",
   "id": "8732bf56-1d44-4182-83f7-4303a87d231a",
   "metadata": {
    "user_expressions": []
   },
   "source": [
    "Notice that we have defined our spatial and temporal domains, but we do not have any datasets in our QUEST object. The next section leads us through that process."
   ]
  },
  {
   "cell_type": "markdown",
   "id": "1598bbca-3dcb-4b63-aeb1-81c27d92a1a2",
   "metadata": {
    "user_expressions": []
   },
   "source": [
    "## Getting the data\n",
    "\n",
    "Let's first grab the ICESat-2 data. If we want to extract information about the water column, the ATL03 product is likely the desired choice.\n",
    "* `short_name`: ATL03 data only"
   ]
  },
  {
   "cell_type": "code",
   "execution_count": null,
   "id": "309a7b26-cfc3-46fc-a683-43e154412074",
   "metadata": {
    "tags": []
   },
   "outputs": [],
   "source": [
    "# ICESat-2 product\n",
    "short_name = 'ATL03'\n",
    "\n",
    "# Add ICESat-2 to QUEST datasets\n",
    "reg_a.add_icesat2(product=short_name)\n",
    "print(reg_a)"
   ]
  },
  {
   "cell_type": "markdown",
   "id": "ad4bbcfe-3199-4a28-8739-c930d1572538",
   "metadata": {
    "user_expressions": []
   },
   "source": [
    "Let's see the available files over this region."
   ]
  },
  {
   "cell_type": "code",
   "execution_count": null,
   "id": "a2b4e56f-ceff-45e7-b52c-e7725dc6c812",
   "metadata": {
    "tags": []
   },
   "outputs": [],
   "source": [
    "pprint(reg_a.datasets['icesat2'].avail_granules(ids=True))"
   ]
  },
  {
   "cell_type": "markdown",
   "id": "7a081854-dae4-4e99-a550-02c02a71b6de",
   "metadata": {
    "user_expressions": []
   },
   "source": [
    "Note that many of the ICESat-2 functions shown here are the same as those used for normal icepyx queries. The user is referred to other examples for detailed explanations about other icepyx features.\n",
    "\n",
    "Downloading ICESat-2 data requires Earthdata login credentials, and the `download_all()` function below gives an authentication check when attempting to access the ICESat-2 files."
   ]
  },
  {
   "cell_type": "markdown",
   "id": "8264515a-00f1-4f57-b927-668a71294079",
   "metadata": {
    "user_expressions": []
   },
   "source": [
    "Now let's grab Argo data using the same constraints. This is as simple as using the below function."
   ]
  },
  {
   "cell_type": "code",
   "execution_count": null,
   "id": "c857fdcc-e271-4960-86a9-02f693cc13fe",
   "metadata": {
    "tags": []
   },
   "outputs": [],
   "source": [
    "# Add argo to the desired QUEST datasets\n",
    "reg_a.add_argo()"
   ]
  },
  {
   "cell_type": "markdown",
   "id": "70d36566-0d3c-4781-a199-09bb11dad975",
   "metadata": {
    "user_expressions": []
   },
   "source": [
    "Now we can access the data for both Argo and ICESat-2! The below function will do this for us.\n",
    "\n",
    "**Important**: With our current code, the Argo data will be compiled into a Pandas DataFrame, which must be manually saved by the user. The ICESat-2 data is saved as processed HDF-5 files to the directory given below."
   ]
  },
  {
   "cell_type": "code",
   "execution_count": null,
   "id": "a818c5d7-d69a-4aad-90a2-bc670a54c3a7",
   "metadata": {
    "tags": []
   },
   "outputs": [],
   "source": [
    "# Access Argo and ICESat-2 data simultaneously\n",
    "reg_a.download_all('/home/jovyan/icesat2-snowex/icepyx/quest-test-data/')"
   ]
  },
  {
   "cell_type": "markdown",
   "id": "6970f0ad-9364-4732-a5e6-f93cf3fc31a3",
   "metadata": {
    "user_expressions": []
   },
   "source": [
    "If the code worked correctly, then there should be 19 available Argo profiles, each containing `temperature` and `pressure`, compiled into a Pandas DataFrame. When BGC Argo is fully implemented to QUEST, we could add more variables to this list.\n",
    "\n",
    "We also have a series of files containing ICESat-2 ATL03 data. Because these data files are very large, we are only going to focus on one of these files for this example.\n",
    "\n",
    "Let's now load one of the ICESat-2 files and see where it passes relative to the Argo float data."
   ]
  },
  {
   "cell_type": "code",
   "execution_count": null,
   "id": "976ed530-1dc9-412f-9d2d-e51abd28c564",
   "metadata": {
    "tags": []
   },
   "outputs": [],
   "source": [
    "# Load ICESat-2 latitudes, longitudes, heights, and photon confidence (optional)\n",
    "path_root = '/home/jovyan/icesat2-snowex/icepyx/quest-test-data/'\n",
    "\n",
    "is2_pd = pd.DataFrame()\n",
    "with h5py.File(f'{path_root}processed_ATL03_20220419002753_04111506_006_02.h5', 'r') as f:\n",
    "    is2_pd['lat'] = f['gt2l/heights/lat_ph'][:]\n",
    "    is2_pd['lon'] = f['gt2l/heights/lon_ph'][:]\n",
    "    is2_pd['height'] = f['gt2l/heights/h_ph'][:]\n",
    "    is2_pd['signal_conf'] = f['gt2l/heights/signal_conf_ph'][:,1]\n",
    "    \n",
    "# Set Argo data as its own DataFrame\n",
    "argo_df = reg_a.datasets['argo'].argodata"
   ]
  },
  {
   "cell_type": "code",
   "execution_count": null,
   "id": "f9a3b8cf-f3b9-4522-841b-bf760672e37f",
   "metadata": {
    "tags": []
   },
   "outputs": [],
   "source": [
    "# Convert both DataFrames into GeoDataFrames\n",
    "is2_gdf = gpd.GeoDataFrame(is2_pd, \n",
    "                           geometry=gpd.points_from_xy(is2_pd.lon, is2_pd.lat),\n",
    "                           crs='EPSG:4326'\n",
    ")\n",
    "argo_gdf = gpd.GeoDataFrame(argo_df, \n",
    "                            geometry=gpd.points_from_xy(argo_df.lon, argo_df.lat),\n",
    "                            crs='EPSG:4326'\n",
    ")"
   ]
  },
  {
   "cell_type": "markdown",
   "id": "86cb8463-dc14-4c1d-853e-faf7bf4300a5",
   "metadata": {
    "user_expressions": []
   },
   "source": [
    "To view the relative locations of ICESat-2 and Argo, the below cell uses the `explore()` function from GeoPandas. For large datasets like ICESat-2, loading the map might take a while."
   ]
  },
  {
   "cell_type": "code",
   "execution_count": null,
   "id": "5ff40f7b-3a0f-4e32-8187-322a5b7cb44d",
   "metadata": {
    "tags": []
   },
   "outputs": [],
   "source": [
    "# Plot ICESat-2 track (medium/high confidence photons only) on a map\n",
    "m = is2_gdf[is2_gdf['signal_conf']>=3].explore(tiles='Esri.WorldImagery',\n",
    "                                             name='ICESat-2')\n",
    "\n",
    "# Add Argo float locations to map\n",
    "argo_gdf.explore(m=m, name='Argo', marker_kwds={\"radius\": 6}, color='red')"
   ]
  },
  {
   "cell_type": "markdown",
   "id": "8b7063ec-a2f8-4509-a7ce-5b0482b48682",
   "metadata": {
    "user_expressions": []
   },
   "source": [
    "While we're at it, let's plot temperature and pressure profiles for each of the Argo floats in the area."
   ]
  },
  {
   "cell_type": "code",
   "execution_count": null,
   "id": "da2748b7-b174-4abb-a44a-bd73d1d36eba",
   "metadata": {
    "tags": []
   },
   "outputs": [],
   "source": [
    "# Plot vertical profile of temperature vs. pressure for all of the floats\n",
    "fig, ax = plt.subplots(figsize=(12, 6))\n",
    "for pid in np.unique(argo_df['profile_id']):\n",
    "    argo_df[argo_df['profile_id']==pid].plot(ax=ax, x='temperature', y='pressure', label=pid)\n",
    "plt.gca().invert_yaxis()\n",
    "plt.xlabel('Temperature [$\\degree$C]')\n",
    "plt.ylabel('Pressure [hPa]')\n",
    "plt.ylim([750, -10])\n",
    "plt.tight_layout()"
   ]
  },
  {
   "cell_type": "markdown",
   "id": "08481fbb-2298-432b-bd50-df2e1ca45cf5",
   "metadata": {
    "user_expressions": []
   },
   "source": [
    "Lastly, let's look at some near-coincident ICESat-2 and Argo data in a multi-panel plot."
   ]
  },
  {
   "cell_type": "code",
   "execution_count": null,
   "id": "1269de3c-c15d-4120-8284-3b072069d5ee",
   "metadata": {
    "tags": []
   },
   "outputs": [],
   "source": [
    "# Only consider ICESat-2 signal photons\n",
    "is2_pd_signal = is2_pd[is2_pd['signal_conf']>0]\n",
    "\n",
    "## Multi-panel plot showing ICESat-2 and Argo data\n",
    "\n",
    "# Calculate Extent\n",
    "lons = [-154, -143, -143, -154, -154]\n",
    "lats = [30, 30, 37, 37, 30]\n",
    "lon_margin = (max(lons) - min(lons)) * 0.1\n",
    "lat_margin = (max(lats) - min(lats)) * 0.1\n",
    "\n",
    "# Create Plot\n",
    "fig,([ax1,ax2],[ax3,ax4]) = plt.subplots(2, 2, figsize=(12, 6))\n",
    "\n",
    "# Plot Relative Global View\n",
    "world = gpd.read_file(gpd.datasets.get_path('naturalearth_lowres'))\n",
    "world.plot(ax=ax1, color='0.8', edgecolor='black')\n",
    "argo_df.plot.scatter(ax=ax1, x='lon', y='lat', s=25.0, c='green', zorder=3, alpha=0.3)\n",
    "is2_pd.plot.scatter(ax=ax1, x='lon', y='lat', s=10.0, zorder=2, alpha=0.3)\n",
    "ax1.plot(lons, lats, linewidth=1.5, color='orange', zorder=2)\n",
    "#df.plot(ax=ax2, x='lon', y='lat', marker='o', color='red', markersize=2.5, zorder=3)\n",
    "ax1.set_xlim(-160,-100)\n",
    "ax1.set_ylim(20,50)\n",
    "ax1.set_aspect('equal', adjustable='box')\n",
    "ax1.set_xlabel('Longitude', fontsize=18)\n",
    "ax1.set_ylabel('Latitude', fontsize=18)\n",
    "\n",
    "# Plot Zoomed View of Ground Tracks\n",
    "argo_df.plot.scatter(ax=ax2, x='lon', y='lat', s=50.0, c='green', zorder=3, alpha=0.3)\n",
    "is2_pd.plot.scatter(ax=ax2, x='lon', y='lat', s=10.0, zorder=2, alpha=0.3)\n",
    "ax2.plot(lons, lats, linewidth=1.5, color='orange', zorder=1)\n",
    "ax2.scatter(-151.98956, 34.43885, color='orange', marker='^', s=80, zorder=4)\n",
    "ax2.set_xlim(min(lons) - lon_margin, max(lons) + lon_margin)\n",
    "ax2.set_ylim(min(lats) - lat_margin, max(lats) + lat_margin)\n",
    "ax2.set_aspect('equal', adjustable='box')\n",
    "ax2.set_xlabel('Longitude', fontsize=18)\n",
    "ax2.set_ylabel('Latitude', fontsize=18)\n",
    "\n",
    "# Plot ICESat-2 along-track vertical profile. A dotted line notes the location of a nearby Argo float\n",
    "is2 = ax3.scatter(is2_pd_signal['lat'], is2_pd_signal['height'], s=0.1)\n",
    "ax3.axvline(34.43885, linestyle='--', linewidth=3, color='black')\n",
    "ax3.set_xlim([34.3, 34.5])\n",
    "ax3.set_ylim([-15, 5])\n",
    "ax3.set_xlabel('Latitude', fontsize=18)\n",
    "ax3.set_ylabel('Approx. IS-2 Depth [m]', fontsize=16)\n",
    "ax3.set_yticklabels(['15', '10', '5', '0', '-5'])\n",
    "\n",
    "# Plot vertical ocean profile of the nearby Argo float\n",
    "argo_df[argo_df['profile_id']=='4903409_053'].plot(ax=ax4, x='temperature', y='pressure', linewidth=3)\n",
    "ax4.set_yscale('log')\n",
    "ax4.invert_yaxis()\n",
    "ax4.get_legend().remove()\n",
    "ax4.set_xlabel('Temperature [$\\degree$C]', fontsize=18)\n",
    "ax4.set_ylabel('Argo Pressure', fontsize=16)\n",
    "\n",
    "plt.tight_layout()\n",
    "\n",
    "# Save figure\n",
    "#plt.savefig('/home/jovyan/icepyx/is2_argo_figure.png', dpi=500)"
   ]
  }
 ],
 "metadata": {
  "kernelspec": {
   "display_name": "base",
   "language": "python",
   "name": "base"
  },
  "language_info": {
   "codemirror_mode": {
    "name": "ipython",
    "version": 3
   },
   "file_extension": ".py",
   "mimetype": "text/x-python",
   "name": "python",
   "nbconvert_exporter": "python",
   "pygments_lexer": "ipython3",
   "version": "3.10.12"
  }
 },
 "nbformat": 4,
 "nbformat_minor": 5
}
